{
 "cells": [
  {
   "cell_type": "markdown",
   "id": "d3ad1208",
   "metadata": {},
   "source": [
    "# Atividade"
   ]
  },
  {
   "cell_type": "markdown",
   "id": "ccd5e0c5",
   "metadata": {},
   "source": [
    "## Carregando os dados"
   ]
  },
  {
   "cell_type": "code",
   "execution_count": 1,
   "id": "0dcefe28",
   "metadata": {
    "tags": []
   },
   "outputs": [],
   "source": [
    "import requests\n",
    "import pandas as pd\n",
    "\n",
    "\n",
    "url = \"https://dados-mba-python-2023.s3.amazonaws.com/carro_atividade1.csv\"\n",
    "r = requests.get(url, stream=True)\n"
   ]
  },
  {
   "cell_type": "code",
   "execution_count": 2,
   "id": "47594e1a-4e1a-4426-aa21-dc675c88ae26",
   "metadata": {
    "tags": []
   },
   "outputs": [],
   "source": [
    "\n",
    "df_carros = pd.read_csv(url,sep=',',names=['preço_compra','preço_manutenção','portas','pessoas','porta-malas','segurança','classe'])"
   ]
  },
  {
   "cell_type": "markdown",
   "id": "a7d86420",
   "metadata": {},
   "source": [
    "## 1. Mostre o DataFrame::"
   ]
  },
  {
   "cell_type": "code",
   "execution_count": 3,
   "id": "d140a7f3-74d7-47e8-ab53-be3763cbe678",
   "metadata": {
    "tags": []
   },
   "outputs": [
    {
     "data": {
      "text/html": [
       "<div>\n",
       "<style scoped>\n",
       "    .dataframe tbody tr th:only-of-type {\n",
       "        vertical-align: middle;\n",
       "    }\n",
       "\n",
       "    .dataframe tbody tr th {\n",
       "        vertical-align: top;\n",
       "    }\n",
       "\n",
       "    .dataframe thead th {\n",
       "        text-align: right;\n",
       "    }\n",
       "</style>\n",
       "<table border=\"1\" class=\"dataframe\">\n",
       "  <thead>\n",
       "    <tr style=\"text-align: right;\">\n",
       "      <th></th>\n",
       "      <th>preço_compra</th>\n",
       "      <th>preço_manutenção</th>\n",
       "      <th>portas</th>\n",
       "      <th>pessoas</th>\n",
       "      <th>porta-malas</th>\n",
       "      <th>segurança</th>\n",
       "      <th>classe</th>\n",
       "    </tr>\n",
       "  </thead>\n",
       "  <tbody>\n",
       "    <tr>\n",
       "      <th>0</th>\n",
       "      <td>m_alta</td>\n",
       "      <td>med</td>\n",
       "      <td>2</td>\n",
       "      <td>4</td>\n",
       "      <td>pequeno</td>\n",
       "      <td>alta</td>\n",
       "      <td>aceito</td>\n",
       "    </tr>\n",
       "    <tr>\n",
       "      <th>1</th>\n",
       "      <td>m_alta</td>\n",
       "      <td>med</td>\n",
       "      <td>2</td>\n",
       "      <td>4</td>\n",
       "      <td>med</td>\n",
       "      <td>alta</td>\n",
       "      <td>aceito</td>\n",
       "    </tr>\n",
       "    <tr>\n",
       "      <th>2</th>\n",
       "      <td>m_alta</td>\n",
       "      <td>med</td>\n",
       "      <td>2</td>\n",
       "      <td>4</td>\n",
       "      <td>grande</td>\n",
       "      <td>med</td>\n",
       "      <td>aceito</td>\n",
       "    </tr>\n",
       "    <tr>\n",
       "      <th>3</th>\n",
       "      <td>m_alta</td>\n",
       "      <td>med</td>\n",
       "      <td>2</td>\n",
       "      <td>4</td>\n",
       "      <td>grande</td>\n",
       "      <td>alta</td>\n",
       "      <td>aceito</td>\n",
       "    </tr>\n",
       "    <tr>\n",
       "      <th>4</th>\n",
       "      <td>m_alta</td>\n",
       "      <td>med</td>\n",
       "      <td>2</td>\n",
       "      <td>more</td>\n",
       "      <td>med</td>\n",
       "      <td>alta</td>\n",
       "      <td>aceito</td>\n",
       "    </tr>\n",
       "  </tbody>\n",
       "</table>\n",
       "</div>"
      ],
      "text/plain": [
       "  preço_compra preço_manutenção  portas pessoas porta-malas segurança  classe\n",
       "0       m_alta              med       2       4     pequeno      alta  aceito\n",
       "1       m_alta              med       2       4         med      alta  aceito\n",
       "2       m_alta              med       2       4      grande       med  aceito\n",
       "3       m_alta              med       2       4      grande      alta  aceito\n",
       "4       m_alta              med       2    more         med      alta  aceito"
      ]
     },
     "execution_count": 3,
     "metadata": {},
     "output_type": "execute_result"
    }
   ],
   "source": [
    "# Escreva seu código aqui\n",
    "dfc = pd.DataFrame(df_carros)\n",
    "dfc.head()"
   ]
  },
  {
   "cell_type": "markdown",
   "id": "82ba3e48",
   "metadata": {},
   "source": [
    "## 2. Quais tipos de dados nós temos?"
   ]
  },
  {
   "cell_type": "code",
   "execution_count": 4,
   "id": "8bbc7b2d-03df-4ae0-b366-c90ae5a86f8e",
   "metadata": {
    "tags": []
   },
   "outputs": [
    {
     "data": {
      "text/plain": [
       "preço_compra        object\n",
       "preço_manutenção    object\n",
       "portas               int64\n",
       "pessoas             object\n",
       "porta-malas         object\n",
       "segurança           object\n",
       "classe              object\n",
       "dtype: object"
      ]
     },
     "execution_count": 4,
     "metadata": {},
     "output_type": "execute_result"
    }
   ],
   "source": [
    "# Escreva seu código aqui\n",
    "dfc.dtypes"
   ]
  },
  {
   "cell_type": "markdown",
   "id": "3059fe5d",
   "metadata": {},
   "source": [
    "## 3. Do ponto de vista estatístico, como se comporta o atributo 'portas' (maior valor, menor valor etc.)?  "
   ]
  },
  {
   "cell_type": "code",
   "execution_count": 5,
   "id": "0545f58b-993a-49ee-8c53-e067d3382775",
   "metadata": {
    "tags": []
   },
   "outputs": [
    {
     "data": {
      "text/plain": [
       "count    1728.000000\n",
       "mean        3.567130\n",
       "std         1.257799\n",
       "min         2.000000\n",
       "25%         2.750000\n",
       "50%         3.500000\n",
       "75%         4.250000\n",
       "max         7.000000\n",
       "Name: portas, dtype: float64"
      ]
     },
     "execution_count": 5,
     "metadata": {},
     "output_type": "execute_result"
    }
   ],
   "source": [
    "# Escreva seu código aqui\n",
    "dfc['portas'].describe()"
   ]
  },
  {
   "cell_type": "markdown",
   "id": "6d9250db",
   "metadata": {},
   "source": [
    "## 4. Quantos valores diferentes encontramos no atributo ‘porta_malas’?"
   ]
  },
  {
   "cell_type": "code",
   "execution_count": 6,
   "id": "bb824b9e-1320-4967-a82c-7d2a95572e8b",
   "metadata": {
    "tags": []
   },
   "outputs": [
    {
     "data": {
      "text/plain": [
       "porta-malas\n",
       "pequeno    576\n",
       "med        576\n",
       "grande     576\n",
       "Name: count, dtype: int64"
      ]
     },
     "execution_count": 6,
     "metadata": {},
     "output_type": "execute_result"
    }
   ],
   "source": [
    "# Escreva seu código aqui\n",
    "dfc['porta-malas'].value_counts()"
   ]
  },
  {
   "cell_type": "markdown",
   "id": "d34afbd8",
   "metadata": {},
   "source": [
    "Considerando que para treinarmos uma rede neural (criarmos um modelo) para prever se um dado modelo de veículo terá uma boa aceitação no mercado, os dados devem estar rotulados como: 'aceito' e 'n_aceito'. \n",
    "\n",
    "## 5. Os dados atuais atendem esse requisito?"
   ]
  },
  {
   "cell_type": "code",
   "execution_count": 7,
   "id": "16802b86-fc42-4387-925c-a652a654c6f8",
   "metadata": {
    "tags": []
   },
   "outputs": [
    {
     "data": {
      "text/plain": [
       "classe\n",
       "n_aceito    1210\n",
       "aceito       384\n",
       "bom           69\n",
       "m_bom         65\n",
       "Name: count, dtype: int64"
      ]
     },
     "execution_count": 7,
     "metadata": {},
     "output_type": "execute_result"
    }
   ],
   "source": [
    "# Escreva seu código aqui\n",
    "dfc['classe'].value_counts()"
   ]
  },
  {
   "cell_type": "markdown",
   "id": "a79891c6-1791-45be-a60a-5dc69f900ab1",
   "metadata": {},
   "source": [
    "Não, pois existem dados diferentes dos rótulos 'aceito e 'n_aceito', como: 'bom' e 'm_bom'"
   ]
  },
  {
   "cell_type": "markdown",
   "id": "99f818b8",
   "metadata": {},
   "source": [
    "## 6. Existe alguma discrepância no atributo portas?\n",
    "\n",
    "Dica: use um gráfico de caixa."
   ]
  },
  {
   "cell_type": "code",
   "execution_count": 8,
   "id": "ba835334",
   "metadata": {
    "tags": []
   },
   "outputs": [],
   "source": [
    "# Escreva seu código aqui\n",
    "import matplotlib.pyplot as plt\n",
    "%matplotlib inline"
   ]
  },
  {
   "cell_type": "code",
   "execution_count": 9,
   "id": "5754aa70",
   "metadata": {
    "scrolled": true
   },
   "outputs": [
    {
     "data": {
      "text/plain": [
       "portas\n",
       "2    432\n",
       "3    432\n",
       "4    432\n",
       "5    374\n",
       "7     58\n",
       "Name: count, dtype: int64"
      ]
     },
     "execution_count": 9,
     "metadata": {},
     "output_type": "execute_result"
    }
   ],
   "source": [
    "dfc['portas'].value_counts()"
   ]
  },
  {
   "cell_type": "code",
   "execution_count": 10,
   "id": "edc3c842",
   "metadata": {},
   "outputs": [
    {
     "data": {
      "text/plain": [
       "<Axes: >"
      ]
     },
     "execution_count": 10,
     "metadata": {},
     "output_type": "execute_result"
    },
    {
     "data": {
      "image/png": "[encoded data removed]",
      "text/plain": [
       "<Figure size 640x480 with 1 Axes>"
      ]
     },
     "metadata": {},
     "output_type": "display_data"
    }
   ],
   "source": [
    "dfc['portas'].plot.box()"
   ]
  },
  {
   "cell_type": "markdown",
   "id": "0b43aef3",
   "metadata": {},
   "source": [
    "Existe uma possível descrepância, no caso dos carros com 7 portas. O que demanda análise para confirmar essa descrepância."
   ]
  },
  {
   "cell_type": "markdown",
   "id": "323e2c43",
   "metadata": {},
   "source": [
    "## 7. Analisando o alvo (target)\n",
    "\n",
    "Que informações você consegue obter analisando o target?"
   ]
  },
  {
   "cell_type": "code",
   "execution_count": 11,
   "id": "1e1ef3dd",
   "metadata": {
    "tags": []
   },
   "outputs": [],
   "source": [
    "# Escreva seu código aqui"
   ]
  },
  {
   "cell_type": "code",
   "execution_count": 12,
   "id": "eb329044",
   "metadata": {},
   "outputs": [
    {
     "data": {
      "text/plain": [
       "Index(['preço_compra', 'preço_manutenção', 'portas', 'pessoas', 'porta-malas',\n",
       "       'segurança', 'classe'],\n",
       "      dtype='object')"
      ]
     },
     "execution_count": 12,
     "metadata": {},
     "output_type": "execute_result"
    }
   ],
   "source": [
    "dfcc = dfc\n",
    "classe_cat = {'n_aceito':0,'aceito':1,'bom':2,'m_bom':3}\n",
    "dfcc['classe']= dfc['classe'].replace(classe_cat)\n",
    "dfcc.columns"
   ]
  },
  {
   "cell_type": "code",
   "execution_count": 13,
   "id": "6a4d900b",
   "metadata": {},
   "outputs": [
    {
     "data": {
      "text/plain": [
       "<Axes: xlabel='classe', ylabel='preço_compra'>"
      ]
     },
     "execution_count": 13,
     "metadata": {},
     "output_type": "execute_result"
    },
    {
     "data": {
      "image/png": "[encoded data removed]",
      "text/plain": [
       "<Figure size 640x480 with 1 Axes>"
      ]
     },
     "metadata": {},
     "output_type": "display_data"
    }
   ],
   "source": [
    "dfcc.plot.scatter(y='preço_compra',x='classe')"
   ]
  },
  {
   "cell_type": "code",
   "execution_count": 14,
   "id": "1c14aabe",
   "metadata": {},
   "outputs": [
    {
     "data": {
      "text/plain": [
       "<Axes: xlabel='classe', ylabel='preço_manutenção'>"
      ]
     },
     "execution_count": 14,
     "metadata": {},
     "output_type": "execute_result"
    },
    {
     "data": {
      "image/png": "[encoded data removed]",
      "text/plain": [
       "<Figure size 640x480 with 1 Axes>"
      ]
     },
     "metadata": {},
     "output_type": "display_data"
    }
   ],
   "source": [
    "dfcc.plot.scatter(y='preço_manutenção',x='classe')"
   ]
  },
  {
   "cell_type": "code",
   "execution_count": 15,
   "id": "15001e4e",
   "metadata": {},
   "outputs": [
    {
     "data": {
      "text/plain": [
       "<Axes: xlabel='classe', ylabel='pessoas'>"
      ]
     },
     "execution_count": 15,
     "metadata": {},
     "output_type": "execute_result"
    },
    {
     "data": {
      "image/png": "[encoded data removed]",
      "text/plain": [
       "<Figure size 640x480 with 1 Axes>"
      ]
     },
     "metadata": {},
     "output_type": "display_data"
    }
   ],
   "source": [
    "dfcc.plot.scatter(y='pessoas',x='classe')"
   ]
  },
  {
   "cell_type": "code",
   "execution_count": 16,
   "id": "e67beccc",
   "metadata": {},
   "outputs": [
    {
     "data": {
      "text/plain": [
       "<Axes: xlabel='classe', ylabel='porta-malas'>"
      ]
     },
     "execution_count": 16,
     "metadata": {},
     "output_type": "execute_result"
    },
    {
     "data": {
      "image/png": "[encoded data removed]",
      "text/plain": [
       "<Figure size 640x480 with 1 Axes>"
      ]
     },
     "metadata": {},
     "output_type": "display_data"
    }
   ],
   "source": [
    "dfcc.plot.scatter(y='porta-malas',x='classe')"
   ]
  },
  {
   "cell_type": "code",
   "execution_count": 17,
   "id": "8c4ec85b",
   "metadata": {},
   "outputs": [
    {
     "data": {
      "text/plain": [
       "<Axes: xlabel='classe', ylabel='segurança'>"
      ]
     },
     "execution_count": 17,
     "metadata": {},
     "output_type": "execute_result"
    },
    {
     "data": {
      "image/png": "[encoded data removed]",
      "text/plain": [
       "<Figure size 640x480 with 1 Axes>"
      ]
     },
     "metadata": {},
     "output_type": "display_data"
    }
   ],
   "source": [
    "dfcc.plot.scatter(y='segurança',x='classe')"
   ]
  },
  {
   "cell_type": "code",
   "execution_count": null,
   "id": "5904131e",
   "metadata": {},
   "outputs": [],
   "source": []
  }
 ],
 "metadata": {
  "kernelspec": {
   "display_name": "Python 3 (ipykernel)",
   "language": "python",
   "name": "python3"
  },
  "language_info": {
   "codemirror_mode": {
    "name": "ipython",
    "version": 3
   },
   "file_extension": ".py",
   "mimetype": "text/x-python",
   "name": "python",
   "nbconvert_exporter": "python",
   "pygments_lexer": "ipython3",
   "version": "3.10.11"
  }
 },
 "nbformat": 4,
 "nbformat_minor": 5
}
