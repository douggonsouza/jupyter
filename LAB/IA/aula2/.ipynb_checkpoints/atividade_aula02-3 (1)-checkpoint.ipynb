{
 "cells": [
  {
   "cell_type": "markdown",
   "id": "d3ad1208",
   "metadata": {},
   "source": [
    "# Atividade"
   ]
  },
  {
   "cell_type": "markdown",
   "id": "ccd5e0c5",
   "metadata": {},
   "source": [
    "## Carregando os dados"
   ]
  },
  {
   "cell_type": "code",
   "execution_count": null,
   "id": "0dcefe28",
   "metadata": {
    "tags": []
   },
   "outputs": [],
   "source": [
    "import requests\n",
    "import pandas as pd\n",
    "\n",
    "\n",
    "url = \"https://dados-mba-python-2023.s3.amazonaws.com/carro_atividade1.csv\"\n",
    "r = requests.get(url, stream=True)\n"
   ]
  },
  {
   "cell_type": "code",
   "execution_count": null,
   "id": "47594e1a-4e1a-4426-aa21-dc675c88ae26",
   "metadata": {
    "tags": []
   },
   "outputs": [],
   "source": [
    "\n",
    "df_carros = pd.read_csv(url,sep=',',names=['preço_compra','preço_manutenção','portas','pessoas','porta-malas','segurança','classe'])"
   ]
  },
  {
   "cell_type": "markdown",
   "id": "a7d86420",
   "metadata": {},
   "source": [
    "## 1. Mostre o DataFrame::"
   ]
  },
  {
   "cell_type": "code",
   "execution_count": null,
   "id": "d140a7f3-74d7-47e8-ab53-be3763cbe678",
   "metadata": {
    "tags": []
   },
   "outputs": [],
   "source": [
    "# Escreva seu código aqui\n",
    "dfc = pd.DataFrame(df_carros)\n",
    "dfc.head()"
   ]
  },
  {
   "cell_type": "markdown",
   "id": "82ba3e48",
   "metadata": {},
   "source": [
    "## 2. Quais tipos de dados nós temos?"
   ]
  },
  {
   "cell_type": "code",
   "execution_count": null,
   "id": "8bbc7b2d-03df-4ae0-b366-c90ae5a86f8e",
   "metadata": {
    "tags": []
   },
   "outputs": [],
   "source": [
    "# Escreva seu código aqui\n",
    "dfc.dtypes"
   ]
  },
  {
   "cell_type": "markdown",
   "id": "3059fe5d",
   "metadata": {},
   "source": [
    "## 3. Do ponto de vista estatístico, como se comporta o atributo 'portas' (maior valor, menor valor etc.)?  "
   ]
  },
  {
   "cell_type": "code",
   "execution_count": null,
   "id": "0545f58b-993a-49ee-8c53-e067d3382775",
   "metadata": {
    "tags": []
   },
   "outputs": [],
   "source": [
    "# Escreva seu código aqui\n",
    "dfc['portas'].describe()"
   ]
  },
  {
   "cell_type": "markdown",
   "id": "6d9250db",
   "metadata": {},
   "source": [
    "## 4. Quantos valores diferentes encontramos no atributo ‘porta_malas’?"
   ]
  },
  {
   "cell_type": "code",
   "execution_count": null,
   "id": "bb824b9e-1320-4967-a82c-7d2a95572e8b",
   "metadata": {
    "tags": []
   },
   "outputs": [],
   "source": [
    "# Escreva seu código aqui\n",
    "dfc['porta-malas'].value_counts()"
   ]
  },
  {
   "cell_type": "markdown",
   "id": "d34afbd8",
   "metadata": {},
   "source": [
    "Considerando que para treinarmos uma rede neural (criarmos um modelo) para prever se um dado modelo de veículo terá uma boa aceitação no mercado, os dados devem estar rotulados como: 'aceito' e 'n_aceito'. \n",
    "\n",
    "## 5. Os dados atuais atendem esse requisito?"
   ]
  },
  {
   "cell_type": "code",
   "execution_count": null,
   "id": "16802b86-fc42-4387-925c-a652a654c6f8",
   "metadata": {
    "tags": []
   },
   "outputs": [],
   "source": [
    "# Escreva seu código aqui\n",
    "dfc['classe'].value_counts()"
   ]
  },
  {
   "cell_type": "markdown",
   "id": "a79891c6-1791-45be-a60a-5dc69f900ab1",
   "metadata": {},
   "source": [
    "Não é aceito pois existem dados que estão fora das opções aceitas as quais são: 'aceito' e 'n_aceito'"
   ]
  },
  {
   "cell_type": "markdown",
   "id": "99f818b8",
   "metadata": {},
   "source": [
    "## 6. Existe alguma discrepância no atributo portas?\n",
    "\n",
    "Dica: use um gráfico de caixa."
   ]
  },
  {
   "cell_type": "code",
   "execution_count": null,
   "id": "ba835334",
   "metadata": {
    "tags": []
   },
   "outputs": [],
   "source": [
    "# Escreva seu código aqui\n",
    "import matplotlib.pyplot as plt\n",
    "import numpy as np\n",
    "%matplotlib inline"
   ]
  },
  {
   "cell_type": "code",
   "execution_count": null,
   "id": "63b93da1",
   "metadata": {},
   "outputs": [],
   "source": [
    "pm = []\n",
    "# for tm in dfc['porta-malas']:\n",
    "#     if tm == 'pequeno':\n",
    "#         pm = [[1],[0],[0]]\n",
    "#     if tm == 'med':\n",
    "#         pm = [[0],[1],[0]]\n",
    "#     if tm == 'grande':\n",
    "#         pm = [[0],[0],[1]]"
   ]
  },
  {
   "cell_type": "code",
   "execution_count": null,
   "id": "33a8e2f4",
   "metadata": {},
   "outputs": [],
   "source": [
    "print(pm)"
   ]
  },
  {
   "cell_type": "code",
   "execution_count": null,
   "id": "7bc63a1a-9e57-48ac-bdc9-00aadfd4c527",
   "metadata": {
    "tags": []
   },
   "outputs": [],
   "source": [
    "plt.boxplot(pm[])"
   ]
  },
  {
   "cell_type": "markdown",
   "id": "323e2c43",
   "metadata": {},
   "source": [
    "## 7. Analisando o alvo (target)\n",
    "\n",
    "Que informações você consegue obter analisando o target?"
   ]
  },
  {
   "cell_type": "code",
   "execution_count": null,
   "id": "1e1ef3dd",
   "metadata": {
    "tags": []
   },
   "outputs": [],
   "source": [
    "# Escreva seu código aqui"
   ]
  },
  {
   "cell_type": "code",
   "execution_count": null,
   "id": "822849af-bcaa-43f4-b40e-b455533eaf52",
   "metadata": {},
   "outputs": [],
   "source": []
  }
 ],
 "metadata": {
  "kernelspec": {
   "display_name": "Python 3 (ipykernel)",
   "language": "python",
   "name": "python3"
  },
  "language_info": {
   "codemirror_mode": {
    "name": "ipython",
    "version": 3
   },
   "file_extension": ".py",
   "mimetype": "text/x-python",
   "name": "python",
   "nbconvert_exporter": "python",
   "pygments_lexer": "ipython3",
   "version": "3.9.12"
  }
 },
 "nbformat": 4,
 "nbformat_minor": 5
}
