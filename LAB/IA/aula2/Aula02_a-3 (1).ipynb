{
 "cells": [
  {
   "cell_type": "markdown",
   "id": "5546f651",
   "metadata": {},
   "source": [
    " \n",
    "# Apresentação do cenário de negócios\n",
    "\n",
    "Você trabalha para um provedor de serviços médicos e deseja melhorar a detecção de anormalidades em pacientes ortopédicos. \n",
    "\n",
    "Você tem a incumbência de resolver esse problema usando machine learning (ML). Você tem acesso a um conjunto de dados que contém seis componentes biomecânicos (features) e um alvo (target) de *normal* (normal) ou *abnormal* (anormal). Você pode usar esse conjunto de dados (datasets) para treinar um modelo de ML para prever se um paciente terá uma anomalia.\n",
    "\n",
    "## Sobre esse conjunto de dados\n",
    "Esse conjunto de dados (dataset) biomédicos foi criado pelo Dr. Henrique da Mota durante um período de residência médica no Group of Applied Research in Orthopaedics (GARO) do Centre Médico-Chirurgical de Réadaptation des Massues em Lyon, na França. Os dados foram organizados em duas tarefas de classificação diferentes, mas relacionadas. \n",
    "\n",
    "A primeira tarefa consiste em classificar os pacientes como pertencentes a uma das três categorias a seguir: \n",
    "\n",
    "- *Normal* (Normal) (100 pacientes)\n",
    "- *Disk Hernia* (Hérnia de disco) (60 pacientes)\n",
    "- *Spondylolisthesis* (Espondilolistese) (150 pacientes)\n",
    "\n",
    "As categorias *Disk Hernia* (Hérnia de disco) e *Spondylolisthesis* (Espondilolistese) foram mescladas em uma única categoria, rotulada como *abnormal* (anormal). Portanto, a atividade consiste em classificar os pacientes como pertencentes a uma das categorias: *Normal* (Normal) (100 pacientes) ou *Abnormal* (Anormal) (210 pacientes).\n",
    "\n",
    "\n",
    "## Informações de atributo\n",
    "\n",
    "Cada paciente é representado no conjunto de dados por seis atributos biomecânicos derivados da forma e da orientação da pelve e da coluna lombar (nesta ordem): \n",
    "\n",
    "- Incidência pélvica\n",
    "- Inclinação pélvica\n",
    "- Ângulo da lordose lombar\n",
    "- Inclinação sacral\n",
    "- Raio pélvico\n",
    "- Grau de espondilolistese\n",
    "\n",
    "A convenção a seguir é usada para os rótulos de classe (labels): \n",
    "- DH (hérnia de disco)\n",
    "- Espondilolistese (SL)\n",
    "- Normal (NO) \n",
    "- Anormal (AB)\n",
    "\n",
    "\n",
    "Para obter mais informações sobre esse conjunto de dados, consulte a [página da Web Conjunto de dados de coluna vertebral](http://archive.ics.uci.edu/ml/datasets/Vertebral+Column).\n",
    "\n"
   ]
  },
  {
   "cell_type": "markdown",
   "id": "ebb85e82",
   "metadata": {},
   "source": [
    "# Coletar e Rotular o Conjunto de Dados (dataset)"
   ]
  },
  {
   "cell_type": "markdown",
   "id": "4958fa0d",
   "metadata": {},
   "source": [
    "## Fonte dos dados"
   ]
  },
  {
   "cell_type": "markdown",
   "id": "17db613a",
   "metadata": {},
   "source": [
    "Dua, D. and Graff, C. (2019). UCI machine learning Repository: https://archive.ics.uci.edu/ml/index.php. Irvine, CA: University of California, School of Information and Computer Science."
   ]
  },
  {
   "cell_type": "code",
   "execution_count": 1,
   "id": "ab79684b",
   "metadata": {
    "tags": []
   },
   "outputs": [],
   "source": [
    "url_dataset = 'http://archive.ics.uci.edu/ml/machine-learning-databases/00212/vertebral_column_data.zip'"
   ]
  },
  {
   "cell_type": "markdown",
   "id": "3bc11303",
   "metadata": {},
   "source": [
    "### Desafios:"
   ]
  },
  {
   "cell_type": "markdown",
   "id": "5c32522a",
   "metadata": {},
   "source": [
    "1. Os dados tem que ser acessados via web.\n",
    "2. Os dados estão compactados (zipfiles).\n",
    "3. Os dados estão no formato arff (comum em arquivos usados em aprendizado de máquina)"
   ]
  },
  {
   "cell_type": "markdown",
   "id": "9e79efbb",
   "metadata": {},
   "source": [
    "### Pacote requests  "
   ]
  },
  {
   "cell_type": "markdown",
   "id": "e139bbc1",
   "metadata": {},
   "source": [
    "O objetivo da pacote __requests__ é tornar as solicitações HTTP mais simples e mais amigáveis."
   ]
  },
  {
   "cell_type": "code",
   "execution_count": 2,
   "id": "3810829b",
   "metadata": {
    "tags": []
   },
   "outputs": [
    {
     "name": "stdout",
     "output_type": "stream",
     "text": [
      "200\n"
     ]
    }
   ],
   "source": [
    "# Exemplo de uso do pacote requests\n",
    "import requests\n",
    "r = requests.get('https://www.impacta.com.br')\n",
    "\n",
    "print(r.status_code)"
   ]
  },
  {
   "cell_type": "markdown",
   "id": "87c2b478-6361-44f6-9d2e-2ad3aa7a85d5",
   "metadata": {},
   "source": [
    "Primeiro vamos baixar os dados que estão em um servidor. A próxima célula faz uma solicitação de dados a um  servidor escolhido."
   ]
  },
  {
   "cell_type": "code",
   "execution_count": 4,
   "id": "790f93dd",
   "metadata": {
    "tags": []
   },
   "outputs": [],
   "source": [
    "url_dataset = 'http://archive.ics.uci.edu/ml/machine-learning-databases/00212/vertebral_column_data.zip'\n",
    "\n",
    "# copia os dados do sevido\n",
    "r = requests.get(url_dataset, stream=True)"
   ]
  },
  {
   "cell_type": "markdown",
   "id": "e4343862-4c89-4eca-937a-f23f33719e40",
   "metadata": {},
   "source": [
    "Nesta célula, a função **requests.get()** é usada para enviar uma solicitação HTTP GET para a URL **url_dataset**. \n",
    "\n",
    "A variável **r** conterá o objeto de resposta retornado por request.get(). Ao definir **stream=True**, o conteúdo da resposta será baixado em blocos, em vez de carregar a resposta inteira na memória de uma vez. Isso é útil para lidar com arquivos grandes ou casos em que você deseja processar os dados de forma incremental.\n",
    "\n",
    "O objeto **r** pode ser processado posteriormente para acessar o conteúdo baixado ou salvá-lo em um arquivo, dependendo do noso caso de uso específico."
   ]
  },
  {
   "cell_type": "markdown",
   "id": "bef7e531",
   "metadata": {},
   "source": [
    "### Pacote zipfile e io"
   ]
  },
  {
   "cell_type": "markdown",
   "id": "5a2d8ef7",
   "metadata": {},
   "source": [
    "Como os dados recebidos estão compactados, usaremos o pacote zipfile para manipular esses dados."
   ]
  },
  {
   "cell_type": "code",
   "execution_count": 5,
   "id": "84e1a3a0",
   "metadata": {
    "tags": []
   },
   "outputs": [],
   "source": [
    "import zipfile"
   ]
  },
  {
   "cell_type": "markdown",
   "id": "d3a2dc19-97e9-444e-b0d7-d03398c1d8a7",
   "metadata": {},
   "source": [
    "Como construtor **zipfile.ZipFile** espera um objeto semelhante a um arquivo como entrada, vamos usar os recursos  biblioteca **io** para transformar os dados mantidos em memória na variável **r**, em um estrutura de arquivo."
   ]
  },
  {
   "cell_type": "code",
   "execution_count": 6,
   "id": "58052a13-5d6a-461c-a727-2478022d2bc2",
   "metadata": {
    "tags": []
   },
   "outputs": [],
   "source": [
    "import io # O pacote IO serve para lidar com vários tipos de E/S."
   ]
  },
  {
   "cell_type": "markdown",
   "id": "6f74325b",
   "metadata": {},
   "source": [
    "Em seguida, o stream de dados recebidos é passado para a função ZipFile para extrair os dados."
   ]
  },
  {
   "cell_type": "code",
   "execution_count": 8,
   "id": "1234a578",
   "metadata": {
    "tags": []
   },
   "outputs": [],
   "source": [
    "# Extração do arquivo .zip\n",
    "vertebral_zip = zipfile.ZipFile(io.BytesIO(r.content))\n",
    "vertebral_zip.extractall()"
   ]
  },
  {
   "cell_type": "markdown",
   "id": "2a5342a2-c32a-4ae7-b667-3a5ded0c06c6",
   "metadata": {},
   "source": [
    "Ao usar **io.BytesIO(r.content)**, estamos criando um objeto semelhante a um arquivo que pode ser passado para o construtor **ZipFile**.\n",
    "\n",
    "O uso de **io.BytesIO** nos permite trabalhar com o conteúdo do arquivo sem precisar salvá-lo no disco. Ele fornece uma maneira conveniente de lidar com dados na memória e permite que executemos operações como extrair o conteúdo de um arquivo .zip diretamente dos bytes."
   ]
  },
  {
   "cell_type": "markdown",
   "id": "b2ff5ece",
   "metadata": {},
   "source": [
    "No visualizador de arquivos no painel de navegação à esquerda, você verá quatro arquivos novos:\n",
    "- column_2C_weka.arff\n",
    "- column_2C.dat\n",
    "- column_3C_weka.arff \n",
    "- column_3C.dat\n"
   ]
  },
  {
   "cell_type": "markdown",
   "id": "4c46afa7",
   "metadata": {},
   "source": [
    "### Pacote Scipy"
   ]
  },
  {
   "cell_type": "markdown",
   "id": "cea81ffb",
   "metadata": {},
   "source": [
    "Como os dados recebidos estão no formato **ARRF**, vamos primeiro eliminar os metadados antes de começar a analisarmos os dados propriamente dito. Para essa tarefa usaremos o pacote **scipy**."
   ]
  },
  {
   "cell_type": "code",
   "execution_count": 9,
   "id": "0d6f06bb",
   "metadata": {
    "tags": []
   },
   "outputs": [],
   "source": [
    "from scipy.io import arff"
   ]
  },
  {
   "cell_type": "markdown",
   "id": "1a1800dd-d51b-4c69-8946-54d6919fa6dd",
   "metadata": {},
   "source": [
    "ARFF (Attribute-Relation File Format) é um formato de arquivo utilizado para representar dados estruturados em um formato tabular. \n",
    "Os arquivos ARFF são semelhantes aos arquivos CSV (Comma-Separated Values), pois também armazenam dados em formato tabular. No entanto, os arquivos ARFF possuem recursos adicionais para especificar informações sobre os atributos e seus tipos.\n",
    "\n",
    "Um arquivo ARFF consiste em duas seções principais: a seção de cabeçalho e a seção de dados.\n",
    "A seção de cabeçalho contém informações sobre os atributos presentes nos dados, incluindo seus nomes, tipos (numérico, nominal, etc.) e possíveis valores. Essas informações ajudam a definir a estrutura dos dados e permitem uma interpretação adequada.\n",
    "\n",
    "A seção de dados contém os próprios dados organizados em linhas e colunas, seguindo a estrutura definida na seção de cabeçalho. Cada linha representa uma instância ou exemplo, enquanto as colunas correspondem aos atributos.\n",
    "\n",
    "Os arquivos ARFF são comumente utilizados em conjunto com ferramentas de mineração de dados e aprendizado de máquina, como o Weka, para importar, exportar e analisar conjuntos de dados. Eles fornecem uma estrutura padronizada e facilmente interpretável para compartilhar e trabalhar com dados tabulares."
   ]
  },
  {
   "cell_type": "code",
   "execution_count": 10,
   "id": "a34f7853",
   "metadata": {
    "tags": []
   },
   "outputs": [],
   "source": [
    "# Le o arquivo column_2C_weka.arff \n",
    "dados_metadados = arff.loadarff('column_2C_weka.arff')"
   ]
  },
  {
   "cell_type": "markdown",
   "id": "d4293171-62fb-453a-8e7a-28d2bae2e854",
   "metadata": {},
   "source": [
    "A função **loadarff** é chamada com o nome de arquivo '**column_2C_weka.arff'** como parâmetro de entrada. A função lê o arquivo ARFF e retorna uma tupla contendo dois elementos: os dados e os metadados.\n",
    "\n",
    "A variável dados é atribuída a esta tupla. Normalmente, **dados_metadados[0]** conterá os dados reais, que podem ser acessados para processamento ou análise posterior. Os metadados, armazenados em **dados_metadados[1]**, fornecem informações sobre os atributos, seus tipos e qualquer informação adicional especificada no arquivo ARFF.\n",
    "\n",
    "Para acessar os dados, podemos usar **dados_metadados[0]** ou atribuí-los a uma variável separada, como **dados = dados_metadados[0]**. A partir daí, podemos manipular e analisar os dados conforme necessário."
   ]
  },
  {
   "cell_type": "code",
   "execution_count": 11,
   "id": "8f916435-db77-4b88-b2ef-da7e18ed7321",
   "metadata": {
    "tags": []
   },
   "outputs": [],
   "source": [
    "dados = dados_metadados[0]"
   ]
  },
  {
   "cell_type": "code",
   "execution_count": 12,
   "id": "ce5a9cdf-6bb1-4ea1-9245-4e7698422e07",
   "metadata": {
    "tags": []
   },
   "outputs": [
    {
     "name": "stdout",
     "output_type": "stream",
     "text": [
      "(array([( 63.0278175 , 22.55258597,  39.60911701,  40.47523153,  98.67291675, -2.54399986e-01, b'Abnormal'),\n",
      "       ( 39.05695098, 10.06099147,  25.01537822,  28.99595951, 114.4054254 ,  4.56425864e+00, b'Abnormal'),\n",
      "       ( 68.83202098, 22.21848205,  50.09219357,  46.61353893, 105.9851355 , -3.53031731e+00, b'Abnormal'),\n",
      "       ( 69.29700807, 24.65287791,  44.31123813,  44.64413017, 101.8684951 ,  1.12115234e+01, b'Abnormal'),\n",
      "       ( 49.71285934,  9.65207488,  28.317406  ,  40.06078446, 108.1687249 ,  7.91850062e+00, b'Abnormal'),\n",
      "       ( 40.25019968, 13.92190658,  25.1249496 ,  26.32829311, 130.3278713 ,  2.23065173e+00, b'Abnormal'),\n",
      "       ( 53.43292815, 15.86433612,  37.16593387,  37.56859203, 120.5675233 ,  5.98855070e+00, b'Abnormal'),\n",
      "       ( 45.36675362, 10.75561143,  29.03834896,  34.61114218, 117.2700675 , -1.06758708e+01, b'Abnormal'),\n",
      "       ( 43.79019026, 13.5337531 ,  42.69081398,  30.25643716, 125.0028927 ,  1.32890182e+01, b'Abnormal'),\n",
      "       ( 36.68635286,  5.01088412,  41.9487509 ,  31.67546874,  84.24141517,  6.64437117e-01, b'Abnormal'),\n",
      "       ( 49.70660953, 13.04097405,  31.33450009,  36.66563548, 108.6482654 , -7.82598575e+00, b'Abnormal'),\n",
      "       ( 31.23238734, 17.71581923,  15.5       ,  13.51656811, 120.0553988 ,  4.99751446e-01, b'Abnormal'),\n",
      "       ( 48.91555137, 19.96455616,  40.26379358,  28.95099521, 119.321358  ,  8.02889463e+00, b'Abnormal'),\n",
      "       ( 53.5721702 , 20.46082824,  33.1       ,  33.11134196, 110.9666978 ,  7.04480294e+00, b'Abnormal'),\n",
      "       ( 57.30022656, 24.1888846 ,  46.99999999,  33.11134196, 116.8065868 ,  5.76694694e+00, b'Abnormal'),\n",
      "       ( 44.31890674, 12.53799164,  36.098763  ,  31.78091509, 124.1158358 ,  5.41582514e+00, b'Abnormal'),\n",
      "       ( 63.83498162, 20.36250706,  54.55243367,  43.47247456, 112.3094915 , -6.22526643e-01, b'Abnormal'),\n",
      "       ( 31.27601184,  3.14466948,  32.56299592,  28.13134236, 129.0114183 ,  3.62302007e+00, b'Abnormal'),\n",
      "       ( 38.69791243, 13.44474904,  31.        ,  25.25316339, 123.1592507 ,  1.42918576e+00, b'Abnormal'),\n",
      "       ( 41.72996308, 12.25407408,  30.12258646,  29.475889  , 116.5857056 , -1.24440249e+00, b'Abnormal'),\n",
      "       ( 43.92283983, 14.17795853,  37.8325467 ,  29.7448813 , 134.4610156 ,  6.45164764e+00, b'Abnormal'),\n",
      "       ( 54.91944259, 21.06233245,  42.19999999,  33.85711014, 125.2127163 ,  2.43256144e+00, b'Abnormal'),\n",
      "       ( 63.07361096, 24.41380271,  53.99999999,  38.65980825, 106.4243295 ,  1.57796968e+01, b'Abnormal'),\n",
      "       ( 45.54078988, 13.06959759,  30.29832059,  32.47119229, 117.9808303 , -4.98712962e+00, b'Abnormal'),\n",
      "       ( 36.12568347, 22.75875277,  29.        ,  13.3669307 , 115.5771163 , -3.23756249e+00, b'Abnormal'),\n",
      "       ( 54.12492019, 26.65048856,  35.32974693,  27.47443163, 121.447011  ,  1.57120482e+00, b'Abnormal'),\n",
      "       ( 26.14792141, 10.75945357,  14.        ,  15.38846783, 125.2032956 , -1.00931082e+01, b'Abnormal'),\n",
      "       ( 43.58096394, 16.5088837 ,  46.99999999,  27.07208024, 109.271634  ,  8.99281573e+00, b'Abnormal'),\n",
      "       ( 44.5510115 , 21.93114655,  26.78591597,  22.61986495, 111.0729197 ,  2.65232064e+00, b'Abnormal'),\n",
      "       ( 66.87921138, 24.89199889,  49.27859673,  41.9872125 , 113.4770183 , -2.00589175e+00, b'Abnormal'),\n",
      "       ( 50.81926781, 15.40221253,  42.52893886,  35.41705528, 112.192804  ,  1.08695655e+01, b'Abnormal'),\n",
      "       ( 46.39026008, 11.07904664,  32.13655345,  35.31121344,  98.77454633,  6.38683165e+00, b'Abnormal'),\n",
      "       ( 44.93667457, 17.44383762,  27.78057555,  27.49283695, 117.9803245 ,  5.56961959e+00, b'Abnormal'),\n",
      "       ( 38.66325708, 12.98644139,  39.99999999,  25.67681568, 124.914118  ,  2.70300805e+00, b'Abnormal'),\n",
      "       ( 59.59554032, 31.99824445,  46.56025198,  27.59729587, 119.3303537 ,  1.47428584e+00, b'Abnormal'),\n",
      "       ( 31.48421834,  7.82622134,  24.28481815,  23.657997  , 113.8331446 ,  4.39308050e+00, b'Abnormal'),\n",
      "       ( 32.09098679,  6.98937808,  35.99819848,  25.10160871, 132.264735  ,  6.41342771e+00, b'Abnormal'),\n",
      "       ( 35.70345781, 19.44325311,  20.7       ,  16.26020471, 137.5406125 , -2.63489651e-01, b'Abnormal'),\n",
      "       ( 55.84328595, 28.84744756,  47.69054322,  26.99583839, 123.3118449 ,  2.81242686e+00, b'Abnormal'),\n",
      "       ( 52.41938511, 19.01156052,  35.87265953,  33.40782459, 116.5597709 ,  1.69470510e+00, b'Abnormal'),\n",
      "       ( 35.49244617, 11.7016723 ,  15.59036345,  23.79077387, 106.9388517 , -3.46035799e+00, b'Abnormal'),\n",
      "       ( 46.44207842,  8.39503589,  29.0372302 ,  38.04704253, 115.4814047 ,  2.04547580e+00, b'Abnormal'),\n",
      "       ( 53.85479842, 19.23064334,  32.77905978,  34.62415508, 121.6709148 ,  5.32984320e+00, b'Abnormal'),\n",
      "       ( 66.28539377, 26.32784484,  47.49999999,  39.95754893, 121.2196839 , -7.99624469e-01, b'Abnormal'),\n",
      "       ( 56.03021778, 16.2979149 ,  62.27527456,  39.73230287, 114.0231172 , -2.32568384e+00, b'Abnormal'),\n",
      "       ( 50.91244034, 23.01516931,  46.99999999,  27.89727103, 117.4222591 , -2.52670151e+00, b'Abnormal'),\n",
      "       ( 48.332638  , 22.22778399,  36.18199318,  26.10485401, 117.3846251 ,  6.48170910e+00, b'Abnormal'),\n",
      "       ( 41.35250407, 16.57736351,  30.70619135,  24.77514057, 113.2666746 , -4.49795756e+00, b'Abnormal'),\n",
      "       ( 40.55735663, 17.97778407,  34.        ,  22.57957256, 121.0462458 , -1.53738307e+00, b'Abnormal'),\n",
      "       ( 41.76773173, 17.89940172,  20.0308863 ,  23.86833001, 118.3633889 ,  2.06296255e+00, b'Abnormal'),\n",
      "       ( 55.28585178, 20.44011836,  34.        ,  34.84573342, 115.8770174 ,  3.55837236e+00, b'Abnormal'),\n",
      "       ( 74.43359316, 41.55733141,  27.7       ,  32.87626175, 107.9493045 ,  5.00008879e+00, b'Abnormal'),\n",
      "       ( 50.20966979, 29.76012218,  36.10400731,  20.44954761, 128.2925148 ,  5.74061408e+00, b'Abnormal'),\n",
      "       ( 30.14993632, 11.91744524,  34.        ,  18.23249108, 112.6841408 ,  1.14632233e+01, b'Abnormal'),\n",
      "       ( 41.17167989, 17.32120599,  33.46940277,  23.85047391, 116.3778894 , -9.56924986e+00, b'Abnormal'),\n",
      "       ( 47.65772963, 13.27738491,  36.67998541,  34.38034472,  98.24978071,  6.27301217e+00, b'Abnormal'),\n",
      "       ( 43.34960621,  7.46746896,  28.06548279,  35.88213725, 112.7761866 ,  5.75327746e+00, b'Abnormal'),\n",
      "       ( 46.85578065, 15.35151393,  38.        ,  31.50426672, 116.2509174 ,  1.66270559e+00, b'Abnormal'),\n",
      "       ( 43.20318499, 19.66314572,  35.        ,  23.54003927, 124.8461088 , -2.91907595e+00, b'Abnormal'),\n",
      "       ( 48.10923638, 14.93072472,  35.56468278,  33.17851166, 124.0564518 ,  7.94790486e+00, b'Abnormal'),\n",
      "       ( 74.37767772, 32.05310438,  78.77201304,  42.32457334, 143.5606905 ,  5.61259060e+01, b'Abnormal'),\n",
      "       ( 89.68056731, 32.70443487,  83.13073216,  56.97613244, 129.9554764 ,  9.20272768e+01, b'Abnormal'),\n",
      "       ( 44.529051  ,  9.43323421,  51.99999999,  35.09581679, 134.7117723 ,  2.91065750e+01, b'Abnormal'),\n",
      "       ( 77.69057712, 21.38064464,  64.42944191,  56.30993248, 114.818751  ,  2.69318410e+01, b'Abnormal'),\n",
      "       ( 76.1472121 , 21.93618556,  82.96150249,  54.21102654, 123.9320096 ,  1.04319719e+01, b'Abnormal'),\n",
      "       ( 83.93300857, 41.28630543,  61.99999999,  42.64670314, 115.012334  ,  2.65881002e+01, b'Abnormal'),\n",
      "       ( 78.49173027, 22.1817978 ,  59.99999999,  56.30993248, 118.5303266 ,  2.73832131e+01, b'Abnormal'),\n",
      "       ( 75.64973136, 19.33979889,  64.14868477,  56.30993248,  95.9036288 ,  6.95513029e+01, b'Abnormal'),\n",
      "       ( 72.07627839, 18.94617604,  50.99999999,  53.13010236, 114.2130126 ,  1.01004051e+00, b'Abnormal'),\n",
      "       ( 58.59952852, -0.26149905,  51.49999999,  58.86102756, 102.0428116 ,  2.80596971e+01, b'Abnormal'),\n",
      "       ( 72.56070163, 17.38519079,  51.99999999,  55.17551084, 119.1937238 ,  3.21085373e+01, b'Abnormal'),\n",
      "       ( 86.90079431, 32.9281677 ,  47.79434664,  53.97262661, 135.0753635 ,  1.01719092e+02, b'Abnormal'),\n",
      "       ( 84.97413208, 33.02117462,  60.85987263,  51.95295747, 125.6595336 ,  7.43334086e+01, b'Abnormal'),\n",
      "       ( 55.512212  , 20.09515673,  43.99999999,  35.41705528, 122.648753  ,  3.45529464e+01, b'Abnormal'),\n",
      "       ( 72.2223343 , 23.07771056,  90.99999999,  49.14462374, 137.7366546 ,  5.68040928e+01, b'Abnormal'),\n",
      "       ( 70.22145219, 39.82272448,  68.11840309,  30.39872771, 148.5255624 ,  1.45378143e+02, b'Abnormal'),\n",
      "       ( 86.75360946, 36.04301632,  69.22104479,  50.71059314, 139.414504  ,  1.10860782e+02, b'Abnormal'),\n",
      "       ( 58.78254775,  7.66704419,  53.33894082,  51.11550357,  98.50115697,  5.15841248e+01, b'Abnormal'),\n",
      "       ( 67.41253785, 17.44279712,  60.14464036,  49.96974073, 111.12397   ,  3.31576457e+01, b'Abnormal'),\n",
      "       ( 47.74467877, 12.08935067,  38.99999999,  35.6553281 , 117.5120039 ,  2.16824014e+01, b'Abnormal'),\n",
      "       ( 77.10657122, 30.46999418,  69.48062839,  46.63657704, 112.1516    ,  7.07590831e+01, b'Abnormal'),\n",
      "       ( 74.00554124, 21.12240192,  57.37950226,  52.88313932, 120.2059626 ,  7.45551659e+01, b'Abnormal'),\n",
      "       ( 88.62390839, 29.08945331,  47.56426247,  59.53445508, 121.7647796 ,  5.18058992e+01, b'Abnormal'),\n",
      "       ( 81.10410039, 24.79416792,  77.88702048,  56.30993247, 151.8398566 ,  6.52146161e+01, b'Abnormal'),\n",
      "       ( 76.32600187, 42.39620445,  57.19999999,  33.92979742, 124.267007  ,  5.01274569e+01, b'Abnormal'),\n",
      "       ( 45.44374959,  9.9060718 ,  44.99999999,  35.53767779, 163.0710405 ,  2.03153153e+01, b'Abnormal'),\n",
      "       ( 59.78526526, 17.87932332,  59.20646143,  41.90594194, 119.3191109 ,  2.21238687e+01, b'Abnormal'),\n",
      "       ( 44.91414916, 10.21899563,  44.63091389,  34.69515353, 130.0756599 ,  3.73645399e+01, b'Abnormal'),\n",
      "       ( 56.60577127, 16.80020017,  41.99999999,  39.80557109, 127.2945222 ,  2.40185747e+01, b'Abnormal'),\n",
      "       ( 71.18681115, 23.89620111,  43.6966651 ,  47.29061004, 119.8649383 ,  2.72839845e+01, b'Abnormal'),\n",
      "       ( 81.65603206, 28.74886935,  58.23282055,  52.9071627 , 114.7698556 ,  3.06091484e+01, b'Abnormal'),\n",
      "       ( 70.95272771, 20.15993121,  62.85910914,  50.7927965 , 116.1779325 ,  3.25223310e+01, b'Abnormal'),\n",
      "       ( 85.35231529, 15.84491006,  71.66865979,  69.50740523, 124.4197875 ,  7.60206034e+01, b'Abnormal'),\n",
      "       ( 58.10193455, 14.83763914,  79.64983825,  43.26429541, 113.5876551 ,  5.02378781e+01, b'Abnormal'),\n",
      "       ( 94.17482232, 15.38076983,  67.70572132,  78.79405249, 114.8901128 ,  5.32552200e+01, b'Abnormal'),\n",
      "       ( 57.52235608, 33.64707522,  50.90985841,  23.87528085, 140.9817119 ,  1.48753711e+02, b'Abnormal'),\n",
      "       ( 96.65731511, 19.46158117,  90.21149828,  77.19573393, 120.6730408 ,  6.40809984e+01, b'Abnormal'),\n",
      "       ( 74.72074622, 19.75694203,  82.73535954,  54.96380419, 109.3565941 ,  3.33060669e+01, b'Abnormal'),\n",
      "       ( 77.65511874, 22.4329501 ,  93.89277881,  55.22216863, 123.0557067 ,  6.12111866e+01, b'Abnormal'),\n",
      "       ( 58.52162283, 13.92228609,  41.46785522,  44.59933674, 115.514798  ,  3.03879839e+01, b'Abnormal'),\n",
      "       ( 84.5856071 , 30.36168482,  65.47948563,  54.22392228, 108.0102185 ,  2.51184785e+01, b'Abnormal'),\n",
      "       ( 79.93857026, 18.7740711 ,  63.31183486,  61.16449915, 114.787107  ,  3.85387413e+01, b'Abnormal'),\n",
      "       ( 70.39930842, 13.46998624,  61.19999999,  56.92932218, 102.3375244 ,  2.55384285e+01, b'Abnormal'),\n",
      "       ( 49.78212054,  6.46680486,  52.99999999,  43.31531568, 110.8647831 ,  2.53356473e+01, b'Abnormal'),\n",
      "       ( 77.40933294, 29.39654543,  63.23230243,  48.0127875 , 118.4507311 ,  9.35637373e+01, b'Abnormal'),\n",
      "       ( 65.00796426, 27.60260762,  50.94751899,  37.40535663, 116.5811088 ,  7.01597788e+00, b'Abnormal'),\n",
      "       ( 65.01377322,  9.83826237,  57.73583722,  55.17551084,  94.73852542,  4.96969546e+01, b'Abnormal'),\n",
      "       ( 78.42595126, 33.42595126,  76.27743927,  45.        , 138.5541111 ,  7.71551724e+01, b'Abnormal'),\n",
      "       ( 63.17298709,  6.33091097,  62.99999999,  56.84207612, 110.6440206 ,  4.26080757e+01, b'Abnormal'),\n",
      "       ( 68.61300092, 15.0822353 ,  63.01469619,  53.53076561, 123.4311742 ,  3.94979866e+01, b'Abnormal'),\n",
      "       ( 63.90063261, 13.7062037 ,  62.12433389,  50.19442891, 114.1292425 ,  4.14228284e+01, b'Abnormal'),\n",
      "       ( 84.99895554, 29.61009772,  83.35219438,  55.38885782, 126.9129899 ,  7.13211754e+01, b'Abnormal'),\n",
      "       ( 42.02138603, -6.55494835,  67.89999999,  48.57633437, 111.5857819 ,  2.73386709e+01, b'Abnormal'),\n",
      "       ( 69.75666532, 19.27929659,  48.49999999,  50.47736873,  96.49136982,  5.11696403e+01, b'Abnormal'),\n",
      "       ( 80.98807441, 36.84317181,  86.96060151,  44.1449026 , 141.0881494 ,  8.58721522e+01, b'Abnormal'),\n",
      "       (129.8340406 ,  8.40447501,  48.38405705, 121.4295656 , 107.690466  ,  4.18543082e+02, b'Abnormal'),\n",
      "       ( 70.48410444, 12.48948765,  62.41714208,  57.99461679, 114.1900488 ,  5.69024478e+01, b'Abnormal'),\n",
      "       ( 86.04127982, 38.75066978,  47.87140494,  47.29061004, 122.0929536 ,  6.19882771e+01, b'Abnormal'),\n",
      "       ( 65.53600255, 24.15748726,  45.77516991,  41.3785153 , 136.4403015 ,  1.63780856e+01, b'Abnormal'),\n",
      "       ( 60.7538935 , 15.7538935 ,  43.19915768,  45.        , 113.0533309 ,  3.16935484e+01, b'Abnormal'),\n",
      "       ( 54.74177518, 12.09507205,  40.99999999,  42.64670314, 117.6432188 ,  4.03823266e+01, b'Abnormal'),\n",
      "       ( 83.87994081, 23.07742686,  87.14151223,  60.80251395, 124.6460723 ,  8.05556053e+01, b'Abnormal'),\n",
      "       ( 80.07491418, 48.06953097,  52.40343873,  32.00538321, 110.7099121 ,  6.77273160e+01, b'Abnormal'),\n",
      "       ( 65.66534698, 10.54067533,  56.48913545,  55.12467166, 109.1627768 ,  5.39320201e+01, b'Abnormal'),\n",
      "       ( 74.71722805, 14.32167879,  32.5       ,  60.39554926, 107.1822176 ,  3.70170801e+01, b'Abnormal'),\n",
      "       ( 48.06062649,  5.68703213,  57.05716117,  42.37359436,  95.44375749,  3.28358770e+01, b'Abnormal'),\n",
      "       ( 70.67689818, 21.70440224,  59.18116082,  48.97249594, 103.0083545 ,  2.78101478e+01, b'Abnormal'),\n",
      "       ( 80.43342782, 16.998479  ,  66.53601753,  63.43494882, 116.4389807 ,  5.77812500e+01, b'Abnormal'),\n",
      "       ( 90.51396072, 28.27250132,  69.8139423 ,  62.2414594 , 100.8921596 ,  5.88236482e+01, b'Abnormal'),\n",
      "       ( 77.23689752, 16.73762214,  49.77553438,  60.49927538, 110.6903772 ,  3.97871542e+01, b'Abnormal'),\n",
      "       ( 50.06678595,  9.12034018,  32.16846267,  40.94644577,  99.71245318,  2.67666965e+01, b'Abnormal'),\n",
      "       ( 69.78100617, 13.77746531,  57.99999999,  56.00354085, 118.9306656 ,  1.79145605e+01, b'Abnormal'),\n",
      "       ( 69.62628302, 21.12275138,  52.76659472,  48.50353164, 116.8030913 ,  5.48168673e+01, b'Abnormal'),\n",
      "       ( 81.75441933, 20.12346562,  70.56044038,  61.63095371, 119.4250857 ,  5.55068891e+01, b'Abnormal'),\n",
      "       ( 52.20469309, 17.21267289,  78.09496877,  34.9920202 , 136.9725168 ,  5.49391342e+01, b'Abnormal'),\n",
      "       ( 77.12134424, 30.3498745 ,  77.48108264,  46.77146974, 110.6111484 ,  8.20936070e+01, b'Abnormal'),\n",
      "       ( 88.0244989 , 39.84466878,  81.77447308,  48.17983012, 116.6015376 ,  5.67660832e+01, b'Abnormal'),\n",
      "       ( 83.39660609, 34.31098931,  78.42329287,  49.08561678, 110.4665164 ,  4.96720956e+01, b'Abnormal'),\n",
      "       ( 72.05403412, 24.70073725,  79.87401586,  47.35329687, 107.1723576 ,  5.64261587e+01, b'Abnormal'),\n",
      "       ( 85.09550254, 21.06989651,  91.73479193,  64.02560604, 109.062312  ,  3.80328311e+01, b'Abnormal'),\n",
      "       ( 69.56348614, 15.4011391 ,  74.43849743,  54.16234705, 105.0673556 ,  2.97012108e+01, b'Abnormal'),\n",
      "       ( 89.5049473 , 48.90365265,  72.0034229 ,  40.60129465, 134.6342912 ,  1.18353370e+02, b'Abnormal'),\n",
      "       ( 85.29017283, 18.27888963, 100.7442198 ,  67.0112832 , 110.6607005 ,  5.88849480e+01, b'Abnormal'),\n",
      "       ( 60.62621697, 20.5959577 ,  64.53526221,  40.03025927, 117.2255542 ,  1.04859247e+02, b'Abnormal'),\n",
      "       ( 60.04417717, 14.30965614,  58.03886519,  45.73452103, 105.1316639 ,  3.04091331e+01, b'Abnormal'),\n",
      "       ( 85.64378664, 42.68919513,  78.7506635 ,  42.95459151, 105.1440758 ,  4.28874258e+01, b'Abnormal'),\n",
      "       ( 85.58171024, 30.45703858,  78.23137949,  55.12467166, 114.8660487 ,  6.83761218e+01, b'Abnormal'),\n",
      "       ( 55.08076562, -3.75992987,  55.99999999,  58.84069549, 109.9153669 ,  3.17735832e+01, b'Abnormal'),\n",
      "       ( 65.75567895,  9.83287423,  50.82289501,  55.92280472, 104.3949585 ,  3.93072125e+01, b'Abnormal'),\n",
      "       ( 79.24967118, 23.94482471,  40.79669829,  55.30484647,  98.62251165,  3.67063954e+01, b'Abnormal'),\n",
      "       ( 81.11260488, 20.69044356,  60.68700588,  60.42216132,  94.01878339,  4.05109823e+01, b'Abnormal'),\n",
      "       ( 48.0306238 ,  3.96981474,  58.34451924,  44.06080905, 125.3509625 ,  3.50000778e+01, b'Abnormal'),\n",
      "       ( 63.40448058, 14.11532726,  48.13680562,  49.28915333, 111.9160075 ,  3.17844950e+01, b'Abnormal'),\n",
      "       ( 57.28694488, 15.1493501 ,  63.99999999,  42.13759477, 116.7353868 ,  3.03412033e+01, b'Abnormal'),\n",
      "       ( 41.18776972,  5.79297387,  42.86739151,  35.39479584, 103.3488802 ,  2.76602767e+01, b'Abnormal'),\n",
      "       ( 66.80479632, 14.55160171,  72.08491177,  52.25319461,  82.45603817,  4.16854736e+01, b'Abnormal'),\n",
      "       ( 79.4769781 , 26.73226755,  70.65098189,  52.74471055, 118.5886691 ,  6.17005982e+01, b'Abnormal'),\n",
      "       ( 44.21646446,  1.5070745 ,  46.11033909,  42.70938996, 108.6295666 ,  4.28104807e+01, b'Abnormal'),\n",
      "       ( 57.03509717,  0.34572799,  49.19800263,  56.68936918, 103.0486975 ,  5.21651450e+01, b'Abnormal'),\n",
      "       ( 64.27481758, 12.50864276,  68.70237672,  51.76617482,  95.25245421,  3.94098261e+01, b'Abnormal'),\n",
      "       ( 92.02630795, 35.39267395,  77.41696348,  56.633634  , 115.72353   ,  5.80575416e+01, b'Abnormal'),\n",
      "       ( 67.26314926,  7.1946611 ,  51.69688681,  60.06848816,  97.8010854 ,  4.21369433e+01, b'Abnormal'),\n",
      "       (118.1446548 , 38.44950127,  50.83851954,  79.69515353,  81.0245406 ,  7.40437674e+01, b'Abnormal'),\n",
      "       (115.9232606 , 37.51543601,  76.79999999,  78.40782459, 104.6986033 ,  8.11989271e+01, b'Abnormal'),\n",
      "       ( 53.94165809,  9.30659443,  43.10049819,  44.63506366, 124.3978211 ,  2.50821266e+01, b'Abnormal'),\n",
      "       ( 83.7031774 , 20.26822858,  77.1105979 ,  63.43494882, 125.4801739 ,  6.92795710e+01, b'Abnormal'),\n",
      "       ( 56.99140382,  6.87408897,  57.00900516,  50.11731485, 109.978045  ,  3.68101106e+01, b'Abnormal'),\n",
      "       ( 72.34359434, 16.42078962,  59.86901238,  55.92280472,  70.08257486,  1.20726443e+01, b'Abnormal'),\n",
      "       ( 95.38259648, 24.82263131,  95.15763273,  70.55996517,  89.3075466 ,  5.76608413e+01, b'Abnormal'),\n",
      "       ( 44.25347645,  1.10108671,  38.        ,  43.15238973,  98.27410705,  2.39106354e+01, b'Abnormal'),\n",
      "       ( 64.80954139, 15.17407796,  58.83999352,  49.63546343, 111.679961  ,  2.14071984e+01, b'Abnormal'),\n",
      "       ( 78.40125389, 14.04225971,  79.69426258,  64.35899418, 104.7312342 ,  1.23928533e+01, b'Abnormal'),\n",
      "       ( 56.66829282, 13.45820343,  43.76970978,  43.21008939,  93.69220863,  2.11081214e+01, b'Abnormal'),\n",
      "       ( 50.82502875,  9.06472905,  56.29999999,  41.7602997 ,  78.99945411,  2.30415243e+01, b'Abnormal'),\n",
      "       ( 61.41173702, 25.38436364,  39.09686927,  36.02737339, 103.4045971 ,  2.18434069e+01, b'Abnormal'),\n",
      "       ( 56.56382381,  8.96126161,  52.57784639,  47.6025622 ,  98.77711506,  5.07018733e+01, b'Abnormal'),\n",
      "       ( 67.02766447, 13.28150221,  66.15040334,  53.74616226, 100.7154129 ,  3.39891355e+01, b'Abnormal'),\n",
      "       ( 80.81777144, 19.23898066,  61.64245116,  61.57879078,  89.47183446,  4.41676020e+01, b'Abnormal'),\n",
      "       ( 80.65431956, 26.34437939,  60.89811835,  54.30994017, 120.1034928 ,  5.24675518e+01, b'Abnormal'),\n",
      "       ( 68.72190982, 49.4318636 ,  68.0560124 ,  19.29004622, 125.0185168 ,  5.46912893e+01, b'Abnormal'),\n",
      "       ( 37.90391014,  4.47909896,  24.71027447,  33.42481118, 157.848799  ,  3.36070266e+01, b'Abnormal'),\n",
      "       ( 64.62400798, 15.22530262,  67.63216653,  49.39870535,  90.298468  ,  3.13264112e+01, b'Abnormal'),\n",
      "       ( 75.43774787, 31.53945399,  89.59999999,  43.89829388, 106.8295898 ,  5.49657890e+01, b'Abnormal'),\n",
      "       ( 71.00194076, 37.51577195,  84.53709256,  33.48616882, 125.1642324 ,  6.77711898e+01, b'Abnormal'),\n",
      "       ( 81.05661087, 20.80149217,  91.78449512,  60.2551187 , 125.430176  ,  3.81817818e+01, b'Abnormal'),\n",
      "       ( 91.46874146, 24.50817744,  84.62027202,  66.96056402, 117.3078968 ,  5.26230467e+01, b'Abnormal'),\n",
      "       ( 81.08232025, 21.25584028,  78.76675639,  59.82647997,  90.07187999,  4.91594260e+01, b'Abnormal'),\n",
      "       ( 60.419932  ,  5.26566542,  59.8142356 ,  55.15426658, 109.0330745 ,  3.02657853e+01, b'Abnormal'),\n",
      "       ( 85.68094951, 38.65003527,  82.68097744,  47.03091424, 120.8407069 ,  6.19590343e+01, b'Abnormal'),\n",
      "       ( 82.4065243 , 29.27642195,  77.05456489,  53.13010235, 117.0422439 ,  6.27653483e+01, b'Abnormal'),\n",
      "       ( 43.7182623 ,  9.81198531,  51.99999999,  33.90627699,  88.43424213,  4.08809225e+01, b'Abnormal'),\n",
      "       ( 86.472905  , 40.30376567,  61.14101155,  46.16913933,  97.4041888 ,  5.57522215e+01, b'Abnormal'),\n",
      "       ( 74.46908181, 33.28315665,  66.94210105,  41.18592517, 146.4660009 ,  1.24984406e+02, b'Abnormal'),\n",
      "       ( 70.25043628, 10.34012252,  76.37007032,  59.91031376, 119.2370072 ,  3.26665024e+01, b'Abnormal'),\n",
      "       ( 72.64385013, 18.92911726,  67.99999999,  53.71473287, 116.9634162 ,  2.53842468e+01, b'Abnormal'),\n",
      "       ( 71.24176388,  5.26827045,  85.99958417,  65.97349342, 110.703107  ,  3.82598637e+01, b'Abnormal'),\n",
      "       ( 63.7723908 , 12.76338484,  65.36052425,  51.00900596,  89.82274067,  5.59954539e+01, b'Abnormal'),\n",
      "       ( 58.82837872, 37.57787321, 125.7423855 ,  21.25050551, 135.6294176 ,  1.17314683e+02, b'Abnormal'),\n",
      "       ( 74.85448008, 13.90908417,  62.69325884,  60.9453959 , 115.2087008 ,  3.31722551e+01, b'Abnormal'),\n",
      "       ( 75.29847847, 16.67148361,  61.29620362,  58.62699486, 118.8833881 ,  3.15758229e+01, b'Abnormal'),\n",
      "       ( 63.36433898, 20.02462134,  67.49870507,  43.33971763, 130.9992576 ,  3.75567055e+01, b'Abnormal'),\n",
      "       ( 67.51305267, 33.2755899 ,  96.28306169,  34.23746278, 145.6010328 ,  8.83014859e+01, b'Abnormal'),\n",
      "       ( 76.31402766, 41.93368293,  93.2848628 ,  34.38034472, 132.2672855 ,  1.01218783e+02, b'Abnormal'),\n",
      "       ( 73.63596236,  9.71131795,  62.99999999,  63.92464442,  98.72792982,  2.69757872e+01, b'Abnormal'),\n",
      "       ( 56.53505139, 14.37718927,  44.99154663,  42.15786212, 101.7233343 ,  2.57731736e+01, b'Abnormal'),\n",
      "       ( 80.11157156, 33.94243223,  85.10160773,  46.16913933, 125.5936237 ,  1.00292107e+02, b'Abnormal'),\n",
      "       ( 95.48022873, 46.55005318,  58.99999999,  48.93017555,  96.68390337,  7.72830719e+01, b'Abnormal'),\n",
      "       ( 74.09473084, 18.82372712,  76.03215571,  55.27100372, 128.4057314 ,  7.33882162e+01, b'Abnormal'),\n",
      "       ( 87.67908663, 20.36561331,  93.82241589,  67.31347333, 120.9448288 ,  7.67306290e+01, b'Abnormal'),\n",
      "       ( 48.25991962, 16.41746236,  36.32913708,  31.84245726,  94.88233607,  2.83437991e+01, b'Abnormal'),\n",
      "       ( 38.50527283, 16.96429691,  35.11281407,  21.54097592, 127.6328747 ,  7.98668323e+00, b'Normal'),\n",
      "       ( 54.92085752, 18.96842952,  51.60145541,  35.952428  , 125.8466462 ,  2.00164247e+00, b'Normal'),\n",
      "       ( 44.36249017,  8.94543489,  46.90209626,  35.41705528, 129.220682  ,  4.99419529e+00, b'Normal'),\n",
      "       ( 48.3189305 , 17.45212105,  47.99999999,  30.86680945, 128.9803079 , -9.10940567e-01, b'Normal'),\n",
      "       ( 45.70178875, 10.65985935,  42.5778464 ,  35.0419294 , 130.1783144 , -3.38890999e+00, b'Normal'),\n",
      "       ( 30.74193812, 13.35496594,  35.90352597,  17.38697218, 142.4101072 , -2.00537290e+00, b'Normal'),\n",
      "       ( 50.91310144,  6.6769999 ,  30.89652243,  44.23610154, 118.151531  , -1.05798553e+00, b'Normal'),\n",
      "       ( 38.12658854,  6.55761741,  50.44507473,  31.56897113, 132.114805  ,  6.33819934e+00, b'Normal'),\n",
      "       ( 51.62467183, 15.96934373,  35.        ,  35.6553281 , 129.385308  ,  1.00922834e+00, b'Normal'),\n",
      "       ( 64.31186727, 26.32836901,  50.95896417,  37.98349826, 106.1777511 ,  3.11822129e+00, b'Normal'),\n",
      "       ( 44.48927476, 21.78643263,  31.47415392,  22.70284212, 113.7784936 , -2.84129366e-01, b'Normal'),\n",
      "       ( 54.9509702 ,  5.86535342,  52.99999999,  49.08561678, 126.9703283 , -6.31602951e-01, b'Normal'),\n",
      "       ( 56.10377352, 13.10630665,  62.63701952,  42.99746687, 116.2285032 ,  3.11727673e+01, b'Normal'),\n",
      "       ( 69.3988184 , 18.89840693,  75.96636144,  50.50041147, 103.5825398 , -4.43660810e-01, b'Normal'),\n",
      "       ( 89.83467631, 22.63921678,  90.56346144,  67.19545953, 100.5011917 ,  3.04097326e+00, b'Normal'),\n",
      "       ( 59.72614016,  7.7248726 ,  55.34348527,  52.00126756, 125.1742214 ,  3.23515922e+00, b'Normal'),\n",
      "       ( 63.95952166, 16.06094486,  63.12373633,  47.8985768 , 142.3601245 ,  6.29897093e+00, b'Normal'),\n",
      "       ( 61.54059876, 19.67695713,  52.89222856,  41.86364163, 118.6862678 ,  4.81503108e+00, b'Normal'),\n",
      "       ( 38.04655072,  8.30166942,  26.23683004,  29.7448813 , 123.8034132 ,  3.88577349e+00, b'Normal'),\n",
      "       ( 43.43645061, 10.09574326,  36.03222439,  33.34070735, 137.4396942 , -3.11445086e+00, b'Normal'),\n",
      "       ( 65.61180231, 23.13791922,  62.58217893,  42.47388309, 124.1280012 , -4.08329841e+00, b'Normal'),\n",
      "       ( 53.91105429, 12.93931796,  38.99999999,  40.97173633, 118.1930354 ,  5.07435318e+00, b'Normal'),\n",
      "       ( 43.11795103, 13.81574355,  40.34738779,  29.30220748, 128.5177217 ,  9.70926407e-01, b'Normal'),\n",
      "       ( 40.6832291 ,  9.14843719,  31.02159252,  31.53479191, 139.1184721 , -2.51161860e+00, b'Normal'),\n",
      "       ( 37.7319919 ,  9.38629828,  41.99999999,  28.34569362, 135.740926  ,  1.36830467e+01, b'Normal'),\n",
      "       ( 63.92947003, 19.97109671,  40.17704963,  43.95837332, 113.0659387 , -1.10581787e+01, b'Normal'),\n",
      "       ( 61.82162717, 13.59710457,  63.99999999,  48.22452261, 121.779803  ,  1.29619119e+00, b'Normal'),\n",
      "       ( 62.14080535, 13.96097523,  57.99999999,  48.17983012, 133.2818339 ,  4.95510567e+00, b'Normal'),\n",
      "       ( 69.00491277, 13.29178975,  55.5701429 ,  55.71312302, 126.6116215 ,  1.08320111e+01, b'Normal'),\n",
      "       ( 56.44702568, 19.44449915,  43.5778464 ,  37.00252653, 139.1896903 , -1.85968853e+00, b'Normal'),\n",
      "       ( 41.6469159 ,  8.8355491 ,  36.03197484,  32.8113668 , 116.5551679 , -6.05453796e+00, b'Normal'),\n",
      "       ( 51.52935759, 13.51784732,  35.        ,  38.01151027, 126.7185156 ,  1.39283309e+01, b'Normal'),\n",
      "       ( 39.08726449,  5.53660248,  26.93203835,  33.55066201, 131.5844199 , -7.59461350e-01, b'Normal'),\n",
      "       ( 34.64992241,  7.51478278,  42.99999999,  27.13513962, 123.9877408 , -4.08293760e+00, b'Normal'),\n",
      "       ( 63.02630005, 27.33624023,  51.60501665,  35.69005983, 114.5066078 ,  7.43986980e+00, b'Normal'),\n",
      "       ( 47.80555887, 10.68869819,  53.99999999,  37.11686068, 125.3911378 , -4.02523218e-01, b'Normal'),\n",
      "       ( 46.63786363, 15.85371711,  39.99999999,  30.78414653, 119.3776026 ,  9.06458168e+00, b'Normal'),\n",
      "       ( 49.82813487, 16.73643493,  28.        ,  33.09169994, 121.4355585 ,  1.91330704e+00, b'Normal'),\n",
      "       ( 47.31964755,  8.5736803 ,  35.56025198,  38.74596726, 120.5769719 ,  1.63066351e+00, b'Normal'),\n",
      "       ( 50.75329025, 20.23505957,  37.        ,  30.51823068, 122.343516  ,  2.28848775e+00, b'Normal'),\n",
      "       ( 36.15782981, -0.81051409,  33.62731353,  36.96834391, 135.9369096 , -2.09250650e+00, b'Normal'),\n",
      "       ( 40.74699612,  1.83552427,  49.99999999,  38.91147185, 139.2471502 ,  6.68556793e-01, b'Normal'),\n",
      "       ( 42.91804052, -5.84599434,  57.99999999,  48.76403486, 121.6068586 , -3.36204465e+00, b'Normal'),\n",
      "       ( 63.79242525, 21.34532339,  65.99999999,  42.44710185, 119.5503909 ,  1.23826037e+01, b'Normal'),\n",
      "       ( 72.95564397, 19.57697146,  61.00707117,  53.37867251, 111.2340468 ,  8.13491154e-01, b'Normal'),\n",
      "       ( 67.53818154, 14.65504222,  58.00142908,  52.88313932, 123.6322597 ,  2.59702063e+01, b'Normal'),\n",
      "       ( 54.75251965,  9.75251965,  47.99999999,  45.        , 123.0379985 ,  8.23529412e+00, b'Normal'),\n",
      "       ( 50.16007802, -2.97002434,  41.99999999,  53.13010235, 131.8024914 , -8.29020337e+00, b'Normal'),\n",
      "       ( 40.34929637, 10.19474845,  37.96774659,  30.15454792, 128.0099272 ,  4.58901373e-01, b'Normal'),\n",
      "       ( 63.61919213, 16.93450781,  49.34926218,  46.68468432, 117.0897469 , -3.57811974e-01, b'Normal'),\n",
      "       ( 54.14240778, 11.93511014,  42.99999999,  42.20729763, 122.2090834 ,  1.53549242e-01, b'Normal'),\n",
      "       ( 74.97602148, 14.92170492,  53.73007172,  60.05431656, 105.6453997 ,  1.59474773e+00, b'Normal'),\n",
      "       ( 42.51727249, 14.37567126,  25.32356538,  28.14160123, 128.9056892 ,  7.57020140e-01, b'Normal'),\n",
      "       ( 33.78884314,  3.67510999,  25.5       ,  30.11373315, 128.3253556 , -1.77611123e+00, b'Normal'),\n",
      "       ( 54.5036853 ,  6.81991014,  46.99999999,  47.68377516, 111.7911722 , -4.40676901e+00, b'Normal'),\n",
      "       ( 48.17074627,  9.5942167 ,  39.71092029,  38.57652956, 135.6233101 ,  5.36005057e+00, b'Normal'),\n",
      "       ( 46.37408781, 10.21590237,  42.69999999,  36.15818544, 121.2476572 , -5.42022010e-01, b'Normal'),\n",
      "       ( 52.86221391,  9.41037161,  46.98805181,  43.4518423 , 123.0912395 ,  1.85665916e+00, b'Normal'),\n",
      "       ( 57.1458515 , 16.48909145,  42.84214764,  40.65676005, 113.8061775 ,  5.01518570e+00, b'Normal'),\n",
      "       ( 37.14014978, 16.48123972,  24.        ,  20.65891006, 125.0143609 ,  7.36642540e+00, b'Normal'),\n",
      "       ( 51.31177106,  8.87554128,  56.99999999,  42.43622979, 126.4722584 , -2.14404391e+00, b'Normal'),\n",
      "       ( 42.51561014, 16.54121618,  41.99999999,  25.97439396, 120.631941  ,  7.87673069e+00, b'Normal'),\n",
      "       ( 39.35870531,  7.01126181,  37.        ,  32.3474435 , 117.8187599 ,  1.90404820e+00, b'Normal'),\n",
      "       ( 35.8775708 ,  1.11237356,  43.45725694,  34.76519724, 126.9239062 , -1.63223826e+00, b'Normal'),\n",
      "       ( 43.1919153 ,  9.9766638 ,  28.93814927,  33.21525149, 123.4674001 ,  1.74101758e+00, b'Normal'),\n",
      "       ( 67.28971201, 16.7175142 ,  50.99999999,  50.5721978 , 137.5917777 ,  4.96034381e+00, b'Normal'),\n",
      "       ( 51.32546366, 13.63122319,  33.25857782,  37.69424047, 131.3061224 ,  1.78886965e+00, b'Normal'),\n",
      "       ( 65.7563482 , 13.20692644,  43.99999999,  52.54942177, 129.3935728 , -1.98212004e+00, b'Normal'),\n",
      "       ( 40.41336566, -1.3294124 ,  30.98276809,  41.74277806, 119.3356546 , -6.17367482e+00, b'Normal'),\n",
      "       ( 48.80190855, 18.01776202,  51.99999999,  30.78414653, 139.1504066 ,  1.04428617e+01, b'Normal'),\n",
      "       ( 50.08615264, 13.43004422,  34.45754051,  36.65610842, 119.1346221 ,  3.08948446e+00, b'Normal'),\n",
      "       ( 64.26150724, 14.49786554,  43.90250363,  49.76364169, 115.3882683 ,  5.95145437e+00, b'Normal'),\n",
      "       ( 53.68337998, 13.44702168,  41.58429713,  40.23635831, 113.9137026 ,  2.73703529e+00, b'Normal'),\n",
      "       ( 48.99595771, 13.11382047,  51.87351997,  35.88213725, 126.3981876 ,  5.35471617e-01, b'Normal'),\n",
      "       ( 59.16761171, 14.56274875,  43.19915768,  44.60486296, 121.0356423 ,  2.83050412e+00, b'Normal'),\n",
      "       ( 67.80469442, 16.55066167,  43.25680184,  51.25403274, 119.6856451 ,  4.86753994e+00, b'Normal'),\n",
      "       ( 61.73487533, 17.11431203,  46.89999999,  44.6205633 , 120.9201997 ,  3.08772600e+00, b'Normal'),\n",
      "       ( 33.04168754, -0.32467846,  19.0710746 ,  33.366366  , 120.3886112 ,  9.35436493e+00, b'Normal'),\n",
      "       ( 74.56501543, 15.72431994,  58.61858244,  58.84069549, 105.417304  ,  5.99247113e-01, b'Normal'),\n",
      "       ( 44.43070103, 14.17426387,  32.2434952 ,  30.25643716, 131.7176127 , -3.60425534e+00, b'Normal'),\n",
      "       ( 36.42248549, 13.87942449,  20.24256187,  22.543061  , 126.0768612 ,  1.79717077e-01, b'Normal'),\n",
      "       ( 51.07983294, 14.20993529,  35.95122893,  36.86989765, 115.8037111 ,  6.90508996e+00, b'Normal'),\n",
      "       ( 34.75673809,  2.63173965,  29.50438112,  32.12499844, 127.1398495 , -4.60894198e-01, b'Normal'),\n",
      "       ( 48.90290434,  5.58758866,  55.49999999,  43.31531568, 137.1082886 ,  1.98547592e+01, b'Normal'),\n",
      "       ( 46.23639915, 10.0627701 ,  37.        ,  36.17362905, 128.0636203 , -5.10005333e+00, b'Normal'),\n",
      "       ( 46.42636614,  6.62079505,  48.09999999,  39.80557109, 130.3500956 ,  2.44938240e+00, b'Normal'),\n",
      "       ( 39.65690201, 16.20883944,  36.67485694,  23.44806258, 131.922009  , -4.96897988e+00, b'Normal'),\n",
      "       ( 45.57548229, 18.75913544,  33.77414297,  26.81634684, 116.7970069 ,  3.13190992e+00, b'Normal'),\n",
      "       ( 66.50717865, 20.89767207,  31.72747138,  45.60950658, 128.9029049 ,  1.51720336e+00, b'Normal'),\n",
      "       ( 82.90535054, 29.89411893,  58.25054221,  53.01123161, 110.7089577 ,  6.07933783e+00, b'Normal'),\n",
      "       ( 50.67667667,  6.46150127,  35.        ,  44.2151754 , 116.5879699 , -2.14710615e-01, b'Normal'),\n",
      "       ( 89.01487529, 26.07598143,  69.02125897,  62.93889386, 111.4810746 ,  6.06150840e+00, b'Normal'),\n",
      "       ( 54.60031622, 21.48897426,  29.36021618,  33.11134196, 118.3433212 , -1.47106726e+00, b'Normal'),\n",
      "       ( 34.38229939,  2.06268288,  32.39081996,  32.31961651, 128.3001991 , -3.36551555e+00, b'Normal'),\n",
      "       ( 45.07545026, 12.30695118,  44.58317718,  32.76849908, 147.8946372 , -8.94170942e+00, b'Normal'),\n",
      "       ( 47.90356517, 13.61668819,  36.        ,  34.28687698, 117.4490622 , -4.24539542e+00, b'Normal'),\n",
      "       ( 53.93674778, 20.72149628,  29.22053381,  33.21525149, 114.365845  , -4.21010392e-01, b'Normal'),\n",
      "       ( 61.44659663, 22.6949683 ,  46.17034732,  38.75162833, 125.6707246 , -2.70787952e+00, b'Normal'),\n",
      "       ( 45.25279209,  8.69315736,  41.5831264 ,  36.55963472, 118.5458418 ,  2.14750167e-01, b'Normal'),\n",
      "       ( 33.84164075,  5.07399141,  36.64123294,  28.76764934, 123.9452436 , -1.99249089e-01, b'Normal')],\n",
      "      dtype=[('pelvic_incidence', '<f8'), ('pelvic_tilt', '<f8'), ('lumbar_lordosis_angle', '<f8'), ('sacral_slope', '<f8'), ('pelvic_radius', '<f8'), ('degree_spondylolisthesis', '<f8'), ('class', 'S8')]), Dataset: column_2C_weka\n",
      "\tpelvic_incidence's type is numeric\n",
      "\tpelvic_tilt's type is numeric\n",
      "\tlumbar_lordosis_angle's type is numeric\n",
      "\tsacral_slope's type is numeric\n",
      "\tpelvic_radius's type is numeric\n",
      "\tdegree_spondylolisthesis's type is numeric\n",
      "\tclass's type is nominal, range is ('Abnormal', 'Normal')\n",
      ")\n"
     ]
    }
   ],
   "source": [
    "print(dados_metadados)"
   ]
  },
  {
   "cell_type": "markdown",
   "id": "f9f0873b",
   "metadata": {},
   "source": [
    "### Usando Pandas para se familiarizar com seus dados\n",
    "A primeira etapa em qualquer projeto de aprendizado de máquina é familiarizar-se com os dados. Usaremos a biblioteca Pandas para isso. O Pandas é a principal ferramenta que os cientistas de dados usam para explorar e manipular dados. A maioria das pessoas abrevia pandas em seu código como pd. Fazemos isso com o comando"
   ]
  },
  {
   "cell_type": "code",
   "execution_count": 13,
   "id": "9651c98b",
   "metadata": {
    "tags": []
   },
   "outputs": [],
   "source": [
    "import pandas as pd"
   ]
  },
  {
   "cell_type": "markdown",
   "id": "d1f7c7bb-7226-4b38-a2e3-88322a494733",
   "metadata": {},
   "source": [
    "A parte mais importante da biblioteca Pandas é o DataFrame. Um DataFrame contém o tipo de dados que você pode imaginar como uma tabela. Isso é semelhante a uma planilha no Excel ou a uma tabela em um banco de dados SQL.\n",
    "\n",
    "O Pandas possui métodos poderosos para a maioria dos procedimentos desejamos fazer com esse tipo de dados."
   ]
  },
  {
   "cell_type": "code",
   "execution_count": 14,
   "id": "201517a1-d8c5-49cd-95f6-688a1eb48aad",
   "metadata": {
    "tags": []
   },
   "outputs": [
    {
     "data": {
      "text/html": [
       "<div>\n",
       "<style scoped>\n",
       "    .dataframe tbody tr th:only-of-type {\n",
       "        vertical-align: middle;\n",
       "    }\n",
       "\n",
       "    .dataframe tbody tr th {\n",
       "        vertical-align: top;\n",
       "    }\n",
       "\n",
       "    .dataframe thead th {\n",
       "        text-align: right;\n",
       "    }\n",
       "</style>\n",
       "<table border=\"1\" class=\"dataframe\">\n",
       "  <thead>\n",
       "    <tr style=\"text-align: right;\">\n",
       "      <th></th>\n",
       "      <th>pelvic_incidence</th>\n",
       "      <th>pelvic_tilt</th>\n",
       "      <th>lumbar_lordosis_angle</th>\n",
       "      <th>sacral_slope</th>\n",
       "      <th>pelvic_radius</th>\n",
       "      <th>degree_spondylolisthesis</th>\n",
       "      <th>class</th>\n",
       "    </tr>\n",
       "  </thead>\n",
       "  <tbody>\n",
       "    <tr>\n",
       "      <th>0</th>\n",
       "      <td>63.027817</td>\n",
       "      <td>22.552586</td>\n",
       "      <td>39.609117</td>\n",
       "      <td>40.475232</td>\n",
       "      <td>98.672917</td>\n",
       "      <td>-0.254400</td>\n",
       "      <td>b'Abnormal'</td>\n",
       "    </tr>\n",
       "    <tr>\n",
       "      <th>1</th>\n",
       "      <td>39.056951</td>\n",
       "      <td>10.060991</td>\n",
       "      <td>25.015378</td>\n",
       "      <td>28.995960</td>\n",
       "      <td>114.405425</td>\n",
       "      <td>4.564259</td>\n",
       "      <td>b'Abnormal'</td>\n",
       "    </tr>\n",
       "    <tr>\n",
       "      <th>2</th>\n",
       "      <td>68.832021</td>\n",
       "      <td>22.218482</td>\n",
       "      <td>50.092194</td>\n",
       "      <td>46.613539</td>\n",
       "      <td>105.985135</td>\n",
       "      <td>-3.530317</td>\n",
       "      <td>b'Abnormal'</td>\n",
       "    </tr>\n",
       "    <tr>\n",
       "      <th>3</th>\n",
       "      <td>69.297008</td>\n",
       "      <td>24.652878</td>\n",
       "      <td>44.311238</td>\n",
       "      <td>44.644130</td>\n",
       "      <td>101.868495</td>\n",
       "      <td>11.211523</td>\n",
       "      <td>b'Abnormal'</td>\n",
       "    </tr>\n",
       "    <tr>\n",
       "      <th>4</th>\n",
       "      <td>49.712859</td>\n",
       "      <td>9.652075</td>\n",
       "      <td>28.317406</td>\n",
       "      <td>40.060784</td>\n",
       "      <td>108.168725</td>\n",
       "      <td>7.918501</td>\n",
       "      <td>b'Abnormal'</td>\n",
       "    </tr>\n",
       "  </tbody>\n",
       "</table>\n",
       "</div>"
      ],
      "text/plain": [
       "   pelvic_incidence  pelvic_tilt  lumbar_lordosis_angle  sacral_slope  \\\n",
       "0         63.027817    22.552586              39.609117     40.475232   \n",
       "1         39.056951    10.060991              25.015378     28.995960   \n",
       "2         68.832021    22.218482              50.092194     46.613539   \n",
       "3         69.297008    24.652878              44.311238     44.644130   \n",
       "4         49.712859     9.652075              28.317406     40.060784   \n",
       "\n",
       "   pelvic_radius  degree_spondylolisthesis        class  \n",
       "0      98.672917                 -0.254400  b'Abnormal'  \n",
       "1     114.405425                  4.564259  b'Abnormal'  \n",
       "2     105.985135                 -3.530317  b'Abnormal'  \n",
       "3     101.868495                 11.211523  b'Abnormal'  \n",
       "4     108.168725                  7.918501  b'Abnormal'  "
      ]
     },
     "execution_count": 14,
     "metadata": {},
     "output_type": "execute_result"
    }
   ],
   "source": [
    "# Coloca os dados lidos em um DataFrame e mostra na forma de uma tabela.\n",
    "df = pd.DataFrame(dados)\n",
    "df.head()"
   ]
  },
  {
   "cell_type": "code",
   "execution_count": 15,
   "id": "525aed21-46c1-4f0b-b565-1b8c92bfe058",
   "metadata": {
    "tags": []
   },
   "outputs": [
    {
     "data": {
      "text/html": [
       "<div>\n",
       "<style scoped>\n",
       "    .dataframe tbody tr th:only-of-type {\n",
       "        vertical-align: middle;\n",
       "    }\n",
       "\n",
       "    .dataframe tbody tr th {\n",
       "        vertical-align: top;\n",
       "    }\n",
       "\n",
       "    .dataframe thead th {\n",
       "        text-align: right;\n",
       "    }\n",
       "</style>\n",
       "<table border=\"1\" class=\"dataframe\">\n",
       "  <thead>\n",
       "    <tr style=\"text-align: right;\">\n",
       "      <th></th>\n",
       "      <th>pelvic_incidence</th>\n",
       "      <th>pelvic_tilt</th>\n",
       "      <th>lumbar_lordosis_angle</th>\n",
       "      <th>sacral_slope</th>\n",
       "      <th>pelvic_radius</th>\n",
       "      <th>degree_spondylolisthesis</th>\n",
       "      <th>class</th>\n",
       "    </tr>\n",
       "  </thead>\n",
       "  <tbody>\n",
       "    <tr>\n",
       "      <th>0</th>\n",
       "      <td>63.027817</td>\n",
       "      <td>22.552586</td>\n",
       "      <td>39.609117</td>\n",
       "      <td>40.475232</td>\n",
       "      <td>98.672917</td>\n",
       "      <td>-0.254400</td>\n",
       "      <td>b'Abnormal'</td>\n",
       "    </tr>\n",
       "    <tr>\n",
       "      <th>1</th>\n",
       "      <td>39.056951</td>\n",
       "      <td>10.060991</td>\n",
       "      <td>25.015378</td>\n",
       "      <td>28.995960</td>\n",
       "      <td>114.405425</td>\n",
       "      <td>4.564259</td>\n",
       "      <td>b'Abnormal'</td>\n",
       "    </tr>\n",
       "    <tr>\n",
       "      <th>2</th>\n",
       "      <td>68.832021</td>\n",
       "      <td>22.218482</td>\n",
       "      <td>50.092194</td>\n",
       "      <td>46.613539</td>\n",
       "      <td>105.985135</td>\n",
       "      <td>-3.530317</td>\n",
       "      <td>b'Abnormal'</td>\n",
       "    </tr>\n",
       "    <tr>\n",
       "      <th>3</th>\n",
       "      <td>69.297008</td>\n",
       "      <td>24.652878</td>\n",
       "      <td>44.311238</td>\n",
       "      <td>44.644130</td>\n",
       "      <td>101.868495</td>\n",
       "      <td>11.211523</td>\n",
       "      <td>b'Abnormal'</td>\n",
       "    </tr>\n",
       "    <tr>\n",
       "      <th>4</th>\n",
       "      <td>49.712859</td>\n",
       "      <td>9.652075</td>\n",
       "      <td>28.317406</td>\n",
       "      <td>40.060784</td>\n",
       "      <td>108.168725</td>\n",
       "      <td>7.918501</td>\n",
       "      <td>b'Abnormal'</td>\n",
       "    </tr>\n",
       "    <tr>\n",
       "      <th>5</th>\n",
       "      <td>40.250200</td>\n",
       "      <td>13.921907</td>\n",
       "      <td>25.124950</td>\n",
       "      <td>26.328293</td>\n",
       "      <td>130.327871</td>\n",
       "      <td>2.230652</td>\n",
       "      <td>b'Abnormal'</td>\n",
       "    </tr>\n",
       "    <tr>\n",
       "      <th>6</th>\n",
       "      <td>53.432928</td>\n",
       "      <td>15.864336</td>\n",
       "      <td>37.165934</td>\n",
       "      <td>37.568592</td>\n",
       "      <td>120.567523</td>\n",
       "      <td>5.988551</td>\n",
       "      <td>b'Abnormal'</td>\n",
       "    </tr>\n",
       "    <tr>\n",
       "      <th>7</th>\n",
       "      <td>45.366754</td>\n",
       "      <td>10.755611</td>\n",
       "      <td>29.038349</td>\n",
       "      <td>34.611142</td>\n",
       "      <td>117.270067</td>\n",
       "      <td>-10.675871</td>\n",
       "      <td>b'Abnormal'</td>\n",
       "    </tr>\n",
       "    <tr>\n",
       "      <th>8</th>\n",
       "      <td>43.790190</td>\n",
       "      <td>13.533753</td>\n",
       "      <td>42.690814</td>\n",
       "      <td>30.256437</td>\n",
       "      <td>125.002893</td>\n",
       "      <td>13.289018</td>\n",
       "      <td>b'Abnormal'</td>\n",
       "    </tr>\n",
       "    <tr>\n",
       "      <th>9</th>\n",
       "      <td>36.686353</td>\n",
       "      <td>5.010884</td>\n",
       "      <td>41.948751</td>\n",
       "      <td>31.675469</td>\n",
       "      <td>84.241415</td>\n",
       "      <td>0.664437</td>\n",
       "      <td>b'Abnormal'</td>\n",
       "    </tr>\n",
       "    <tr>\n",
       "      <th>10</th>\n",
       "      <td>49.706610</td>\n",
       "      <td>13.040974</td>\n",
       "      <td>31.334500</td>\n",
       "      <td>36.665635</td>\n",
       "      <td>108.648265</td>\n",
       "      <td>-7.825986</td>\n",
       "      <td>b'Abnormal'</td>\n",
       "    </tr>\n",
       "    <tr>\n",
       "      <th>11</th>\n",
       "      <td>31.232387</td>\n",
       "      <td>17.715819</td>\n",
       "      <td>15.500000</td>\n",
       "      <td>13.516568</td>\n",
       "      <td>120.055399</td>\n",
       "      <td>0.499751</td>\n",
       "      <td>b'Abnormal'</td>\n",
       "    </tr>\n",
       "    <tr>\n",
       "      <th>12</th>\n",
       "      <td>48.915551</td>\n",
       "      <td>19.964556</td>\n",
       "      <td>40.263794</td>\n",
       "      <td>28.950995</td>\n",
       "      <td>119.321358</td>\n",
       "      <td>8.028895</td>\n",
       "      <td>b'Abnormal'</td>\n",
       "    </tr>\n",
       "    <tr>\n",
       "      <th>13</th>\n",
       "      <td>53.572170</td>\n",
       "      <td>20.460828</td>\n",
       "      <td>33.100000</td>\n",
       "      <td>33.111342</td>\n",
       "      <td>110.966698</td>\n",
       "      <td>7.044803</td>\n",
       "      <td>b'Abnormal'</td>\n",
       "    </tr>\n",
       "    <tr>\n",
       "      <th>14</th>\n",
       "      <td>57.300227</td>\n",
       "      <td>24.188885</td>\n",
       "      <td>47.000000</td>\n",
       "      <td>33.111342</td>\n",
       "      <td>116.806587</td>\n",
       "      <td>5.766947</td>\n",
       "      <td>b'Abnormal'</td>\n",
       "    </tr>\n",
       "    <tr>\n",
       "      <th>15</th>\n",
       "      <td>44.318907</td>\n",
       "      <td>12.537992</td>\n",
       "      <td>36.098763</td>\n",
       "      <td>31.780915</td>\n",
       "      <td>124.115836</td>\n",
       "      <td>5.415825</td>\n",
       "      <td>b'Abnormal'</td>\n",
       "    </tr>\n",
       "    <tr>\n",
       "      <th>16</th>\n",
       "      <td>63.834982</td>\n",
       "      <td>20.362507</td>\n",
       "      <td>54.552434</td>\n",
       "      <td>43.472475</td>\n",
       "      <td>112.309491</td>\n",
       "      <td>-0.622527</td>\n",
       "      <td>b'Abnormal'</td>\n",
       "    </tr>\n",
       "    <tr>\n",
       "      <th>17</th>\n",
       "      <td>31.276012</td>\n",
       "      <td>3.144669</td>\n",
       "      <td>32.562996</td>\n",
       "      <td>28.131342</td>\n",
       "      <td>129.011418</td>\n",
       "      <td>3.623020</td>\n",
       "      <td>b'Abnormal'</td>\n",
       "    </tr>\n",
       "    <tr>\n",
       "      <th>18</th>\n",
       "      <td>38.697912</td>\n",
       "      <td>13.444749</td>\n",
       "      <td>31.000000</td>\n",
       "      <td>25.253163</td>\n",
       "      <td>123.159251</td>\n",
       "      <td>1.429186</td>\n",
       "      <td>b'Abnormal'</td>\n",
       "    </tr>\n",
       "    <tr>\n",
       "      <th>19</th>\n",
       "      <td>41.729963</td>\n",
       "      <td>12.254074</td>\n",
       "      <td>30.122586</td>\n",
       "      <td>29.475889</td>\n",
       "      <td>116.585706</td>\n",
       "      <td>-1.244402</td>\n",
       "      <td>b'Abnormal'</td>\n",
       "    </tr>\n",
       "    <tr>\n",
       "      <th>20</th>\n",
       "      <td>43.922840</td>\n",
       "      <td>14.177959</td>\n",
       "      <td>37.832547</td>\n",
       "      <td>29.744881</td>\n",
       "      <td>134.461016</td>\n",
       "      <td>6.451648</td>\n",
       "      <td>b'Abnormal'</td>\n",
       "    </tr>\n",
       "    <tr>\n",
       "      <th>21</th>\n",
       "      <td>54.919443</td>\n",
       "      <td>21.062332</td>\n",
       "      <td>42.200000</td>\n",
       "      <td>33.857110</td>\n",
       "      <td>125.212716</td>\n",
       "      <td>2.432561</td>\n",
       "      <td>b'Abnormal'</td>\n",
       "    </tr>\n",
       "    <tr>\n",
       "      <th>22</th>\n",
       "      <td>63.073611</td>\n",
       "      <td>24.413803</td>\n",
       "      <td>54.000000</td>\n",
       "      <td>38.659808</td>\n",
       "      <td>106.424329</td>\n",
       "      <td>15.779697</td>\n",
       "      <td>b'Abnormal'</td>\n",
       "    </tr>\n",
       "    <tr>\n",
       "      <th>23</th>\n",
       "      <td>45.540790</td>\n",
       "      <td>13.069598</td>\n",
       "      <td>30.298321</td>\n",
       "      <td>32.471192</td>\n",
       "      <td>117.980830</td>\n",
       "      <td>-4.987130</td>\n",
       "      <td>b'Abnormal'</td>\n",
       "    </tr>\n",
       "    <tr>\n",
       "      <th>24</th>\n",
       "      <td>36.125683</td>\n",
       "      <td>22.758753</td>\n",
       "      <td>29.000000</td>\n",
       "      <td>13.366931</td>\n",
       "      <td>115.577116</td>\n",
       "      <td>-3.237562</td>\n",
       "      <td>b'Abnormal'</td>\n",
       "    </tr>\n",
       "  </tbody>\n",
       "</table>\n",
       "</div>"
      ],
      "text/plain": [
       "    pelvic_incidence  pelvic_tilt  lumbar_lordosis_angle  sacral_slope  \\\n",
       "0          63.027817    22.552586              39.609117     40.475232   \n",
       "1          39.056951    10.060991              25.015378     28.995960   \n",
       "2          68.832021    22.218482              50.092194     46.613539   \n",
       "3          69.297008    24.652878              44.311238     44.644130   \n",
       "4          49.712859     9.652075              28.317406     40.060784   \n",
       "5          40.250200    13.921907              25.124950     26.328293   \n",
       "6          53.432928    15.864336              37.165934     37.568592   \n",
       "7          45.366754    10.755611              29.038349     34.611142   \n",
       "8          43.790190    13.533753              42.690814     30.256437   \n",
       "9          36.686353     5.010884              41.948751     31.675469   \n",
       "10         49.706610    13.040974              31.334500     36.665635   \n",
       "11         31.232387    17.715819              15.500000     13.516568   \n",
       "12         48.915551    19.964556              40.263794     28.950995   \n",
       "13         53.572170    20.460828              33.100000     33.111342   \n",
       "14         57.300227    24.188885              47.000000     33.111342   \n",
       "15         44.318907    12.537992              36.098763     31.780915   \n",
       "16         63.834982    20.362507              54.552434     43.472475   \n",
       "17         31.276012     3.144669              32.562996     28.131342   \n",
       "18         38.697912    13.444749              31.000000     25.253163   \n",
       "19         41.729963    12.254074              30.122586     29.475889   \n",
       "20         43.922840    14.177959              37.832547     29.744881   \n",
       "21         54.919443    21.062332              42.200000     33.857110   \n",
       "22         63.073611    24.413803              54.000000     38.659808   \n",
       "23         45.540790    13.069598              30.298321     32.471192   \n",
       "24         36.125683    22.758753              29.000000     13.366931   \n",
       "\n",
       "    pelvic_radius  degree_spondylolisthesis        class  \n",
       "0       98.672917                 -0.254400  b'Abnormal'  \n",
       "1      114.405425                  4.564259  b'Abnormal'  \n",
       "2      105.985135                 -3.530317  b'Abnormal'  \n",
       "3      101.868495                 11.211523  b'Abnormal'  \n",
       "4      108.168725                  7.918501  b'Abnormal'  \n",
       "5      130.327871                  2.230652  b'Abnormal'  \n",
       "6      120.567523                  5.988551  b'Abnormal'  \n",
       "7      117.270067                -10.675871  b'Abnormal'  \n",
       "8      125.002893                 13.289018  b'Abnormal'  \n",
       "9       84.241415                  0.664437  b'Abnormal'  \n",
       "10     108.648265                 -7.825986  b'Abnormal'  \n",
       "11     120.055399                  0.499751  b'Abnormal'  \n",
       "12     119.321358                  8.028895  b'Abnormal'  \n",
       "13     110.966698                  7.044803  b'Abnormal'  \n",
       "14     116.806587                  5.766947  b'Abnormal'  \n",
       "15     124.115836                  5.415825  b'Abnormal'  \n",
       "16     112.309491                 -0.622527  b'Abnormal'  \n",
       "17     129.011418                  3.623020  b'Abnormal'  \n",
       "18     123.159251                  1.429186  b'Abnormal'  \n",
       "19     116.585706                 -1.244402  b'Abnormal'  \n",
       "20     134.461016                  6.451648  b'Abnormal'  \n",
       "21     125.212716                  2.432561  b'Abnormal'  \n",
       "22     106.424329                 15.779697  b'Abnormal'  \n",
       "23     117.980830                 -4.987130  b'Abnormal'  \n",
       "24     115.577116                 -3.237562  b'Abnormal'  "
      ]
     },
     "execution_count": 15,
     "metadata": {},
     "output_type": "execute_result"
    }
   ],
   "source": [
    "df.head(25)"
   ]
  },
  {
   "cell_type": "markdown",
   "id": "6b9d19b0",
   "metadata": {},
   "source": [
    "# NumPy\n",
    "\n",
    "O __NumPy__ é o pacote fundamental para computação científica com Python. Entre outras coisas, ele contém:\n",
    "\n",
    "- Objeto poderoso de matriz N-dimensional\n",
    "- Funções sofisticadas (transmissão)\n",
    "- Ferramentas para integrar código C/C++ e Fortran\n",
    "- Recursos úteis de álgebra linear, transformação de Fourier e número aleatório"
   ]
  },
  {
   "cell_type": "markdown",
   "id": "b5489898",
   "metadata": {},
   "source": [
    "Podemos instalar o NumPy usandoo gerenciador de pacotes __*pip*__."
   ]
  },
  {
   "cell_type": "code",
   "execution_count": 34,
   "id": "6b679a52",
   "metadata": {
    "tags": []
   },
   "outputs": [
    {
     "name": "stdout",
     "output_type": "stream",
     "text": [
      "Looking in indexes: https://pypi.org/simple, https://pip.repos.neuron.amazonaws.com\n",
      "Requirement already satisfied: pip in /home/ec2-user/anaconda3/envs/python3/lib/python3.10/site-packages (22.3.1)\n",
      "Collecting pip\n",
      "  Downloading pip-23.1.2-py3-none-any.whl (2.1 MB)\n",
      "\u001b[2K     \u001b[90m━━━━━━━━━━━━━━━━━━━━━━━━━━━━━━━━━━━━━━━━\u001b[0m \u001b[32m2.1/2.1 MB\u001b[0m \u001b[31m28.4 MB/s\u001b[0m eta \u001b[36m0:00:00\u001b[0m00:01\u001b[0m00:01\u001b[0m\n",
      "\u001b[?25hInstalling collected packages: pip\n",
      "  Attempting uninstall: pip\n",
      "    Found existing installation: pip 22.3.1\n",
      "    Uninstalling pip-22.3.1:\n",
      "      Successfully uninstalled pip-22.3.1\n",
      "Successfully installed pip-23.1.2\n",
      "Looking in indexes: https://pypi.org/simple, https://pip.repos.neuron.amazonaws.com\n",
      "Requirement already satisfied: numpy in /home/ec2-user/anaconda3/envs/python3/lib/python3.10/site-packages (1.22.3)\n"
     ]
    }
   ],
   "source": [
    "!pip install --upgrade pip\n",
    "!pip install numpy"
   ]
  },
  {
   "cell_type": "markdown",
   "id": "809dfd64",
   "metadata": {},
   "source": [
    "Para começar, primeiro importe o Numpy usando a instrução de importação do Python. Nomeie o Numpy como *np*, portanto, não precisamos escrever numpy cada vez que usarmos uma de suas funções. Esta é a convenção geral seguida ao importar a biblioteca."
   ]
  },
  {
   "cell_type": "code",
   "execution_count": 16,
   "id": "a2a34f07",
   "metadata": {
    "tags": []
   },
   "outputs": [],
   "source": [
    "import numpy as np"
   ]
  },
  {
   "cell_type": "markdown",
   "id": "57b11d11",
   "metadata": {},
   "source": [
    "## Array Numpy\n",
    "\n",
    "Um Array Numpy é muito semelhante a uma lista Python com uma condição especial de que todos os seus elementos devem ser do mesmo tipo. \n",
    "\n",
    "Usamos a função array() para definir um array em numpy. Ele aceita o primeiro argumento como a matriz e o segundo argumento como o tipo de elemento, por exemplo int, float etc. No exemplo, definimos uma matriz com os elementos 1, 2, 3 e 4 do tipo int (inteiro)."
   ]
  },
  {
   "cell_type": "code",
   "execution_count": 17,
   "id": "991b72c9",
   "metadata": {
    "tags": []
   },
   "outputs": [],
   "source": [
    "# Define um array com elementos do tipo inteiro: 1,2,3 e 4\n",
    "arrayInteiros = np.array([1,2,3,4], int)"
   ]
  },
  {
   "cell_type": "markdown",
   "id": "0a865af1-0011-4a4e-bd04-5691415a1176",
   "metadata": {},
   "source": [
    "No NumPy, você pode utilizar diferentes tipos de dados para criar arrays. Além do tipo de dado 'int' (inteiro), você pode utilizar os seguintes tipos de dados para criar arrays:\n",
    "\n",
    "- 'bool': para representar valores booleanos (True ou False).\n",
    "- 'float': para representar números de ponto flutuante.\n",
    "- 'complex': para representar números complexos.\n",
    "- 'str': para representar strings (cadeias de caracteres).\n",
    "- 'object': para representar objetos genéricos em Python.\n",
    "- 'unicode': para representar strings Unicode.\n",
    "\n",
    "Além desses tipos de dados básicos, o NumPy também fornece tipos de dados específicos com tamanhos fixos, como:\n",
    "\n",
    "- 'int8', 'int16', 'int32', 'int64': para representar inteiros com diferentes tamanhos em bits.\n",
    "- 'uint8', 'uint16', 'uint32', 'uint64': para representar inteiros sem sinal (não negativos) com diferentes tamanhos em bits.\n",
    "- 'float16', 'float32', 'float64': para representar números de ponto flutuante com diferentes precisões.\n",
    "\n",
    "Por exemplo, você pode criar um array de ponto flutuante da seguinte forma: **np.array([1.0, 2.5, 3.7], float)**'. Da mesma forma, você pode criar um array de strings utilizando '**np.array([\"sim\", \"não\", \"talvez\"], str)**'."
   ]
  },
  {
   "cell_type": "markdown",
   "id": "6d9b325b",
   "metadata": {},
   "source": [
    "## Criação de um Array  (matriz)"
   ]
  },
  {
   "cell_type": "markdown",
   "id": "023e355a",
   "metadata": {},
   "source": [
    "O índice na matriz numpy também começa com 0, então **arrayInteiros[0]** se refere ao primeiro elemento que é 1. \n",
    "\n",
    "Também podemos definir um intervalo como [: 2] que imprime todos os valores nos índices 0 a 1.\n",
    "\n",
    "É simples verificar se um elemento pertence a um array, basta utilizar o operador in, nesse caso a resposta é um valor booleano. "
   ]
  },
  {
   "cell_type": "code",
   "execution_count": 18,
   "id": "05dcf591",
   "metadata": {
    "tags": []
   },
   "outputs": [
    {
     "name": "stdout",
     "output_type": "stream",
     "text": [
      "1\n"
     ]
    }
   ],
   "source": [
    "# Podemos acessar esses elementos usando valores de índice\n",
    "print(arrayInteiros[0])"
   ]
  },
  {
   "cell_type": "code",
   "execution_count": 19,
   "id": "22c0d828-059f-4341-a61c-8f8dbb02d15d",
   "metadata": {
    "tags": []
   },
   "outputs": [
    {
     "name": "stdout",
     "output_type": "stream",
     "text": [
      "[1 2]\n"
     ]
    }
   ],
   "source": [
    "# Também podemos usar intervalos para acessar valores\n",
    "print(arrayInteiros[: 2])"
   ]
  },
  {
   "cell_type": "code",
   "execution_count": 20,
   "id": "11b81a75-898a-4d6d-86fd-cf7135a1d18a",
   "metadata": {
    "tags": []
   },
   "outputs": [
    {
     "name": "stdout",
     "output_type": "stream",
     "text": [
      "True\n"
     ]
    }
   ],
   "source": [
    "# Descobre se existe um valor na matriz\n",
    "# Retorna verdadeiro se o valor existir, caso contrário retorna falso\n",
    "print(2 in arrayInteiros)"
   ]
  },
  {
   "cell_type": "markdown",
   "id": "175427d1",
   "metadata": {},
   "source": [
    "O Numpy também fornece métodos rápidos para definir uma matriz. Os métodos básicos incluem:\n",
    "\n",
    "- **zeros**:  array com todos os valores zero\n",
    "- **ones**: array com todos os valores um\n",
    "- **arange**: define a matriz como um intervalo de valores\n",
    "- **concatenação**: combinar matrizes"
   ]
  },
  {
   "cell_type": "code",
   "execution_count": 21,
   "id": "367c2b7b",
   "metadata": {
    "tags": []
   },
   "outputs": [],
   "source": [
    "# Cria array\n",
    "a = np.zeros(5) # Cria um array de zeros\n",
    "b = np.ones((3,5)) # Cria um array de uns  \n",
    "c = np.ones((2,3,4), dtype=np.int16 ) # Cria um array de uns do tipo inteiro"
   ]
  },
  {
   "cell_type": "code",
   "execution_count": 22,
   "id": "470259f1",
   "metadata": {
    "tags": []
   },
   "outputs": [
    {
     "name": "stdout",
     "output_type": "stream",
     "text": [
      "[0. 0. 0. 0. 0.]\n"
     ]
    }
   ],
   "source": [
    "print(a)"
   ]
  },
  {
   "cell_type": "code",
   "execution_count": 23,
   "id": "e217eb1e",
   "metadata": {
    "tags": []
   },
   "outputs": [
    {
     "name": "stdout",
     "output_type": "stream",
     "text": [
      "[[1. 1. 1. 1. 1.]\n",
      " [1. 1. 1. 1. 1.]\n",
      " [1. 1. 1. 1. 1.]]\n"
     ]
    }
   ],
   "source": [
    "print(b)"
   ]
  },
  {
   "cell_type": "code",
   "execution_count": 24,
   "id": "69c36353",
   "metadata": {
    "tags": []
   },
   "outputs": [
    {
     "name": "stdout",
     "output_type": "stream",
     "text": [
      "[[[1 1 1 1]\n",
      "  [1 1 1 1]\n",
      "  [1 1 1 1]]\n",
      "\n",
      " [[1 1 1 1]\n",
      "  [1 1 1 1]\n",
      "  [1 1 1 1]]]\n"
     ]
    }
   ],
   "source": [
    "print(c)"
   ]
  },
  {
   "cell_type": "code",
   "execution_count": 25,
   "id": "c0a8d3ab",
   "metadata": {
    "tags": []
   },
   "outputs": [],
   "source": [
    "# define uma array como um intervalo de valores\n",
    "d = np.array(range(10), int) # Cria um array com valores entre 0 e 9\n",
    "e = np.arange(15).reshape(3, 5) # Cria um array 3x5, com valores entre 0 e 14"
   ]
  },
  {
   "cell_type": "code",
   "execution_count": 26,
   "id": "a205ddaf",
   "metadata": {
    "tags": []
   },
   "outputs": [
    {
     "name": "stdout",
     "output_type": "stream",
     "text": [
      "[0 1 2 3 4 5 6 7 8 9]\n"
     ]
    }
   ],
   "source": [
    "print(d)"
   ]
  },
  {
   "cell_type": "code",
   "execution_count": 27,
   "id": "e5430e52",
   "metadata": {
    "tags": []
   },
   "outputs": [
    {
     "name": "stdout",
     "output_type": "stream",
     "text": [
      "[[ 0  1  2  3  4]\n",
      " [ 5  6  7  8  9]\n",
      " [10 11 12 13 14]]\n"
     ]
    }
   ],
   "source": [
    "print(e)"
   ]
  },
  {
   "cell_type": "code",
   "execution_count": 28,
   "id": "56ade07c",
   "metadata": {
    "tags": []
   },
   "outputs": [],
   "source": [
    "arrayInteiros2 = np.array([5,6], int)\n",
    "\n",
    "# Concatenar dois arrays\n",
    "f = np.concatenate((arrayInteiros, arrayInteiros2))"
   ]
  },
  {
   "cell_type": "code",
   "execution_count": 29,
   "id": "d99132e4",
   "metadata": {
    "tags": []
   },
   "outputs": [
    {
     "name": "stdout",
     "output_type": "stream",
     "text": [
      "[1 2 3 4 5 6]\n"
     ]
    }
   ],
   "source": [
    "print(f)"
   ]
  },
  {
   "cell_type": "markdown",
   "id": "d09f2a41",
   "metadata": {},
   "source": [
    "## Números Aleatórios\n",
    "\n",
    "Módulo random do Numpy é formado por um conjunto de funções baseadas na geração de números pseudoaleatórios. \n",
    "O número pseudoaleatório funciona começando com um inteiro chamado semente (seed) e então gera números em sucessão. A mesma semente fornece a mesma sequência de números aleatórios, daí o nome \"pseudo\" aleatório. "
   ]
  },
  {
   "cell_type": "code",
   "execution_count": 30,
   "id": "ba6c734f",
   "metadata": {
    "tags": []
   },
   "outputs": [
    {
     "name": "stdout",
     "output_type": "stream",
     "text": [
      "0.21836206208526554\n"
     ]
    }
   ],
   "source": [
    "x = np.random.random() # gera um valor entre 0 e 1.\n",
    "print(x)"
   ]
  },
  {
   "cell_type": "code",
   "execution_count": 31,
   "id": "dbf2eb0b",
   "metadata": {
    "tags": []
   },
   "outputs": [
    {
     "name": "stdout",
     "output_type": "stream",
     "text": [
      "32\n"
     ]
    }
   ],
   "source": [
    "x = np.random.randint(100) # gera um inteiro entre 0 e 100\n",
    "print(x)"
   ]
  },
  {
   "cell_type": "code",
   "execution_count": 32,
   "id": "15ccafd3",
   "metadata": {
    "tags": []
   },
   "outputs": [
    {
     "name": "stdout",
     "output_type": "stream",
     "text": [
      "0.3592503686086098\n"
     ]
    }
   ],
   "source": [
    "x = np.random.rand() # gera um ponto flutuante\n",
    "print(x)"
   ]
  },
  {
   "cell_type": "code",
   "execution_count": 33,
   "id": "873ebd90",
   "metadata": {
    "tags": []
   },
   "outputs": [
    {
     "name": "stdout",
     "output_type": "stream",
     "text": [
      "[0.06835839 0.24058723 0.62375796 0.69308505 0.68780632 0.77463648\n",
      " 0.4391201  0.38788137 0.3667964  0.10652841]\n"
     ]
    }
   ],
   "source": [
    "x = np.random.random(10)\n",
    "print(x)"
   ]
  },
  {
   "cell_type": "markdown",
   "id": "38dbdbab",
   "metadata": {},
   "source": [
    "__Gerando um array com números aleatórios__\n",
    "\n",
    "Os dois métodos já mostrados podem retornar matrizes com números aleatórios. "
   ]
  },
  {
   "cell_type": "code",
   "execution_count": 34,
   "id": "d7cd330b",
   "metadata": {
    "tags": []
   },
   "outputs": [
    {
     "name": "stdout",
     "output_type": "stream",
     "text": [
      "[58 55 35 67 58 60]\n"
     ]
    }
   ],
   "source": [
    "g = np.random.randint(100, size=(6))\n",
    "print(g)"
   ]
  },
  {
   "cell_type": "code",
   "execution_count": 35,
   "id": "9c9301db",
   "metadata": {
    "tags": []
   },
   "outputs": [
    {
     "name": "stdout",
     "output_type": "stream",
     "text": [
      "[[30 80 77 35 45]\n",
      " [ 8 55 20 36 77]\n",
      " [17 85 88 71 92]]\n"
     ]
    }
   ],
   "source": [
    "h = np.random.randint(100, size=(15)).reshape(3, 5)\n",
    "print(h)"
   ]
  },
  {
   "cell_type": "code",
   "execution_count": 36,
   "id": "f3c150be",
   "metadata": {
    "tags": []
   },
   "outputs": [
    {
     "name": "stdout",
     "output_type": "stream",
     "text": [
      "[[0.58947368 0.97110033 0.94279931]\n",
      " [0.17020618 0.4230191  0.21984442]\n",
      " [0.08661806 0.58334167 0.18959219]]\n"
     ]
    }
   ],
   "source": [
    "i = np.random.rand(9).reshape(3, 3)\n",
    "print(i)"
   ]
  },
  {
   "cell_type": "markdown",
   "id": "43bbec16",
   "metadata": {},
   "source": [
    "__Valor Semente__\n",
    "\n",
    "Conforme dito antes, os números pseudoaleatórios funcionam começando com um inteiro chamado semente e então gera números em sucessão. A mesma semente fornece a mesma sequência de números aleatórios, daí o nome \"pseudo\" geração de número aleatório. Se você deseja ter um código reproduzível, é bom propagar o gerador de números aleatórios usando a função __np.random.seed()__."
   ]
  },
  {
   "cell_type": "code",
   "execution_count": 37,
   "id": "95c002d6",
   "metadata": {
    "tags": []
   },
   "outputs": [
    {
     "name": "stdout",
     "output_type": "stream",
     "text": [
      "[[0.65645654 0.66436304 0.0874909 ]\n",
      " [0.10426862 0.19154439 0.94653062]\n",
      " [0.3316539  0.26172352 0.34664812]]\n",
      "[[0.48008866 0.50745872 0.48232837]\n",
      " [0.7892362  0.48735906 0.0511107 ]\n",
      " [0.55449431 0.31792715 0.6996    ]]\n",
      "[[0.64583664 0.0072865  0.83032814]\n",
      " [0.73851415 0.98908349 0.21737377]\n",
      " [0.98595601 0.44037589 0.52407288]]\n",
      "[[0.51599679 0.23976768 0.42891095]\n",
      " [0.97983931 0.01054567 0.79610225]\n",
      " [0.29558435 0.4451631  0.57814592]]\n",
      "[[0.86020601 0.61793009 0.62731334]\n",
      " [0.40200088 0.44020824 0.7739901 ]\n",
      " [0.82863749 0.664713   0.22611166]]\n"
     ]
    }
   ],
   "source": [
    "for j in range(5):\n",
    "    i = np.random.rand(9).reshape(3, 3)\n",
    "    print(i)"
   ]
  },
  {
   "cell_type": "code",
   "execution_count": 40,
   "id": "1bba461c",
   "metadata": {
    "tags": []
   },
   "outputs": [
    {
     "name": "stdout",
     "output_type": "stream",
     "text": [
      "[[0.74357677 0.88773635 0.13394567]\n",
      " [0.77697458 0.83799151 0.82930476]\n",
      " [0.029157   0.39037449 0.43725199]]\n",
      "[[0.52063506 0.49287267 0.13042928]\n",
      " [0.98438353 0.06570232 0.57928408]\n",
      " [0.58077483 0.95433787 0.19744378]]\n",
      "[[0.0833254  0.88386422 0.01569619]\n",
      " [0.79559465 0.76819044 0.87204379]\n",
      " [0.91611009 0.27381319 0.23638113]]\n",
      "[[0.31051984 0.71564326 0.08273549]\n",
      " [0.67548644 0.85852467 0.69289688]\n",
      " [0.78508369 0.35328125 0.22019207]]\n",
      "[[0.24537239 0.72741252 0.06412777]\n",
      " [0.45373746 0.48767733 0.64087483]\n",
      " [0.10616885 0.57360994 0.96034579]]\n"
     ]
    }
   ],
   "source": [
    "#np.random.seed(17) # define o valor semente como sendo 17\n",
    "for j in range(5):\n",
    "    i = np.random.rand(9).reshape(3, 3)\n",
    "    print(i)"
   ]
  },
  {
   "cell_type": "markdown",
   "id": "7ae0af6e",
   "metadata": {},
   "source": [
    "## Inspecionando sua matriz"
   ]
  },
  {
   "cell_type": "code",
   "execution_count": 56,
   "id": "08d0f5da",
   "metadata": {
    "tags": []
   },
   "outputs": [],
   "source": [
    "# Cria array\n",
    "a = np.zeros(5) # Cria um array de zeros\n",
    "b = np.ones((3,5)) # Cria um array de uns  \n",
    "c = np.ones((2,3,4), dtype=np.int16 ) # Cria um array de uns do tipo inteiro\n",
    "d = np.array(range(10), int) # Cria um array com valores entre 0 e 9"
   ]
  },
  {
   "cell_type": "code",
   "execution_count": 57,
   "id": "249196d4",
   "metadata": {
    "tags": []
   },
   "outputs": [
    {
     "data": {
      "text/plain": [
       "(5,)"
      ]
     },
     "execution_count": 57,
     "metadata": {},
     "output_type": "execute_result"
    }
   ],
   "source": [
    "a.shape # Dimensões do array "
   ]
  },
  {
   "cell_type": "code",
   "execution_count": 58,
   "id": "77ad40e6",
   "metadata": {
    "tags": []
   },
   "outputs": [
    {
     "data": {
      "text/plain": [
       "3"
      ]
     },
     "execution_count": 58,
     "metadata": {},
     "output_type": "execute_result"
    }
   ],
   "source": [
    "len(b)# primeira dimensão do array"
   ]
  },
  {
   "cell_type": "code",
   "execution_count": 59,
   "id": "245d2094",
   "metadata": {
    "tags": []
   },
   "outputs": [
    {
     "data": {
      "text/plain": [
       "3"
      ]
     },
     "execution_count": 59,
     "metadata": {},
     "output_type": "execute_result"
    }
   ],
   "source": [
    "c.ndim # Número de dimensões do array"
   ]
  },
  {
   "cell_type": "code",
   "execution_count": 60,
   "id": "077cca21",
   "metadata": {
    "tags": []
   },
   "outputs": [
    {
     "data": {
      "text/plain": [
       "24"
      ]
     },
     "execution_count": 60,
     "metadata": {},
     "output_type": "execute_result"
    }
   ],
   "source": [
    "c.size # Número de elementos do array"
   ]
  },
  {
   "cell_type": "code",
   "execution_count": 61,
   "id": "f1b7db23",
   "metadata": {
    "tags": []
   },
   "outputs": [
    {
     "data": {
      "text/plain": [
       "dtype('float64')"
      ]
     },
     "execution_count": 61,
     "metadata": {},
     "output_type": "execute_result"
    }
   ],
   "source": [
    "b.dtype # Tipo dos dados"
   ]
  },
  {
   "cell_type": "code",
   "execution_count": 62,
   "id": "b72d5ec7",
   "metadata": {
    "tags": []
   },
   "outputs": [
    {
     "data": {
      "text/plain": [
       "'int16'"
      ]
     },
     "execution_count": 62,
     "metadata": {},
     "output_type": "execute_result"
    }
   ],
   "source": [
    "c.dtype.name # Nome do tipo de dados"
   ]
  },
  {
   "cell_type": "code",
   "execution_count": 63,
   "id": "4727d585",
   "metadata": {
    "tags": []
   },
   "outputs": [
    {
     "data": {
      "text/plain": [
       "array([[[1., 1., 1., 1.],\n",
       "        [1., 1., 1., 1.],\n",
       "        [1., 1., 1., 1.]],\n",
       "\n",
       "       [[1., 1., 1., 1.],\n",
       "        [1., 1., 1., 1.],\n",
       "        [1., 1., 1., 1.]]])"
      ]
     },
     "execution_count": 63,
     "metadata": {},
     "output_type": "execute_result"
    }
   ],
   "source": [
    "c.astype(float) # Converta um tipo de array em um tipo diferente"
   ]
  },
  {
   "cell_type": "markdown",
   "id": "5e6495a8",
   "metadata": {},
   "source": [
    "## Operações com os Arrays\n",
    "Há uma ampla gama de operações que podemos aplicar em matrizes numpy."
   ]
  },
  {
   "cell_type": "markdown",
   "id": "7dca7e85",
   "metadata": {},
   "source": [
    "### Operações matemáticas básicas"
   ]
  },
  {
   "cell_type": "code",
   "execution_count": 47,
   "id": "dd760a1a",
   "metadata": {
    "tags": []
   },
   "outputs": [],
   "source": [
    "# Cria array\n",
    "a = np.zeros(5) # Cria um array de zeros\n",
    "b = np.ones((3,5)) # Cria um array de uns  \n",
    "c = np.ones((2,3,4), dtype=np.int16 ) # Cria um array de uns do tipo inteiro\n",
    "d = np.array([4,7,9,10,22]) \n",
    "e = np.array([2,7,26,5,5]) "
   ]
  },
  {
   "cell_type": "code",
   "execution_count": 48,
   "id": "7f7b711c",
   "metadata": {
    "tags": []
   },
   "outputs": [
    {
     "data": {
      "text/plain": [
       "array([[1., 1., 1., 1., 1.],\n",
       "       [1., 1., 1., 1., 1.],\n",
       "       [1., 1., 1., 1., 1.]])"
      ]
     },
     "execution_count": 48,
     "metadata": {},
     "output_type": "execute_result"
    }
   ],
   "source": [
    "np.add(a,b) # Adição"
   ]
  },
  {
   "cell_type": "code",
   "execution_count": 49,
   "id": "8c7d17c5",
   "metadata": {
    "tags": []
   },
   "outputs": [
    {
     "data": {
      "text/plain": [
       "array([[-1., -1., -1., -1., -1.],\n",
       "       [-1., -1., -1., -1., -1.],\n",
       "       [-1., -1., -1., -1., -1.]])"
      ]
     },
     "execution_count": 49,
     "metadata": {},
     "output_type": "execute_result"
    }
   ],
   "source": [
    "np.subtract(a,b) # Subtração"
   ]
  },
  {
   "cell_type": "code",
   "execution_count": 50,
   "id": "b1899136",
   "metadata": {
    "tags": []
   },
   "outputs": [
    {
     "data": {
      "text/plain": [
       "array([2.        , 1.        , 0.34615385, 2.        , 4.4       ])"
      ]
     },
     "execution_count": 50,
     "metadata": {},
     "output_type": "execute_result"
    }
   ],
   "source": [
    "np.divide(d,e) # Divisão"
   ]
  },
  {
   "cell_type": "code",
   "execution_count": 51,
   "id": "f01af2a6",
   "metadata": {
    "tags": []
   },
   "outputs": [
    {
     "data": {
      "text/plain": [
       "array([  8,  49, 234,  50, 110])"
      ]
     },
     "execution_count": 51,
     "metadata": {},
     "output_type": "execute_result"
    }
   ],
   "source": [
    "np.multiply(d,e) # Multiplicação"
   ]
  },
  {
   "cell_type": "code",
   "execution_count": 52,
   "id": "9a73c6a9",
   "metadata": {
    "tags": []
   },
   "outputs": [
    {
     "data": {
      "text/plain": [
       "False"
      ]
     },
     "execution_count": 52,
     "metadata": {},
     "output_type": "execute_result"
    }
   ],
   "source": [
    "np.array_equal(d,e) # Comparação"
   ]
  },
  {
   "cell_type": "markdown",
   "id": "d809cffa",
   "metadata": {},
   "source": [
    "### Fuções sobre os elementos"
   ]
  },
  {
   "cell_type": "code",
   "execution_count": 53,
   "id": "445d7aba",
   "metadata": {
    "tags": []
   },
   "outputs": [],
   "source": [
    "# Cria os arrays\n",
    "a = np.arange(15).reshape(3, 5) "
   ]
  },
  {
   "cell_type": "code",
   "execution_count": 54,
   "id": "54f513b7",
   "metadata": {
    "tags": []
   },
   "outputs": [
    {
     "data": {
      "text/plain": [
       "105"
      ]
     },
     "execution_count": 54,
     "metadata": {},
     "output_type": "execute_result"
    }
   ],
   "source": [
    "a.sum() # Soma os elementos"
   ]
  },
  {
   "cell_type": "code",
   "execution_count": 55,
   "id": "700d8475",
   "metadata": {
    "tags": []
   },
   "outputs": [
    {
     "data": {
      "text/plain": [
       "0"
      ]
     },
     "execution_count": 55,
     "metadata": {},
     "output_type": "execute_result"
    }
   ],
   "source": [
    "a.min() # Retorna o menor valor"
   ]
  },
  {
   "cell_type": "code",
   "execution_count": 56,
   "id": "1d9fca29",
   "metadata": {
    "tags": []
   },
   "outputs": [
    {
     "data": {
      "text/plain": [
       "7.0"
      ]
     },
     "execution_count": 56,
     "metadata": {},
     "output_type": "execute_result"
    }
   ],
   "source": [
    "a.mean() # Retorna o valor médio"
   ]
  },
  {
   "cell_type": "code",
   "execution_count": 57,
   "id": "198ef528",
   "metadata": {
    "tags": []
   },
   "outputs": [
    {
     "data": {
      "text/plain": [
       "7.0"
      ]
     },
     "execution_count": 57,
     "metadata": {},
     "output_type": "execute_result"
    }
   ],
   "source": [
    "np.median(a) # Retorna o valor mediana"
   ]
  },
  {
   "cell_type": "code",
   "execution_count": 58,
   "id": "e85860f2",
   "metadata": {
    "tags": []
   },
   "outputs": [
    {
     "name": "stdout",
     "output_type": "stream",
     "text": [
      "[[  0   1   2   3   4]\n",
      " [  5   6 100   8   9]\n",
      " [ 10  11  12  13  14]]\n"
     ]
    },
    {
     "data": {
      "text/plain": [
       "array([ 10,  11, 100,  13,  14])"
      ]
     },
     "execution_count": 58,
     "metadata": {},
     "output_type": "execute_result"
    }
   ],
   "source": [
    "a = np.arange(15).reshape(3, 5) \n",
    "a[1,2]=100\n",
    "print(a)\n",
    "a.max(axis=0) # valor máximo de cada coluna"
   ]
  },
  {
   "cell_type": "code",
   "execution_count": 59,
   "id": "1c62a2ae",
   "metadata": {
    "tags": []
   },
   "outputs": [
    {
     "data": {
      "text/plain": [
       "23.59717497215857"
      ]
     },
     "execution_count": 59,
     "metadata": {},
     "output_type": "execute_result"
    }
   ],
   "source": [
    "np.std(a) # Desvio Padrão"
   ]
  },
  {
   "cell_type": "markdown",
   "id": "3ae6dbb6",
   "metadata": {},
   "source": [
    "### Subconjunto, divisão e indexação"
   ]
  },
  {
   "cell_type": "code",
   "execution_count": 63,
   "id": "e427bd42",
   "metadata": {
    "tags": []
   },
   "outputs": [],
   "source": [
    "# Cria os arrays\n",
    "a = np.arange(15)"
   ]
  },
  {
   "cell_type": "code",
   "execution_count": 64,
   "id": "3e276a6c",
   "metadata": {
    "tags": []
   },
   "outputs": [
    {
     "data": {
      "text/plain": [
       "array([0, 1])"
      ]
     },
     "execution_count": 64,
     "metadata": {},
     "output_type": "execute_result"
    }
   ],
   "source": [
    "a[0:2] # Selecione os itens no índice 0 e 1"
   ]
  },
  {
   "cell_type": "code",
   "execution_count": 65,
   "id": "72d682e7",
   "metadata": {
    "tags": []
   },
   "outputs": [
    {
     "data": {
      "text/plain": [
       "array([0])"
      ]
     },
     "execution_count": 65,
     "metadata": {},
     "output_type": "execute_result"
    }
   ],
   "source": [
    "a[:1] # Selecione todos os itens na linha 0"
   ]
  },
  {
   "cell_type": "code",
   "execution_count": 66,
   "id": "bcfbd8a9",
   "metadata": {
    "tags": []
   },
   "outputs": [
    {
     "data": {
      "text/plain": [
       "array([14])"
      ]
     },
     "execution_count": 66,
     "metadata": {},
     "output_type": "execute_result"
    }
   ],
   "source": [
    "a[-1:] # Selecione todos os itens da última linha"
   ]
  },
  {
   "cell_type": "code",
   "execution_count": 67,
   "id": "9a4048a0",
   "metadata": {
    "tags": []
   },
   "outputs": [
    {
     "data": {
      "text/plain": [
       "array([0, 1])"
      ]
     },
     "execution_count": 67,
     "metadata": {},
     "output_type": "execute_result"
    }
   ],
   "source": [
    "a[a<2] # Selecione os elementos de 'a' que são menores que 2"
   ]
  },
  {
   "cell_type": "code",
   "execution_count": 63,
   "id": "9b6ef45c-ccac-4cbc-8a73-3e2e915d01b5",
   "metadata": {
    "tags": []
   },
   "outputs": [],
   "source": [
    "# Cria os arrays\n",
    "a = np.arange(15).reshape(3, 5) "
   ]
  },
  {
   "cell_type": "code",
   "execution_count": 61,
   "id": "e950ae82",
   "metadata": {
    "tags": []
   },
   "outputs": [
    {
     "data": {
      "text/plain": [
       "7"
      ]
     },
     "execution_count": 61,
     "metadata": {},
     "output_type": "execute_result"
    }
   ],
   "source": [
    "a[1,2] # Selecione o elemento da linha 1 e coluna 2"
   ]
  }
 ],
 "metadata": {
  "kernelspec": {
   "display_name": "conda_python3",
   "language": "python",
   "name": "conda_python3"
  },
  "language_info": {
   "codemirror_mode": {
    "name": "ipython",
    "version": 3
   },
   "file_extension": ".py",
   "mimetype": "text/x-python",
   "name": "python",
   "nbconvert_exporter": "python",
   "pygments_lexer": "ipython3",
   "version": "3.10.8"
  }
 },
 "nbformat": 4,
 "nbformat_minor": 5
}
