{
 "cells": [
  {
   "cell_type": "markdown",
   "id": "d3ad1208",
   "metadata": {},
   "source": [
    "# Atividade"
   ]
  },
  {
   "cell_type": "markdown",
   "id": "ccd5e0c5",
   "metadata": {},
   "source": [
    "## Carregando os dados"
   ]
  },
  {
   "cell_type": "code",
   "execution_count": 5,
   "id": "0dcefe28",
   "metadata": {
    "tags": []
   },
   "outputs": [
    {
     "ename": "SyntaxError",
     "evalue": "unterminated string literal (detected at line 8) (3505926603.py, line 8)",
     "output_type": "error",
     "traceback": [
      "\u001b[0;36m  Cell \u001b[0;32mIn[5], line 8\u001b[0;36m\u001b[0m\n\u001b[0;31m    df_carros = pd.read_csv(url,sep='',',names=['preço_compra','preço_manutenção','portas','pessoas','porta-malas','segurança','classe'])\u001b[0m\n\u001b[0m                                                                                                                                      ^\u001b[0m\n\u001b[0;31mSyntaxError\u001b[0m\u001b[0;31m:\u001b[0m unterminated string literal (detected at line 8)\n"
     ]
    }
   ],
   "source": [
    "import requests\n",
    "import pandas as pd\n",
    "\n",
    "\n",
    "url = \"https://dados-mba-python-2023.s3.amazonaws.com/carro_atividade1.csv\"\n",
    "r = requests.get(url, stream=True)\n",
    "\n",
    "df_carros = pd.read_csv(url,sep='',',names=['preço_compra','preço_manutenção','portas','pessoas','porta-malas','segurança','classe'])"
   ]
  },
  {
   "cell_type": "markdown",
   "id": "a7d86420",
   "metadata": {},
   "source": [
    "## 1. Mostre o DataFrame::"
   ]
  },
  {
   "cell_type": "code",
   "execution_count": null,
   "id": "d140a7f3-74d7-47e8-ab53-be3763cbe678",
   "metadata": {},
   "outputs": [],
   "source": [
    "# Escreva seu código aqui"
   ]
  },
  {
   "cell_type": "markdown",
   "id": "82ba3e48",
   "metadata": {},
   "source": [
    "## 2. Quais tipos de dados nós temos?"
   ]
  },
  {
   "cell_type": "code",
   "execution_count": null,
   "id": "8bbc7b2d-03df-4ae0-b366-c90ae5a86f8e",
   "metadata": {
    "tags": []
   },
   "outputs": [],
   "source": [
    "# Escreva seu código aqui"
   ]
  },
  {
   "cell_type": "markdown",
   "id": "3059fe5d",
   "metadata": {},
   "source": [
    "## 3. Do ponto de vista estatístico, como se comporta o atributo 'portas' (maior valor, menor valor etc.)?  "
   ]
  },
  {
   "cell_type": "code",
   "execution_count": null,
   "id": "0545f58b-993a-49ee-8c53-e067d3382775",
   "metadata": {},
   "outputs": [],
   "source": [
    "# Escreva seu código aqui"
   ]
  },
  {
   "cell_type": "markdown",
   "id": "6d9250db",
   "metadata": {},
   "source": [
    "## 4. Quantos valores diferentes encontramos no atributo ‘porta_malas’?"
   ]
  },
  {
   "cell_type": "code",
   "execution_count": null,
   "id": "bb824b9e-1320-4967-a82c-7d2a95572e8b",
   "metadata": {},
   "outputs": [],
   "source": [
    "# Escreva seu código aqui"
   ]
  },
  {
   "cell_type": "markdown",
   "id": "d34afbd8",
   "metadata": {},
   "source": [
    "Considerando que para treinarmos uma rede neural (criarmos um modelo) para prever se um dado modelo de veículo terá uma boa aceitação no mercado, os dados devem estar rotulados como: 'aceito' e 'n_aceito'. \n",
    "\n",
    "## 5. Os dados atuais atendem esse requisito?"
   ]
  },
  {
   "cell_type": "code",
   "execution_count": 1,
   "id": "16802b86-fc42-4387-925c-a652a654c6f8",
   "metadata": {
    "tags": []
   },
   "outputs": [],
   "source": [
    "# Escreva seu código aqui"
   ]
  },
  {
   "cell_type": "markdown",
   "id": "99f818b8",
   "metadata": {},
   "source": [
    "## 6. Existe alguma discrepância no atributo portas?\n",
    "\n",
    "Dica: use um gráfico de caixa."
   ]
  },
  {
   "cell_type": "code",
   "execution_count": 2,
   "id": "ba835334",
   "metadata": {
    "tags": []
   },
   "outputs": [],
   "source": [
    "# Escreva seu código aqui"
   ]
  },
  {
   "cell_type": "markdown",
   "id": "323e2c43",
   "metadata": {},
   "source": [
    "## 7. Analisando o alvo (target)\n",
    "\n",
    "Que informações você consegue obter analisando o target?"
   ]
  },
  {
   "cell_type": "code",
   "execution_count": 3,
   "id": "1e1ef3dd",
   "metadata": {
    "tags": []
   },
   "outputs": [],
   "source": [
    "# Escreva seu código aqui"
   ]
  },
  {
   "cell_type": "code",
   "execution_count": null,
   "id": "822849af-bcaa-43f4-b40e-b455533eaf52",
   "metadata": {},
   "outputs": [],
   "source": []
  }
 ],
 "metadata": {
  "kernelspec": {
   "display_name": "conda_python3",
   "language": "python",
   "name": "conda_python3"
  },
  "language_info": {
   "codemirror_mode": {
    "name": "ipython",
    "version": 3
   },
   "file_extension": ".py",
   "mimetype": "text/x-python",
   "name": "python",
   "nbconvert_exporter": "python",
   "pygments_lexer": "ipython3",
   "version": "3.10.8"
  }
 },
 "nbformat": 4,
 "nbformat_minor": 5
}
