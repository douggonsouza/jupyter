{
 "cells": [
  {
   "cell_type": "markdown",
   "id": "5546f651",
   "metadata": {},
   "source": [
    " \n",
    "# Apresentação do cenário de negócios\n",
    "\n",
    "Você trabalha para um provedor de serviços médicos e deseja melhorar a detecção de anormalidades em pacientes ortopédicos. \n",
    "\n",
    "Você tem a incumbência de resolver esse problema usando machine learning (ML). Você tem acesso a um conjunto de dados que contém seis componentes biomecânicos (features) e um alvo (target) de *normal* (normal) ou *abnormal* (anormal). Você pode usar esse conjunto de dados (datasets) para treinar um modelo de ML para prever se um paciente terá uma anomalia.\n",
    "\n",
    "## Sobre esse conjunto de dados\n",
    "Esse conjunto de dados (dataset) biomédicos foi criado pelo Dr. Henrique da Mota durante um período de residência médica no Group of Applied Research in Orthopaedics (GARO) do Centre Médico-Chirurgical de Réadaptation des Massues em Lyon, na França. Os dados foram organizados em duas tarefas de classificação diferentes, mas relacionadas. \n",
    "\n",
    "A primeira tarefa consiste em classificar os pacientes como pertencentes a uma das três categorias a seguir: \n",
    "\n",
    "- *Normal* (Normal) (100 pacientes)\n",
    "- *Disk Hernia* (Hérnia de disco) (60 pacientes)\n",
    "- *Spondylolisthesis* (Espondilolistese) (150 pacientes)\n",
    "\n",
    "As categorias *Disk Hernia* (Hérnia de disco) e *Spondylolisthesis* (Espondilolistese) foram mescladas em uma única categoria, rotulada como *abnormal* (anormal). Portanto, a atividade consiste em classificar os pacientes como pertencentes a uma das categorias: *Normal* (Normal) (100 pacientes) ou *Abnormal* (Anormal) (210 pacientes).\n",
    "\n",
    "\n",
    "## Informações de atributo\n",
    "\n",
    "Cada paciente é representado no conjunto de dados por seis atributos biomecânicos derivados da forma e da orientação da pelve e da coluna lombar (nesta ordem): \n",
    "\n",
    "- Incidência pélvica\n",
    "- Inclinação pélvica\n",
    "- Ângulo da lordose lombar\n",
    "- Inclinação sacral\n",
    "- Raio pélvico\n",
    "- Grau de espondilolistese\n",
    "\n",
    "A convenção a seguir é usada para os rótulos de classe (labels): \n",
    "- DH (hérnia de disco)\n",
    "- Espondilolistese (SL)\n",
    "- Normal (NO) \n",
    "- Anormal (AB)\n",
    "\n",
    "\n",
    "Para obter mais informações sobre esse conjunto de dados, consulte a [página da Web Conjunto de dados de coluna vertebral](http://archive.ics.uci.edu/ml/datasets/Vertebral+Column).\n",
    "\n"
   ]
  },
  {
   "cell_type": "markdown",
   "id": "ebb85e82",
   "metadata": {},
   "source": [
    "# Coletar e Rotular o Conjunto de Dados (dataset)"
   ]
  },
  {
   "cell_type": "markdown",
   "id": "4958fa0d",
   "metadata": {},
   "source": [
    "## Fonte dos dados"
   ]
  },
  {
   "cell_type": "markdown",
   "id": "17db613a",
   "metadata": {},
   "source": [
    "Dua, D. and Graff, C. (2019). UCI machine learning Repository: https://archive.ics.uci.edu/ml/index.php. Irvine, CA: University of California, School of Information and Computer Science."
   ]
  },
  {
   "cell_type": "code",
   "execution_count": 1,
   "id": "ab79684b",
   "metadata": {
    "tags": []
   },
   "outputs": [],
   "source": [
    "url_dataset = 'http://archive.ics.uci.edu/ml/machine-learning-databases/00212/vertebral_column_data.zip'"
   ]
  },
  {
   "cell_type": "markdown",
   "id": "3bc11303",
   "metadata": {},
   "source": [
    "### Desafios:"
   ]
  },
  {
   "cell_type": "markdown",
   "id": "5c32522a",
   "metadata": {},
   "source": [
    "1. Os dados tem que ser acessados via web.\n",
    "2. Os dados estão compactados (zipfiles).\n",
    "3. Os dados estão no formato arff (comum em arquivos usados em aprendizado de máquina)"
   ]
  },
  {
   "cell_type": "markdown",
   "id": "9e79efbb",
   "metadata": {},
   "source": [
    "### Pacote requests  "
   ]
  },
  {
   "cell_type": "markdown",
   "id": "e139bbc1",
   "metadata": {},
   "source": [
    "O objetivo da pacote __requests__ é tornar as solicitações HTTP mais simples e mais amigáveis."
   ]
  },
  {
   "cell_type": "code",
   "execution_count": 14,
   "id": "3810829b",
   "metadata": {
    "tags": []
   },
   "outputs": [
    {
     "name": "stdout",
     "output_type": "stream",
     "text": [
      "200\n"
     ]
    }
   ],
   "source": [
    "# Exemplo de uso do pacote requests\n",
    "import requests\n",
    "r = requests.get('https://www.impacta.com.br')\n",
    "\n",
    "print(r.status_code)"
   ]
  },
  {
   "cell_type": "markdown",
   "id": "87c2b478-6361-44f6-9d2e-2ad3aa7a85d5",
   "metadata": {},
   "source": [
    "Primeiro vamos baixar os dados que estão em um servidor. A próxima célula faz uma solicitação de dados a um  servidor escolhido."
   ]
  },
  {
   "cell_type": "code",
   "execution_count": 16,
   "id": "790f93dd",
   "metadata": {
    "tags": []
   },
   "outputs": [],
   "source": [
    "url_dataset = 'http://archive.ics.uci.edu/ml/machine-learning-databases/00212/vertebral_column_data.zip'\n",
    "\n",
    "# copia os dados do sevido\n",
    "r = requests.get(url_dataset, stream=True)"
   ]
  },
  {
   "cell_type": "markdown",
   "id": "e4343862-4c89-4eca-937a-f23f33719e40",
   "metadata": {},
   "source": [
    "Nesta célula, a função **requests.get()** é usada para enviar uma solicitação HTTP GET para a URL **url_dataset**. \n",
    "\n",
    "A variável **r** conterá o objeto de resposta retornado por request.get(). Ao definir **stream=True**, o conteúdo da resposta será baixado em blocos, em vez de carregar a resposta inteira na memória de uma vez. Isso é útil para lidar com arquivos grandes ou casos em que você deseja processar os dados de forma incremental.\n",
    "\n",
    "O objeto **r** pode ser processado posteriormente para acessar o conteúdo baixado ou salvá-lo em um arquivo, dependendo do noso caso de uso específico."
   ]
  },
  {
   "cell_type": "markdown",
   "id": "bef7e531",
   "metadata": {},
   "source": [
    "### Pacote zipfile e io"
   ]
  },
  {
   "cell_type": "markdown",
   "id": "5a2d8ef7",
   "metadata": {},
   "source": [
    "Como os dados recebidos estão compactados, usaremos o pacote zipfile para manipular esses dados."
   ]
  },
  {
   "cell_type": "code",
   "execution_count": 17,
   "id": "84e1a3a0",
   "metadata": {
    "tags": []
   },
   "outputs": [],
   "source": [
    "import zipfile"
   ]
  },
  {
   "cell_type": "markdown",
   "id": "d3a2dc19-97e9-444e-b0d7-d03398c1d8a7",
   "metadata": {},
   "source": [
    "Como construtor **zipfile.ZipFile** espera um objeto semelhante a um arquivo como entrada, vamos usar os recursos  biblioteca **io** para transformar os dados mantidos em memória na variável **r**, em um estrutura de arquivo."
   ]
  },
  {
   "cell_type": "code",
   "execution_count": 18,
   "id": "58052a13-5d6a-461c-a727-2478022d2bc2",
   "metadata": {
    "tags": []
   },
   "outputs": [],
   "source": [
    "import io # O pacote IO serve para lidar com vários tipos de E/S."
   ]
  },
  {
   "cell_type": "markdown",
   "id": "6f74325b",
   "metadata": {},
   "source": [
    "Em seguida, o stream de dados recebidos é passado para a função ZipFile para extrair os dados."
   ]
  },
  {
   "cell_type": "code",
   "execution_count": 19,
   "id": "1234a578",
   "metadata": {
    "tags": []
   },
   "outputs": [],
   "source": [
    "# Extração do arquivo .zip\n",
    "vertebral_zip = zipfile.ZipFile(io.BytesIO(r.content))\n",
    "vertebral_zip.extractall()"
   ]
  },
  {
   "cell_type": "markdown",
   "id": "2a5342a2-c32a-4ae7-b667-3a5ded0c06c6",
   "metadata": {},
   "source": [
    "Ao usar **io.BytesIO(r.content)**, estamos criando um objeto semelhante a um arquivo que pode ser passado para o construtor **ZipFile**.\n",
    "\n",
    "O uso de **io.BytesIO** nos permite trabalhar com o conteúdo do arquivo sem precisar salvá-lo no disco. Ele fornece uma maneira conveniente de lidar com dados na memória e permite que executemos operações como extrair o conteúdo de um arquivo .zip diretamente dos bytes."
   ]
  },
  {
   "cell_type": "markdown",
   "id": "b2ff5ece",
   "metadata": {},
   "source": [
    "No visualizador de arquivos no painel de navegação à esquerda, você verá quatro arquivos novos:\n",
    "- column_2C_weka.arff\n",
    "- column_2C.dat\n",
    "- column_3C_weka.arff \n",
    "- column_3C.dat\n"
   ]
  },
  {
   "cell_type": "markdown",
   "id": "4c46afa7",
   "metadata": {},
   "source": [
    "### Pacote Scipy"
   ]
  },
  {
   "cell_type": "markdown",
   "id": "cea81ffb",
   "metadata": {},
   "source": [
    "Como os dados recebidos estão no formato **ARRF**, vamos primeiro eliminar os metadados antes de começar a analisarmos os dados propriamente dito. Para essa tarefa usaremos o pacote **scipy**."
   ]
  },
  {
   "cell_type": "code",
   "execution_count": 20,
   "id": "0d6f06bb",
   "metadata": {
    "tags": []
   },
   "outputs": [],
   "source": [
    "from scipy.io import arff"
   ]
  },
  {
   "cell_type": "markdown",
   "id": "1a1800dd-d51b-4c69-8946-54d6919fa6dd",
   "metadata": {},
   "source": [
    "ARFF (Attribute-Relation File Format) é um formato de arquivo utilizado para representar dados estruturados em um formato tabular. \n",
    "Os arquivos ARFF são semelhantes aos arquivos CSV (Comma-Separated Values), pois também armazenam dados em formato tabular. No entanto, os arquivos ARFF possuem recursos adicionais para especificar informações sobre os atributos e seus tipos.\n",
    "\n",
    "Um arquivo ARFF consiste em duas seções principais: a seção de cabeçalho e a seção de dados.\n",
    "A seção de cabeçalho contém informações sobre os atributos presentes nos dados, incluindo seus nomes, tipos (numérico, nominal, etc.) e possíveis valores. Essas informações ajudam a definir a estrutura dos dados e permitem uma interpretação adequada.\n",
    "\n",
    "A seção de dados contém os próprios dados organizados em linhas e colunas, seguindo a estrutura definida na seção de cabeçalho. Cada linha representa uma instância ou exemplo, enquanto as colunas correspondem aos atributos.\n",
    "\n",
    "Os arquivos ARFF são comumente utilizados em conjunto com ferramentas de mineração de dados e aprendizado de máquina, como o Weka, para importar, exportar e analisar conjuntos de dados. Eles fornecem uma estrutura padronizada e facilmente interpretável para compartilhar e trabalhar com dados tabulares."
   ]
  },
  {
   "cell_type": "code",
   "execution_count": 21,
   "id": "a34f7853",
   "metadata": {
    "tags": []
   },
   "outputs": [],
   "source": [
    "# Le o arquivo column_2C_weka.arff \n",
    "dados_metadados = arff.loadarff('column_2C_weka.arff')"
   ]
  },
  {
   "cell_type": "markdown",
   "id": "d4293171-62fb-453a-8e7a-28d2bae2e854",
   "metadata": {},
   "source": [
    "A função **loadarff** é chamada com o nome de arquivo '**column_2C_weka.arff'** como parâmetro de entrada. A função lê o arquivo ARFF e retorna uma tupla contendo dois elementos: os dados e os metadados.\n",
    "\n",
    "A variável dados é atribuída a esta tupla. Normalmente, **dados_metadados[0]** conterá os dados reais, que podem ser acessados para processamento ou análise posterior. Os metadados, armazenados em **dados_metadados[1]**, fornecem informações sobre os atributos, seus tipos e qualquer informação adicional especificada no arquivo ARFF.\n",
    "\n",
    "Para acessar os dados, podemos usar **dados_metadados[0]** ou atribuí-los a uma variável separada, como **dados = dados_metadados[0]**. A partir daí, podemos manipular e analisar os dados conforme necessário."
   ]
  },
  {
   "cell_type": "code",
   "execution_count": 23,
   "id": "8f916435-db77-4b88-b2ef-da7e18ed7321",
   "metadata": {
    "tags": []
   },
   "outputs": [],
   "source": [
    "dados = dados_metadados[0]"
   ]
  },
  {
   "cell_type": "markdown",
   "id": "f9f0873b",
   "metadata": {},
   "source": [
    "### Usando Pandas para se familiarizar com seus dados\n",
    "A primeira etapa em qualquer projeto de aprendizado de máquina é familiarizar-se com os dados. Usaremos a biblioteca Pandas para isso. O Pandas é a principal ferramenta que os cientistas de dados usam para explorar e manipular dados. A maioria das pessoas abrevia pandas em seu código como pd. Fazemos isso com o comando"
   ]
  },
  {
   "cell_type": "code",
   "execution_count": 24,
   "id": "9651c98b",
   "metadata": {
    "tags": []
   },
   "outputs": [],
   "source": [
    "import pandas as pd"
   ]
  },
  {
   "cell_type": "markdown",
   "id": "d1f7c7bb-7226-4b38-a2e3-88322a494733",
   "metadata": {},
   "source": [
    "A parte mais importante da biblioteca Pandas é o DataFrame. Um DataFrame contém o tipo de dados que você pode imaginar como uma tabela. Isso é semelhante a uma planilha no Excel ou a uma tabela em um banco de dados SQL.\n",
    "\n",
    "O Pandas possui métodos poderosos para a maioria dos procedimentos desejamos fazer com esse tipo de dados."
   ]
  },
  {
   "cell_type": "code",
   "execution_count": 25,
   "id": "201517a1-d8c5-49cd-95f6-688a1eb48aad",
   "metadata": {
    "tags": []
   },
   "outputs": [
    {
     "data": {
      "text/html": [
       "<div>\n",
       "<style scoped>\n",
       "    .dataframe tbody tr th:only-of-type {\n",
       "        vertical-align: middle;\n",
       "    }\n",
       "\n",
       "    .dataframe tbody tr th {\n",
       "        vertical-align: top;\n",
       "    }\n",
       "\n",
       "    .dataframe thead th {\n",
       "        text-align: right;\n",
       "    }\n",
       "</style>\n",
       "<table border=\"1\" class=\"dataframe\">\n",
       "  <thead>\n",
       "    <tr style=\"text-align: right;\">\n",
       "      <th></th>\n",
       "      <th>pelvic_incidence</th>\n",
       "      <th>pelvic_tilt</th>\n",
       "      <th>lumbar_lordosis_angle</th>\n",
       "      <th>sacral_slope</th>\n",
       "      <th>pelvic_radius</th>\n",
       "      <th>degree_spondylolisthesis</th>\n",
       "      <th>class</th>\n",
       "    </tr>\n",
       "  </thead>\n",
       "  <tbody>\n",
       "    <tr>\n",
       "      <th>0</th>\n",
       "      <td>63.027817</td>\n",
       "      <td>22.552586</td>\n",
       "      <td>39.609117</td>\n",
       "      <td>40.475232</td>\n",
       "      <td>98.672917</td>\n",
       "      <td>-0.254400</td>\n",
       "      <td>b'Abnormal'</td>\n",
       "    </tr>\n",
       "    <tr>\n",
       "      <th>1</th>\n",
       "      <td>39.056951</td>\n",
       "      <td>10.060991</td>\n",
       "      <td>25.015378</td>\n",
       "      <td>28.995960</td>\n",
       "      <td>114.405425</td>\n",
       "      <td>4.564259</td>\n",
       "      <td>b'Abnormal'</td>\n",
       "    </tr>\n",
       "    <tr>\n",
       "      <th>2</th>\n",
       "      <td>68.832021</td>\n",
       "      <td>22.218482</td>\n",
       "      <td>50.092194</td>\n",
       "      <td>46.613539</td>\n",
       "      <td>105.985135</td>\n",
       "      <td>-3.530317</td>\n",
       "      <td>b'Abnormal'</td>\n",
       "    </tr>\n",
       "    <tr>\n",
       "      <th>3</th>\n",
       "      <td>69.297008</td>\n",
       "      <td>24.652878</td>\n",
       "      <td>44.311238</td>\n",
       "      <td>44.644130</td>\n",
       "      <td>101.868495</td>\n",
       "      <td>11.211523</td>\n",
       "      <td>b'Abnormal'</td>\n",
       "    </tr>\n",
       "    <tr>\n",
       "      <th>4</th>\n",
       "      <td>49.712859</td>\n",
       "      <td>9.652075</td>\n",
       "      <td>28.317406</td>\n",
       "      <td>40.060784</td>\n",
       "      <td>108.168725</td>\n",
       "      <td>7.918501</td>\n",
       "      <td>b'Abnormal'</td>\n",
       "    </tr>\n",
       "  </tbody>\n",
       "</table>\n",
       "</div>"
      ],
      "text/plain": [
       "   pelvic_incidence  pelvic_tilt  lumbar_lordosis_angle  sacral_slope  \\\n",
       "0         63.027817    22.552586              39.609117     40.475232   \n",
       "1         39.056951    10.060991              25.015378     28.995960   \n",
       "2         68.832021    22.218482              50.092194     46.613539   \n",
       "3         69.297008    24.652878              44.311238     44.644130   \n",
       "4         49.712859     9.652075              28.317406     40.060784   \n",
       "\n",
       "   pelvic_radius  degree_spondylolisthesis        class  \n",
       "0      98.672917                 -0.254400  b'Abnormal'  \n",
       "1     114.405425                  4.564259  b'Abnormal'  \n",
       "2     105.985135                 -3.530317  b'Abnormal'  \n",
       "3     101.868495                 11.211523  b'Abnormal'  \n",
       "4     108.168725                  7.918501  b'Abnormal'  "
      ]
     },
     "execution_count": 25,
     "metadata": {},
     "output_type": "execute_result"
    }
   ],
   "source": [
    "# Coloca os dados lidos em um DataFrame e mostra na forma de uma tabela.\n",
    "df = pd.DataFrame(dados)\n",
    "df.head()"
   ]
  },
  {
   "cell_type": "markdown",
   "id": "6b9d19b0",
   "metadata": {},
   "source": [
    "# NumPy\n",
    "\n",
    "O __NumPy__ é o pacote fundamental para computação científica com Python. Entre outras coisas, ele contém:\n",
    "\n",
    "- Objeto poderoso de matriz N-dimensional\n",
    "- Funções sofisticadas (transmissão)\n",
    "- Ferramentas para integrar código C/C++ e Fortran\n",
    "- Recursos úteis de álgebra linear, transformação de Fourier e número aleatório"
   ]
  },
  {
   "cell_type": "markdown",
   "id": "b5489898",
   "metadata": {},
   "source": [
    "Podemos instalar o NumPy usandoo gerenciador de pacotes __*pip*__."
   ]
  },
  {
   "cell_type": "code",
   "execution_count": 34,
   "id": "6b679a52",
   "metadata": {
    "tags": []
   },
   "outputs": [
    {
     "name": "stdout",
     "output_type": "stream",
     "text": [
      "Looking in indexes: https://pypi.org/simple, https://pip.repos.neuron.amazonaws.com\n",
      "Requirement already satisfied: pip in /home/ec2-user/anaconda3/envs/python3/lib/python3.10/site-packages (22.3.1)\n",
      "Collecting pip\n",
      "  Downloading pip-23.1.2-py3-none-any.whl (2.1 MB)\n",
      "\u001b[2K     \u001b[90m━━━━━━━━━━━━━━━━━━━━━━━━━━━━━━━━━━━━━━━━\u001b[0m \u001b[32m2.1/2.1 MB\u001b[0m \u001b[31m28.4 MB/s\u001b[0m eta \u001b[36m0:00:00\u001b[0m00:01\u001b[0m00:01\u001b[0m\n",
      "\u001b[?25hInstalling collected packages: pip\n",
      "  Attempting uninstall: pip\n",
      "    Found existing installation: pip 22.3.1\n",
      "    Uninstalling pip-22.3.1:\n",
      "      Successfully uninstalled pip-22.3.1\n",
      "Successfully installed pip-23.1.2\n",
      "Looking in indexes: https://pypi.org/simple, https://pip.repos.neuron.amazonaws.com\n",
      "Requirement already satisfied: numpy in /home/ec2-user/anaconda3/envs/python3/lib/python3.10/site-packages (1.22.3)\n"
     ]
    }
   ],
   "source": [
    "!pip install --upgrade pip\n",
    "!pip install numpy"
   ]
  },
  {
   "cell_type": "markdown",
   "id": "809dfd64",
   "metadata": {},
   "source": [
    "Para começar, primeiro importe o Numpy usando a instrução de importação do Python. Nomeie o Numpy como *np*, portanto, não precisamos escrever numpy cada vez que usarmos uma de suas funções. Esta é a convenção geral seguida ao importar a biblioteca."
   ]
  },
  {
   "cell_type": "code",
   "execution_count": 26,
   "id": "a2a34f07",
   "metadata": {
    "tags": []
   },
   "outputs": [],
   "source": [
    "import numpy as np"
   ]
  },
  {
   "cell_type": "markdown",
   "id": "57b11d11",
   "metadata": {},
   "source": [
    "## Array Numpy\n",
    "\n",
    "Um Array Numpy é muito semelhante a uma lista Python com uma condição especial de que todos os seus elementos devem ser do mesmo tipo. \n",
    "\n",
    "Usamos a função array() para definir um array em numpy. Ele aceita o primeiro argumento como a matriz e o segundo argumento como o tipo de elemento, por exemplo int, float etc. No exemplo, definimos uma matriz com os elementos 1, 2, 3 e 4 do tipo int (inteiro)."
   ]
  },
  {
   "cell_type": "code",
   "execution_count": 27,
   "id": "991b72c9",
   "metadata": {
    "tags": []
   },
   "outputs": [],
   "source": [
    "# Define um array com elementos do tipo inteiro: 1,2,3 e 4\n",
    "arrayInteiros = np.array([1,2,3,4], int)"
   ]
  },
  {
   "cell_type": "markdown",
   "id": "0a865af1-0011-4a4e-bd04-5691415a1176",
   "metadata": {},
   "source": [
    "No NumPy, você pode utilizar diferentes tipos de dados para criar arrays. Além do tipo de dado 'int' (inteiro), você pode utilizar os seguintes tipos de dados para criar arrays:\n",
    "\n",
    "- 'bool': para representar valores booleanos (True ou False).\n",
    "- 'float': para representar números de ponto flutuante.\n",
    "- 'complex': para representar números complexos.\n",
    "- 'str': para representar strings (cadeias de caracteres).\n",
    "- 'object': para representar objetos genéricos em Python.\n",
    "- 'unicode': para representar strings Unicode.\n",
    "\n",
    "Além desses tipos de dados básicos, o NumPy também fornece tipos de dados específicos com tamanhos fixos, como:\n",
    "\n",
    "- 'int8', 'int16', 'int32', 'int64': para representar inteiros com diferentes tamanhos em bits.\n",
    "- 'uint8', 'uint16', 'uint32', 'uint64': para representar inteiros sem sinal (não negativos) com diferentes tamanhos em bits.\n",
    "- 'float16', 'float32', 'float64': para representar números de ponto flutuante com diferentes precisões.\n",
    "\n",
    "Por exemplo, você pode criar um array de ponto flutuante da seguinte forma: **np.array([1.0, 2.5, 3.7], float)**'. Da mesma forma, você pode criar um array de strings utilizando '**np.array([\"sim\", \"não\", \"talvez\"], str)**'."
   ]
  },
  {
   "cell_type": "markdown",
   "id": "6d9b325b",
   "metadata": {},
   "source": [
    "## Criação de um Array  (matriz)"
   ]
  },
  {
   "cell_type": "markdown",
   "id": "023e355a",
   "metadata": {},
   "source": [
    "O índice na matriz numpy também começa com 0, então **arrayInteiros[0]** se refere ao primeiro elemento que é 1. \n",
    "\n",
    "Também podemos definir um intervalo como [: 2] que imprime todos os valores nos índices 0 a 1.\n",
    "\n",
    "É simples verificar se um elemento pertence a um array, basta utilizar o operador in, nesse caso a resposta é um valor booleano. "
   ]
  },
  {
   "cell_type": "code",
   "execution_count": 37,
   "id": "05dcf591",
   "metadata": {
    "tags": []
   },
   "outputs": [
    {
     "name": "stdout",
     "output_type": "stream",
     "text": [
      "1\n",
      "[1 2]\n",
      "True\n"
     ]
    }
   ],
   "source": [
    "# Podemos acessar esses elementos usando valores de índice\n",
    "print(arrayInteiros[0])\n",
    "\n",
    "# Também podemos usar intervalos para acessar valores\n",
    "print(arrayInteiros[: 2])\n",
    "\n",
    "# Descobre se existe um valor na matriz\n",
    "# Retorna verdadeiro se o valor existir, caso contrário retorna falso\n",
    "print(2 in arrayInteiros)"
   ]
  },
  {
   "cell_type": "markdown",
   "id": "175427d1",
   "metadata": {},
   "source": [
    "O Numpy também fornece métodos rápidos para definir uma matriz. Os métodos básicos incluem:\n",
    "\n",
    "- **zeros**:  array com todos os valores zero\n",
    "- **ones**: array com todos os valores um\n",
    "- **arange**: define a matriz como um intervalo de valores\n",
    "- **concatenação**: combinar matrizes"
   ]
  },
  {
   "cell_type": "code",
   "execution_count": 28,
   "id": "367c2b7b",
   "metadata": {
    "tags": []
   },
   "outputs": [],
   "source": [
    "# Cria array\n",
    "a = np.zeros(5) # Cria um array de zeros\n",
    "b = np.ones((3,5)) # Cria um array de uns  \n",
    "c = np.ones((2,3,4), dtype=np.int16 ) # Cria um array de uns do tipo inteiro"
   ]
  },
  {
   "cell_type": "code",
   "execution_count": 29,
   "id": "470259f1",
   "metadata": {
    "tags": []
   },
   "outputs": [
    {
     "name": "stdout",
     "output_type": "stream",
     "text": [
      "[0. 0. 0. 0. 0.]\n"
     ]
    }
   ],
   "source": [
    "print(a)"
   ]
  },
  {
   "cell_type": "code",
   "execution_count": 30,
   "id": "e217eb1e",
   "metadata": {
    "tags": []
   },
   "outputs": [
    {
     "name": "stdout",
     "output_type": "stream",
     "text": [
      "[[1. 1. 1. 1. 1.]\n",
      " [1. 1. 1. 1. 1.]\n",
      " [1. 1. 1. 1. 1.]]\n"
     ]
    }
   ],
   "source": [
    "print(b)"
   ]
  },
  {
   "cell_type": "code",
   "execution_count": 31,
   "id": "69c36353",
   "metadata": {
    "tags": []
   },
   "outputs": [
    {
     "name": "stdout",
     "output_type": "stream",
     "text": [
      "[[[1 1 1 1]\n",
      "  [1 1 1 1]\n",
      "  [1 1 1 1]]\n",
      "\n",
      " [[1 1 1 1]\n",
      "  [1 1 1 1]\n",
      "  [1 1 1 1]]]\n"
     ]
    }
   ],
   "source": [
    "print(c)"
   ]
  },
  {
   "cell_type": "code",
   "execution_count": 32,
   "id": "c0a8d3ab",
   "metadata": {
    "tags": []
   },
   "outputs": [],
   "source": [
    "# define uma array como um intervalo de valores\n",
    "d = np.array(range(10), int) # Cria um array com valores entre 0 e 9\n",
    "e = np.arange(15).reshape(3, 5) # Cria um array 3x5, com valores entre 0 e 14"
   ]
  },
  {
   "cell_type": "code",
   "execution_count": 33,
   "id": "a205ddaf",
   "metadata": {
    "tags": []
   },
   "outputs": [
    {
     "name": "stdout",
     "output_type": "stream",
     "text": [
      "[0 1 2 3 4 5 6 7 8 9]\n"
     ]
    }
   ],
   "source": [
    "print(d)"
   ]
  },
  {
   "cell_type": "code",
   "execution_count": 34,
   "id": "e5430e52",
   "metadata": {
    "tags": []
   },
   "outputs": [
    {
     "name": "stdout",
     "output_type": "stream",
     "text": [
      "[[ 0  1  2  3  4]\n",
      " [ 5  6  7  8  9]\n",
      " [10 11 12 13 14]]\n"
     ]
    }
   ],
   "source": [
    "print(e)"
   ]
  },
  {
   "cell_type": "code",
   "execution_count": 35,
   "id": "56ade07c",
   "metadata": {
    "tags": []
   },
   "outputs": [],
   "source": [
    "arrayInteiros2 = np.array([5,6], int)\n",
    "\n",
    "# Concatenar dois arrays\n",
    "f = np.concatenate((arrayInteiros, arrayInteiros2))"
   ]
  },
  {
   "cell_type": "code",
   "execution_count": 36,
   "id": "d99132e4",
   "metadata": {
    "tags": []
   },
   "outputs": [
    {
     "name": "stdout",
     "output_type": "stream",
     "text": [
      "[1 2 3 4 5 6]\n"
     ]
    }
   ],
   "source": [
    "print(f)"
   ]
  },
  {
   "cell_type": "markdown",
   "id": "d09f2a41",
   "metadata": {},
   "source": [
    "## Números Aleatórios\n",
    "\n",
    "Módulo random do Numpy é formado por um conjunto de funções baseadas na geração de números pseudoaleatórios. \n",
    "O número pseudoaleatório funciona começando com um inteiro chamado semente (seed) e então gera números em sucessão. A mesma semente fornece a mesma sequência de números aleatórios, daí o nome \"pseudo\" aleatório. "
   ]
  },
  {
   "cell_type": "code",
   "execution_count": 37,
   "id": "ba6c734f",
   "metadata": {
    "tags": []
   },
   "outputs": [
    {
     "name": "stdout",
     "output_type": "stream",
     "text": [
      "0.9105841250901242\n"
     ]
    }
   ],
   "source": [
    "x = np.random.random() # gera um valor entre 0 e 1.\n",
    "print(x)"
   ]
  },
  {
   "cell_type": "code",
   "execution_count": 38,
   "id": "dbf2eb0b",
   "metadata": {
    "tags": []
   },
   "outputs": [
    {
     "name": "stdout",
     "output_type": "stream",
     "text": [
      "79\n"
     ]
    }
   ],
   "source": [
    "x = np.random.randint(100) # gera um inteiro entre 0 e 100\n",
    "print(x)"
   ]
  },
  {
   "cell_type": "code",
   "execution_count": 39,
   "id": "15ccafd3",
   "metadata": {
    "tags": []
   },
   "outputs": [
    {
     "name": "stdout",
     "output_type": "stream",
     "text": [
      "0.6402158275428212\n"
     ]
    }
   ],
   "source": [
    "x = np.random.rand() # gera um ponto flutuante\n",
    "print(x)"
   ]
  },
  {
   "cell_type": "code",
   "execution_count": 40,
   "id": "873ebd90",
   "metadata": {
    "tags": []
   },
   "outputs": [
    {
     "name": "stdout",
     "output_type": "stream",
     "text": [
      "[0.41150525 0.76881077 0.96888969 0.88985653 0.74361778 0.07897722\n",
      " 0.00834204 0.75429794 0.73646596 0.56295257]\n"
     ]
    }
   ],
   "source": [
    "x = np.random.random(10)\n",
    "print(x)"
   ]
  },
  {
   "cell_type": "markdown",
   "id": "38dbdbab",
   "metadata": {},
   "source": [
    "__Gerando um array com números aleatórios__\n",
    "\n",
    "Os dois métodos já mostrados podem retornar matrizes com números aleatórios. "
   ]
  },
  {
   "cell_type": "code",
   "execution_count": 41,
   "id": "d7cd330b",
   "metadata": {
    "tags": []
   },
   "outputs": [
    {
     "name": "stdout",
     "output_type": "stream",
     "text": [
      "[22 73 16 28 76 51]\n"
     ]
    }
   ],
   "source": [
    "g = np.random.randint(100, size=(6))\n",
    "print(g)"
   ]
  },
  {
   "cell_type": "code",
   "execution_count": 42,
   "id": "9c9301db",
   "metadata": {
    "tags": []
   },
   "outputs": [
    {
     "name": "stdout",
     "output_type": "stream",
     "text": [
      "[[13 92 72 45 32]\n",
      " [26 30 56 85 21]\n",
      " [83 44 68 91  9]]\n"
     ]
    }
   ],
   "source": [
    "h = np.random.randint(100, size=(15)).reshape(3, 5)\n",
    "print(h)"
   ]
  },
  {
   "cell_type": "code",
   "execution_count": 43,
   "id": "f3c150be",
   "metadata": {
    "tags": []
   },
   "outputs": [
    {
     "name": "stdout",
     "output_type": "stream",
     "text": [
      "[[0.80326016 0.70619581 0.19138176]\n",
      " [0.35027195 0.69969213 0.03652571]\n",
      " [0.1596831  0.02882841 0.77494813]]\n"
     ]
    }
   ],
   "source": [
    "i = np.random.rand(9).reshape(3, 3)\n",
    "print(i)"
   ]
  },
  {
   "cell_type": "markdown",
   "id": "43bbec16",
   "metadata": {},
   "source": [
    "__Valor Semente__\n",
    "\n",
    "Conforme dito antes, os números pseudoaleatórios funcionam começando com um inteiro chamado semente e então gera números em sucessão. A mesma semente fornece a mesma sequência de números aleatórios, daí o nome \"pseudo\" geração de número aleatório. Se você deseja ter um código reproduzível, é bom propagar o gerador de números aleatórios usando a função __np.random.seed()__."
   ]
  },
  {
   "cell_type": "code",
   "execution_count": 46,
   "id": "95c002d6",
   "metadata": {
    "tags": []
   },
   "outputs": [
    {
     "name": "stdout",
     "output_type": "stream",
     "text": [
      "[[0.14371904 0.42858675 0.6315092 ]\n",
      " [0.64786408 0.19264569 0.0483815 ]\n",
      " [0.25706477 0.61370222 0.74051089]]\n",
      "[[0.15225036 0.60673259 0.27955884]\n",
      " [0.92813404 0.26099805 0.92919857]\n",
      " [0.47811121 0.52625605 0.05364068]]\n",
      "[[0.38722039 0.6667234  0.84619935]\n",
      " [0.1082074  0.78240306 0.94030343]\n",
      " [0.24912688 0.33551109 0.78354433]]\n",
      "[[0.57447797 0.61607197 0.00635844]\n",
      " [0.9282422  0.78367007 0.09539526]\n",
      " [0.63886072 0.76024245 0.85642548]]\n",
      "[[0.06362435 0.21393877 0.05252021]\n",
      " [0.13565937 0.72506674 0.29611614]\n",
      " [0.10909906 0.92766497 0.11758208]]\n"
     ]
    }
   ],
   "source": [
    "for j in range(5):\n",
    "    i = np.random.rand(9).reshape(3, 3)\n",
    "    print(i)"
   ]
  },
  {
   "cell_type": "code",
   "execution_count": 55,
   "id": "1bba461c",
   "metadata": {
    "tags": []
   },
   "outputs": [
    {
     "name": "stdout",
     "output_type": "stream",
     "text": [
      "[[0.05264542 0.22686178 0.27053051]\n",
      " [0.50443809 0.59693772 0.52525681]\n",
      " [0.74135356 0.01710367 0.94659158]]\n",
      "[[0.46914048 0.6676281  0.34448804]\n",
      " [0.36016699 0.88204454 0.72518318]\n",
      " [0.55560337 0.02786747 0.27339284]]\n",
      "[[0.71991029 0.90414274 0.5681797 ]\n",
      " [0.17786489 0.12039842 0.72450931]\n",
      " [0.24930328 0.68493792 0.76846214]]\n",
      "[[0.60295516 0.90316022 0.17239175]\n",
      " [0.13017855 0.79891905 0.1845929 ]\n",
      " [0.71295853 0.95565049 0.83161521]]\n",
      "[[0.47558039 0.98395327 0.9703749 ]\n",
      " [0.24367983 0.19250345 0.52824109]\n",
      " [0.08704815 0.45174819 0.0623505 ]]\n"
     ]
    }
   ],
   "source": [
    "np.random.seed(170) # define o valor semente como sendo 17\n",
    "for j in range(5):\n",
    "    i = np.random.rand(9).reshape(3, 3)\n",
    "    print(i)"
   ]
  },
  {
   "cell_type": "markdown",
   "id": "7ae0af6e",
   "metadata": {},
   "source": [
    "## Inspecionando sua matriz"
   ]
  },
  {
   "cell_type": "code",
   "execution_count": 56,
   "id": "08d0f5da",
   "metadata": {
    "tags": []
   },
   "outputs": [],
   "source": [
    "# Cria array\n",
    "a = np.zeros(5) # Cria um array de zeros\n",
    "b = np.ones((3,5)) # Cria um array de uns  \n",
    "c = np.ones((2,3,4), dtype=np.int16 ) # Cria um array de uns do tipo inteiro\n",
    "d = np.array(range(10), int) # Cria um array com valores entre 0 e 9"
   ]
  },
  {
   "cell_type": "code",
   "execution_count": 57,
   "id": "249196d4",
   "metadata": {
    "tags": []
   },
   "outputs": [
    {
     "data": {
      "text/plain": [
       "(5,)"
      ]
     },
     "execution_count": 57,
     "metadata": {},
     "output_type": "execute_result"
    }
   ],
   "source": [
    "a.shape # Dimensões do array "
   ]
  },
  {
   "cell_type": "code",
   "execution_count": 58,
   "id": "77ad40e6",
   "metadata": {
    "tags": []
   },
   "outputs": [
    {
     "data": {
      "text/plain": [
       "3"
      ]
     },
     "execution_count": 58,
     "metadata": {},
     "output_type": "execute_result"
    }
   ],
   "source": [
    "len(b)# primeira dimensão do array"
   ]
  },
  {
   "cell_type": "code",
   "execution_count": 59,
   "id": "245d2094",
   "metadata": {
    "tags": []
   },
   "outputs": [
    {
     "data": {
      "text/plain": [
       "3"
      ]
     },
     "execution_count": 59,
     "metadata": {},
     "output_type": "execute_result"
    }
   ],
   "source": [
    "c.ndim # Número de dimensões do array"
   ]
  },
  {
   "cell_type": "code",
   "execution_count": 60,
   "id": "077cca21",
   "metadata": {
    "tags": []
   },
   "outputs": [
    {
     "data": {
      "text/plain": [
       "24"
      ]
     },
     "execution_count": 60,
     "metadata": {},
     "output_type": "execute_result"
    }
   ],
   "source": [
    "c.size # Número de elementos do array"
   ]
  },
  {
   "cell_type": "code",
   "execution_count": 61,
   "id": "f1b7db23",
   "metadata": {
    "tags": []
   },
   "outputs": [
    {
     "data": {
      "text/plain": [
       "dtype('float64')"
      ]
     },
     "execution_count": 61,
     "metadata": {},
     "output_type": "execute_result"
    }
   ],
   "source": [
    "b.dtype # Tipo dos dados"
   ]
  },
  {
   "cell_type": "code",
   "execution_count": 62,
   "id": "b72d5ec7",
   "metadata": {
    "tags": []
   },
   "outputs": [
    {
     "data": {
      "text/plain": [
       "'int16'"
      ]
     },
     "execution_count": 62,
     "metadata": {},
     "output_type": "execute_result"
    }
   ],
   "source": [
    "c.dtype.name # Nome do tipo de dados"
   ]
  },
  {
   "cell_type": "code",
   "execution_count": 63,
   "id": "4727d585",
   "metadata": {
    "tags": []
   },
   "outputs": [
    {
     "data": {
      "text/plain": [
       "array([[[1., 1., 1., 1.],\n",
       "        [1., 1., 1., 1.],\n",
       "        [1., 1., 1., 1.]],\n",
       "\n",
       "       [[1., 1., 1., 1.],\n",
       "        [1., 1., 1., 1.],\n",
       "        [1., 1., 1., 1.]]])"
      ]
     },
     "execution_count": 63,
     "metadata": {},
     "output_type": "execute_result"
    }
   ],
   "source": [
    "c.astype(float) # Converta um tipo de array em um tipo diferente"
   ]
  },
  {
   "cell_type": "markdown",
   "id": "5e6495a8",
   "metadata": {},
   "source": [
    "## Operações com os Arrays\n",
    "Há uma ampla gama de operações que podemos aplicar em matrizes numpy."
   ]
  },
  {
   "cell_type": "markdown",
   "id": "7dca7e85",
   "metadata": {},
   "source": [
    "### Operações matemáticas básicas"
   ]
  },
  {
   "cell_type": "code",
   "execution_count": 47,
   "id": "dd760a1a",
   "metadata": {
    "tags": []
   },
   "outputs": [],
   "source": [
    "# Cria array\n",
    "a = np.zeros(5) # Cria um array de zeros\n",
    "b = np.ones((3,5)) # Cria um array de uns  \n",
    "c = np.ones((2,3,4), dtype=np.int16 ) # Cria um array de uns do tipo inteiro\n",
    "d = np.array([4,7,9,10,22]) \n",
    "e = np.array([2,7,26,5,5]) "
   ]
  },
  {
   "cell_type": "code",
   "execution_count": 48,
   "id": "7f7b711c",
   "metadata": {
    "tags": []
   },
   "outputs": [
    {
     "data": {
      "text/plain": [
       "array([[1., 1., 1., 1., 1.],\n",
       "       [1., 1., 1., 1., 1.],\n",
       "       [1., 1., 1., 1., 1.]])"
      ]
     },
     "execution_count": 48,
     "metadata": {},
     "output_type": "execute_result"
    }
   ],
   "source": [
    "np.add(a,b) # Adição"
   ]
  },
  {
   "cell_type": "code",
   "execution_count": 49,
   "id": "8c7d17c5",
   "metadata": {
    "tags": []
   },
   "outputs": [
    {
     "data": {
      "text/plain": [
       "array([[-1., -1., -1., -1., -1.],\n",
       "       [-1., -1., -1., -1., -1.],\n",
       "       [-1., -1., -1., -1., -1.]])"
      ]
     },
     "execution_count": 49,
     "metadata": {},
     "output_type": "execute_result"
    }
   ],
   "source": [
    "np.subtract(a,b) # Subtração"
   ]
  },
  {
   "cell_type": "code",
   "execution_count": 50,
   "id": "b1899136",
   "metadata": {
    "tags": []
   },
   "outputs": [
    {
     "data": {
      "text/plain": [
       "array([2.        , 1.        , 0.34615385, 2.        , 4.4       ])"
      ]
     },
     "execution_count": 50,
     "metadata": {},
     "output_type": "execute_result"
    }
   ],
   "source": [
    "np.divide(d,e) # Divisão"
   ]
  },
  {
   "cell_type": "code",
   "execution_count": 51,
   "id": "f01af2a6",
   "metadata": {
    "tags": []
   },
   "outputs": [
    {
     "data": {
      "text/plain": [
       "array([  8,  49, 234,  50, 110])"
      ]
     },
     "execution_count": 51,
     "metadata": {},
     "output_type": "execute_result"
    }
   ],
   "source": [
    "np.multiply(d,e) # Multiplicação"
   ]
  },
  {
   "cell_type": "code",
   "execution_count": 52,
   "id": "9a73c6a9",
   "metadata": {
    "tags": []
   },
   "outputs": [
    {
     "data": {
      "text/plain": [
       "False"
      ]
     },
     "execution_count": 52,
     "metadata": {},
     "output_type": "execute_result"
    }
   ],
   "source": [
    "np.array_equal(d,e) # Comparação"
   ]
  },
  {
   "cell_type": "markdown",
   "id": "d809cffa",
   "metadata": {},
   "source": [
    "### Fuções sobre os elementos"
   ]
  },
  {
   "cell_type": "code",
   "execution_count": 53,
   "id": "445d7aba",
   "metadata": {
    "tags": []
   },
   "outputs": [],
   "source": [
    "# Cria os arrays\n",
    "a = np.arange(15).reshape(3, 5) "
   ]
  },
  {
   "cell_type": "code",
   "execution_count": 54,
   "id": "54f513b7",
   "metadata": {
    "tags": []
   },
   "outputs": [
    {
     "data": {
      "text/plain": [
       "105"
      ]
     },
     "execution_count": 54,
     "metadata": {},
     "output_type": "execute_result"
    }
   ],
   "source": [
    "a.sum() # Soma os elementos"
   ]
  },
  {
   "cell_type": "code",
   "execution_count": 55,
   "id": "700d8475",
   "metadata": {
    "tags": []
   },
   "outputs": [
    {
     "data": {
      "text/plain": [
       "0"
      ]
     },
     "execution_count": 55,
     "metadata": {},
     "output_type": "execute_result"
    }
   ],
   "source": [
    "a.min() # Retorna o menor valor"
   ]
  },
  {
   "cell_type": "code",
   "execution_count": 56,
   "id": "1d9fca29",
   "metadata": {
    "tags": []
   },
   "outputs": [
    {
     "data": {
      "text/plain": [
       "7.0"
      ]
     },
     "execution_count": 56,
     "metadata": {},
     "output_type": "execute_result"
    }
   ],
   "source": [
    "a.mean() # Retorna o valor médio"
   ]
  },
  {
   "cell_type": "code",
   "execution_count": 57,
   "id": "198ef528",
   "metadata": {
    "tags": []
   },
   "outputs": [
    {
     "data": {
      "text/plain": [
       "7.0"
      ]
     },
     "execution_count": 57,
     "metadata": {},
     "output_type": "execute_result"
    }
   ],
   "source": [
    "np.median(a) # Retorna o valor mediana"
   ]
  },
  {
   "cell_type": "code",
   "execution_count": 58,
   "id": "e85860f2",
   "metadata": {
    "tags": []
   },
   "outputs": [
    {
     "name": "stdout",
     "output_type": "stream",
     "text": [
      "[[  0   1   2   3   4]\n",
      " [  5   6 100   8   9]\n",
      " [ 10  11  12  13  14]]\n"
     ]
    },
    {
     "data": {
      "text/plain": [
       "array([ 10,  11, 100,  13,  14])"
      ]
     },
     "execution_count": 58,
     "metadata": {},
     "output_type": "execute_result"
    }
   ],
   "source": [
    "a = np.arange(15).reshape(3, 5) \n",
    "a[1,2]=100\n",
    "print(a)\n",
    "a.max(axis=0) # valor máximo de cada coluna"
   ]
  },
  {
   "cell_type": "code",
   "execution_count": 59,
   "id": "1c62a2ae",
   "metadata": {
    "tags": []
   },
   "outputs": [
    {
     "data": {
      "text/plain": [
       "23.59717497215857"
      ]
     },
     "execution_count": 59,
     "metadata": {},
     "output_type": "execute_result"
    }
   ],
   "source": [
    "np.std(a) # Desvio Padrão"
   ]
  },
  {
   "cell_type": "markdown",
   "id": "3ae6dbb6",
   "metadata": {},
   "source": [
    "### Subconjunto, divisão e indexação"
   ]
  },
  {
   "cell_type": "code",
   "execution_count": 63,
   "id": "e427bd42",
   "metadata": {
    "tags": []
   },
   "outputs": [],
   "source": [
    "# Cria os arrays\n",
    "a = np.arange(15)"
   ]
  },
  {
   "cell_type": "code",
   "execution_count": 64,
   "id": "3e276a6c",
   "metadata": {
    "tags": []
   },
   "outputs": [
    {
     "data": {
      "text/plain": [
       "array([0, 1])"
      ]
     },
     "execution_count": 64,
     "metadata": {},
     "output_type": "execute_result"
    }
   ],
   "source": [
    "a[0:2] # Selecione os itens no índice 0 e 1"
   ]
  },
  {
   "cell_type": "code",
   "execution_count": 65,
   "id": "72d682e7",
   "metadata": {
    "tags": []
   },
   "outputs": [
    {
     "data": {
      "text/plain": [
       "array([0])"
      ]
     },
     "execution_count": 65,
     "metadata": {},
     "output_type": "execute_result"
    }
   ],
   "source": [
    "a[:1] # Selecione todos os itens na linha 0"
   ]
  },
  {
   "cell_type": "code",
   "execution_count": 66,
   "id": "bcfbd8a9",
   "metadata": {
    "tags": []
   },
   "outputs": [
    {
     "data": {
      "text/plain": [
       "array([14])"
      ]
     },
     "execution_count": 66,
     "metadata": {},
     "output_type": "execute_result"
    }
   ],
   "source": [
    "a[-1:] # Selecione todos os itens da última linha"
   ]
  },
  {
   "cell_type": "code",
   "execution_count": 67,
   "id": "9a4048a0",
   "metadata": {
    "tags": []
   },
   "outputs": [
    {
     "data": {
      "text/plain": [
       "array([0, 1])"
      ]
     },
     "execution_count": 67,
     "metadata": {},
     "output_type": "execute_result"
    }
   ],
   "source": [
    "a[a<2] # Selecione os elementos de 'a' que são menores que 2"
   ]
  },
  {
   "cell_type": "code",
   "execution_count": 63,
   "id": "9b6ef45c-ccac-4cbc-8a73-3e2e915d01b5",
   "metadata": {
    "tags": []
   },
   "outputs": [],
   "source": [
    "# Cria os arrays\n",
    "a = np.arange(15).reshape(3, 5) "
   ]
  },
  {
   "cell_type": "code",
   "execution_count": 61,
   "id": "e950ae82",
   "metadata": {
    "tags": []
   },
   "outputs": [
    {
     "data": {
      "text/plain": [
       "7"
      ]
     },
     "execution_count": 61,
     "metadata": {},
     "output_type": "execute_result"
    }
   ],
   "source": [
    "a[1,2] # Selecione o elemento da linha 1 e coluna 2"
   ]
  }
 ],
 "metadata": {
  "kernelspec": {
   "display_name": "conda_python3",
   "language": "python",
   "name": "conda_python3"
  },
  "language_info": {
   "codemirror_mode": {
    "name": "ipython",
    "version": 3
   },
   "file_extension": ".py",
   "mimetype": "text/x-python",
   "name": "python",
   "nbconvert_exporter": "python",
   "pygments_lexer": "ipython3",
   "version": "3.10.8"
  }
 },
 "nbformat": 4,
 "nbformat_minor": 5
}
