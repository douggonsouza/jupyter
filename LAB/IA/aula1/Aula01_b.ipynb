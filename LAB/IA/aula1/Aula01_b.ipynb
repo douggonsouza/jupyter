{
 "cells": [
  {
   "cell_type": "markdown",
   "id": "ee589c79",
   "metadata": {
    "tags": []
   },
   "source": [
    "# Primeros Programas"
   ]
  },
  {
   "cell_type": "markdown",
   "id": "2ba7cdac",
   "metadata": {},
   "source": [
    "## O tradicional:"
   ]
  },
  {
   "cell_type": "code",
   "execution_count": 1,
   "id": "8b65d04b",
   "metadata": {
    "tags": []
   },
   "outputs": [
    {
     "name": "stdout",
     "output_type": "stream",
     "text": [
      "Olá Mundo\n"
     ]
    }
   ],
   "source": [
    "print(\"Olá Mundo\")"
   ]
  },
  {
   "cell_type": "markdown",
   "id": "2ebfe9c5",
   "metadata": {},
   "source": [
    "## Exemplos de Comentários"
   ]
  },
  {
   "cell_type": "markdown",
   "id": "2df6a068",
   "metadata": {},
   "source": [
    "No Python, os comentários começam com cerquilha '#' e se estendem até o final da linha. O sinal '#' pode estar no início da linha ou após o código."
   ]
  },
  {
   "cell_type": "code",
   "execution_count": 2,
   "id": "fdab3693",
   "metadata": {
    "tags": []
   },
   "outputs": [
    {
     "name": "stdout",
     "output_type": "stream",
     "text": [
      "Mais um teste\n"
     ]
    }
   ],
   "source": [
    "# comentário simples\n",
    "print(\"Mais um teste\")"
   ]
  },
  {
   "cell_type": "markdown",
   "id": "1171d52d",
   "metadata": {},
   "source": [
    "Para comentários de mais uma linha usamos \"\"\""
   ]
  },
  {
   "cell_type": "code",
   "execution_count": 3,
   "id": "734a4fe0",
   "metadata": {
    "tags": []
   },
   "outputs": [
    {
     "name": "stdout",
     "output_type": "stream",
     "text": [
      "outro teste\n"
     ]
    }
   ],
   "source": [
    "'''\n",
    "linha1\n",
    "linha2\n",
    "'''\n",
    "print(\"outro teste\") "
   ]
  },
  {
   "cell_type": "markdown",
   "id": "63c3ae68",
   "metadata": {},
   "source": [
    "Comentário de um função:"
   ]
  },
  {
   "cell_type": "code",
   "execution_count": 4,
   "id": "441fd942",
   "metadata": {
    "tags": []
   },
   "outputs": [],
   "source": [
    "def dobro(n):\n",
    "    '''Recebe um número n, retorna o dobro de seu valor'''\n",
    "    return n**2"
   ]
  },
  {
   "cell_type": "code",
   "execution_count": 5,
   "id": "5f4cfea6",
   "metadata": {
    "tags": []
   },
   "outputs": [
    {
     "name": "stdout",
     "output_type": "stream",
     "text": [
      "Recebe um número n, retorna o dobro de seu valor\n"
     ]
    }
   ],
   "source": [
    "print(dobro.__doc__)"
   ]
  },
  {
   "cell_type": "code",
   "execution_count": 6,
   "id": "c18f15f5",
   "metadata": {
    "tags": []
   },
   "outputs": [
    {
     "name": "stdout",
     "output_type": "stream",
     "text": [
      "Help on function dobro in module __main__:\n",
      "\n",
      "dobro(n)\n",
      "    Recebe um número n, retorna o dobro de seu valor\n",
      "\n"
     ]
    }
   ],
   "source": [
    "help(dobro)"
   ]
  },
  {
   "cell_type": "markdown",
   "id": "a7394f7d",
   "metadata": {},
   "source": [
    "Comentários em um classe:"
   ]
  },
  {
   "cell_type": "code",
   "execution_count": 7,
   "id": "7c0d9432",
   "metadata": {
    "tags": []
   },
   "outputs": [],
   "source": [
    "class NrComplexo:\n",
    "    '''\n",
    "        Esta é uma classe para operações matemáticas em números complexos\n",
    "\n",
    "        Atributos:\n",
    "        real (int): A parte real do número complexo.\n",
    "        imag (int): a parte imaginária de um número complexo\n",
    "    '''\n",
    "    \n",
    "    def __init__ (self, real, imag):\n",
    "        '''\n",
    "            O construtor da classe ComplexNumber.\n",
    "\n",
    "             Parâmetros:\n",
    "             real (int): A parte real do número complexo.\n",
    "             imag (int): a parte imaginária de um número complexo\n",
    "        '''\n",
    "\n",
    "    def add(self, num):\n",
    "        '''\n",
    "            A função para adicionar dois números complexos.\n",
    "\n",
    "            Parâmetros:\n",
    "            num (ComplexNumber): O número complexo a ser adicionado.\n",
    "\n",
    "            Retorna:\n",
    "            ComplexNumber: um número complexo que contém a soma.    \n",
    "        '''\n",
    "        re = self.real + num.real\n",
    "        im = self.imag + num. imag\n",
    "        return NrComplexo(re, im)"
   ]
  },
  {
   "cell_type": "markdown",
   "id": "3129a832-befb-4020-8794-f8e8e8b80935",
   "metadata": {},
   "source": [
    "# Visualizando e entendendo seus dados em Python"
   ]
  },
  {
   "cell_type": "code",
   "execution_count": 8,
   "id": "0987dd29-68ef-4940-b6f9-8385c7a35d81",
   "metadata": {
    "tags": []
   },
   "outputs": [],
   "source": [
    "import pandas as pd\n",
    "nome_arquivo = \"management_experience_and_salary.csv\"\n",
    "df_dados = pd.read_csv(nome_arquivo)"
   ]
  },
  {
   "cell_type": "code",
   "execution_count": 9,
   "id": "5332abbf-05a2-4740-ae46-afee61977910",
   "metadata": {
    "tags": []
   },
   "outputs": [
    {
     "data": {
      "text/html": [
       "<div>\n",
       "<style scoped>\n",
       "    .dataframe tbody tr th:only-of-type {\n",
       "        vertical-align: middle;\n",
       "    }\n",
       "\n",
       "    .dataframe tbody tr th {\n",
       "        vertical-align: top;\n",
       "    }\n",
       "\n",
       "    .dataframe thead th {\n",
       "        text-align: right;\n",
       "    }\n",
       "</style>\n",
       "<table border=\"1\" class=\"dataframe\">\n",
       "  <thead>\n",
       "    <tr style=\"text-align: right;\">\n",
       "      <th></th>\n",
       "      <th>last_name</th>\n",
       "      <th>management_experience_months</th>\n",
       "      <th>monthly_salary</th>\n",
       "    </tr>\n",
       "  </thead>\n",
       "  <tbody>\n",
       "    <tr>\n",
       "      <th>0</th>\n",
       "      <td>Taylor</td>\n",
       "      <td>65</td>\n",
       "      <td>1630</td>\n",
       "    </tr>\n",
       "    <tr>\n",
       "      <th>1</th>\n",
       "      <td>Wang</td>\n",
       "      <td>61</td>\n",
       "      <td>1330</td>\n",
       "    </tr>\n",
       "    <tr>\n",
       "      <th>2</th>\n",
       "      <td>Brown</td>\n",
       "      <td>38</td>\n",
       "      <td>1290</td>\n",
       "    </tr>\n",
       "    <tr>\n",
       "      <th>3</th>\n",
       "      <td>Harris</td>\n",
       "      <td>71</td>\n",
       "      <td>1480</td>\n",
       "    </tr>\n",
       "    <tr>\n",
       "      <th>4</th>\n",
       "      <td>Jones</td>\n",
       "      <td>94</td>\n",
       "      <td>1590</td>\n",
       "    </tr>\n",
       "    <tr>\n",
       "      <th>5</th>\n",
       "      <td>Garcia</td>\n",
       "      <td>93</td>\n",
       "      <td>1750</td>\n",
       "    </tr>\n",
       "    <tr>\n",
       "      <th>6</th>\n",
       "      <td>Williams</td>\n",
       "      <td>15</td>\n",
       "      <td>1020</td>\n",
       "    </tr>\n",
       "    <tr>\n",
       "      <th>7</th>\n",
       "      <td>Lee</td>\n",
       "      <td>56</td>\n",
       "      <td>1290</td>\n",
       "    </tr>\n",
       "    <tr>\n",
       "      <th>8</th>\n",
       "      <td>White</td>\n",
       "      <td>59</td>\n",
       "      <td>1430</td>\n",
       "    </tr>\n",
       "    <tr>\n",
       "      <th>9</th>\n",
       "      <td>Tan</td>\n",
       "      <td>7</td>\n",
       "      <td>960</td>\n",
       "    </tr>\n",
       "    <tr>\n",
       "      <th>10</th>\n",
       "      <td>Chen</td>\n",
       "      <td>14</td>\n",
       "      <td>1090</td>\n",
       "    </tr>\n",
       "    <tr>\n",
       "      <th>11</th>\n",
       "      <td>Kim</td>\n",
       "      <td>67</td>\n",
       "      <td>1340</td>\n",
       "    </tr>\n",
       "    <tr>\n",
       "      <th>12</th>\n",
       "      <td>Davis</td>\n",
       "      <td>29</td>\n",
       "      <td>1170</td>\n",
       "    </tr>\n",
       "    <tr>\n",
       "      <th>13</th>\n",
       "      <td>James</td>\n",
       "      <td>49</td>\n",
       "      <td>1390</td>\n",
       "    </tr>\n",
       "    <tr>\n",
       "      <th>14</th>\n",
       "      <td>Perez</td>\n",
       "      <td>46</td>\n",
       "      <td>1240</td>\n",
       "    </tr>\n",
       "    <tr>\n",
       "      <th>15</th>\n",
       "      <td>Cruz</td>\n",
       "      <td>73</td>\n",
       "      <td>1390</td>\n",
       "    </tr>\n",
       "    <tr>\n",
       "      <th>16</th>\n",
       "      <td>Smith</td>\n",
       "      <td>19</td>\n",
       "      <td>960</td>\n",
       "    </tr>\n",
       "    <tr>\n",
       "      <th>17</th>\n",
       "      <td>Thompson</td>\n",
       "      <td>22</td>\n",
       "      <td>1040</td>\n",
       "    </tr>\n",
       "    <tr>\n",
       "      <th>18</th>\n",
       "      <td>Joseph</td>\n",
       "      <td>32</td>\n",
       "      <td>1090</td>\n",
       "    </tr>\n",
       "    <tr>\n",
       "      <th>19</th>\n",
       "      <td>Singh</td>\n",
       "      <td>37</td>\n",
       "      <td>1300</td>\n",
       "    </tr>\n",
       "  </tbody>\n",
       "</table>\n",
       "</div>"
      ],
      "text/plain": [
       "   last_name  management_experience_months  monthly_salary\n",
       "0     Taylor                            65            1630\n",
       "1       Wang                            61            1330\n",
       "2      Brown                            38            1290\n",
       "3     Harris                            71            1480\n",
       "4      Jones                            94            1590\n",
       "5     Garcia                            93            1750\n",
       "6   Williams                            15            1020\n",
       "7        Lee                            56            1290\n",
       "8      White                            59            1430\n",
       "9        Tan                             7             960\n",
       "10      Chen                            14            1090\n",
       "11       Kim                            67            1340\n",
       "12     Davis                            29            1170\n",
       "13     James                            49            1390\n",
       "14     Perez                            46            1240\n",
       "15      Cruz                            73            1390\n",
       "16     Smith                            19             960\n",
       "17  Thompson                            22            1040\n",
       "18    Joseph                            32            1090\n",
       "19     Singh                            37            1300"
      ]
     },
     "execution_count": 9,
     "metadata": {},
     "output_type": "execute_result"
    }
   ],
   "source": [
    "df_dados"
   ]
  },
  {
   "cell_type": "code",
   "execution_count": 10,
   "id": "ccce26a8-4a08-47a2-990f-3ce3f6b01c4b",
   "metadata": {
    "tags": []
   },
   "outputs": [],
   "source": [
    "import matplotlib.pyplot as plt"
   ]
  },
  {
   "cell_type": "code",
   "execution_count": 11,
   "id": "06549f79-c00a-4f3b-a494-d417c3cd43a9",
   "metadata": {
    "tags": []
   },
   "outputs": [
    {
     "data": {
      "text/plain": [
       "(0.0, 2400.0)"
      ]
     },
     "execution_count": 11,
     "metadata": {},
     "output_type": "execute_result"
    },
    {
     "data": {
      "image/png": "[encoded data removed]",
      "text/plain": [
       "<Figure size 800x800 with 1 Axes>"
      ]
     },
     "metadata": {},
     "output_type": "display_data"
    }
   ],
   "source": [
    "plt.rcParams[\"figure.figsize\"] = (8,8) \n",
    "plt.scatter(df_dados.management_experience_months, df_dados.monthly_salary)\n",
    "plt.xlabel('Experiência em Gestão (Meses))', fontsize=18) \n",
    "plt.ylabel('Salário Mensal (USD)', fontsize=16) \n",
    "plt.xlim(0, 120)\n",
    "plt.ylim(0, 2400)"
   ]
  },
  {
   "cell_type": "markdown",
   "id": "47bf1745",
   "metadata": {},
   "source": [
    "## Exemplo de programa para obtenção de dados"
   ]
  },
  {
   "cell_type": "markdown",
   "id": "daf62b1c",
   "metadata": {},
   "source": [
    "### Fonte dos dados"
   ]
  },
  {
   "cell_type": "markdown",
   "id": "ebce5063",
   "metadata": {},
   "source": [
    "Dua, D. and Graff, C. (2019). UCI machine learning Repository (http://archive.ics.uci.edu/ml). Irvine, CA: University of California, School of Information and Computer Science."
   ]
  },
  {
   "cell_type": "code",
   "execution_count": null,
   "id": "0428e576",
   "metadata": {
    "tags": []
   },
   "outputs": [],
   "source": [
    "url_arquivo_dados = 'http://archive.ics.uci.edu/ml/machine-learning-databases/00212/vertebral_column_data.zip'"
   ]
  },
  {
   "cell_type": "markdown",
   "id": "ed13d183",
   "metadata": {},
   "source": [
    "### Desafios:"
   ]
  },
  {
   "cell_type": "markdown",
   "id": "62ed0216",
   "metadata": {},
   "source": [
    "1. Os dados tem que ser acessados via web.\n",
    "2. Os dados estão compactados (zipfiles).\n",
    "3. Os dados estão estão no formato arff (comum em arquivos usados em aprendizado de máquina)"
   ]
  },
  {
   "cell_type": "markdown",
   "id": "20fefc95",
   "metadata": {},
   "source": [
    "#### Pacote Requests  "
   ]
  },
  {
   "cell_type": "markdown",
   "id": "e475c4e2",
   "metadata": {},
   "source": [
    "O objetivo da pacote Requests é tornar as solicitações HTTP mais simples e mais amigáveis."
   ]
  },
  {
   "cell_type": "code",
   "execution_count": null,
   "id": "4005c79f",
   "metadata": {
    "tags": []
   },
   "outputs": [],
   "source": [
    "import requests"
   ]
  },
  {
   "cell_type": "code",
   "execution_count": null,
   "id": "452d04ea",
   "metadata": {
    "tags": []
   },
   "outputs": [],
   "source": [
    "# copia os dados do sevidor\n",
    "resposta = requests.get(url_arquivo_dados, stream=True)"
   ]
  },
  {
   "cell_type": "markdown",
   "id": "6a33bfac",
   "metadata": {},
   "source": [
    "### Pacote zipfile"
   ]
  },
  {
   "cell_type": "markdown",
   "id": "36e76530",
   "metadata": {},
   "source": [
    "Para manipular aquivos compactados usaremos o pacote zipfile."
   ]
  },
  {
   "cell_type": "code",
   "execution_count": null,
   "id": "beea09f0",
   "metadata": {
    "tags": []
   },
   "outputs": [],
   "source": [
    "import io\n",
    "import zipfile"
   ]
  },
  {
   "cell_type": "code",
   "execution_count": null,
   "id": "d7ab1001",
   "metadata": {
    "tags": []
   },
   "outputs": [],
   "source": [
    "#descompactar\n",
    "Vertebral_zip = zipfile.ZipFile(io.BytesIO(resposta.content))\n",
    "Vertebral_zip.extractall()"
   ]
  },
  {
   "cell_type": "markdown",
   "id": "b48eccfa",
   "metadata": {},
   "source": [
    "### Pacote Scipy"
   ]
  },
  {
   "cell_type": "markdown",
   "id": "ce17f958",
   "metadata": {},
   "source": [
    "Nesse exemplo os dados recebidos estão no formato **ARRF** (que é um acrônimo de Attribute-Relation File Format)."
   ]
  },
  {
   "cell_type": "markdown",
   "id": "d3eeb631",
   "metadata": {},
   "source": [
    "Internamente é um arquivo de texto em formato ASCII, podendo ser aberto com qualquer editor de texto. Podemos dividir o arquivo em duas seções principais: \n",
    "- um cabeçalho e \n",
    "- uma área de dados. "
   ]
  },
  {
   "cell_type": "markdown",
   "id": "dbfb842f",
   "metadata": {},
   "source": [
    "Também é possível incluir comentário no arquivo, os comentários são desconsiderados pela aplicação ao carregar o arquivo. Os comentário são interessantes pois podem conter diversas explicações sobres os dados contidos."
   ]
  },
  {
   "cell_type": "markdown",
   "id": "3b3d1d72",
   "metadata": {},
   "source": [
    "Para manipular arquivos no formato arff usaremos o pacote **scipy**. "
   ]
  },
  {
   "cell_type": "code",
   "execution_count": null,
   "id": "d1b78379",
   "metadata": {
    "tags": []
   },
   "outputs": [],
   "source": [
    "from scipy.io import arff"
   ]
  },
  {
   "cell_type": "code",
   "execution_count": null,
   "id": "e792e3d9",
   "metadata": {
    "tags": []
   },
   "outputs": [],
   "source": [
    "# Ler o arquivo column_2C_weka.arff \n",
    "dados = arff.loadarff('column_2C_weka.arff')"
   ]
  },
  {
   "cell_type": "code",
   "execution_count": null,
   "id": "6ae26621",
   "metadata": {
    "tags": []
   },
   "outputs": [],
   "source": [
    "print(dados[0])"
   ]
  },
  {
   "cell_type": "markdown",
   "id": "4bd7ec06",
   "metadata": {},
   "source": [
    "### Pacote Pandas"
   ]
  },
  {
   "cell_type": "markdown",
   "id": "dca5bc34",
   "metadata": {},
   "source": [
    "Para exibir os dados na forma de uma tabela usaremos o pandas."
   ]
  },
  {
   "cell_type": "code",
   "execution_count": null,
   "id": "d82d3726",
   "metadata": {
    "tags": []
   },
   "outputs": [],
   "source": [
    "import pandas as pd"
   ]
  },
  {
   "cell_type": "code",
   "execution_count": null,
   "id": "3ef62c55",
   "metadata": {
    "tags": []
   },
   "outputs": [],
   "source": [
    "# mostrar os dados na forma de uma tabela.\n",
    "df = pd.DataFrame(dados[0])\n",
    "df.head()"
   ]
  },
  {
   "cell_type": "code",
   "execution_count": null,
   "id": "01f2c3d1-e315-46fe-af25-184f224a0e25",
   "metadata": {},
   "outputs": [],
   "source": []
  }
 ],
 "metadata": {
  "kernelspec": {
   "display_name": "conda_python3",
   "language": "python",
   "name": "conda_python3"
  },
  "language_info": {
   "codemirror_mode": {
    "name": "ipython",
    "version": 3
   },
   "file_extension": ".py",
   "mimetype": "text/x-python",
   "name": "python",
   "nbconvert_exporter": "python",
   "pygments_lexer": "ipython3",
   "version": "3.10.8"
  }
 },
 "nbformat": 4,
 "nbformat_minor": 5
}
