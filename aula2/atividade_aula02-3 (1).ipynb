{
 "cells": [
  {
   "cell_type": "markdown",
   "id": "d3ad1208",
   "metadata": {},
   "source": [
    "# Atividade"
   ]
  },
  {
   "cell_type": "markdown",
   "id": "ccd5e0c5",
   "metadata": {},
   "source": [
    "## Carregando os dados"
   ]
  },
  {
   "cell_type": "code",
   "execution_count": 1,
   "id": "0dcefe28",
   "metadata": {
    "tags": []
   },
   "outputs": [],
   "source": [
    "import requests\n",
    "import pandas as pd\n",
    "\n",
    "\n",
    "url = \"https://dados-mba-python-2023.s3.amazonaws.com/carro_atividade1.csv\"\n",
    "r = requests.get(url, stream=True)\n"
   ]
  },
  {
   "cell_type": "code",
   "execution_count": 2,
   "id": "47594e1a-4e1a-4426-aa21-dc675c88ae26",
   "metadata": {
    "tags": []
   },
   "outputs": [],
   "source": [
    "\n",
    "df_carros = pd.read_csv(url,sep=',',names=['preço_compra','preço_manutenção','portas','pessoas','porta-malas','segurança','classe'])"
   ]
  },
  {
   "cell_type": "markdown",
   "id": "a7d86420",
   "metadata": {},
   "source": [
    "## 1. Mostre o DataFrame::"
   ]
  },
  {
   "cell_type": "code",
   "execution_count": 3,
   "id": "d140a7f3-74d7-47e8-ab53-be3763cbe678",
   "metadata": {
    "tags": []
   },
   "outputs": [
    {
     "data": {
      "text/html": [
       "<div>\n",
       "<style scoped>\n",
       "    .dataframe tbody tr th:only-of-type {\n",
       "        vertical-align: middle;\n",
       "    }\n",
       "\n",
       "    .dataframe tbody tr th {\n",
       "        vertical-align: top;\n",
       "    }\n",
       "\n",
       "    .dataframe thead th {\n",
       "        text-align: right;\n",
       "    }\n",
       "</style>\n",
       "<table border=\"1\" class=\"dataframe\">\n",
       "  <thead>\n",
       "    <tr style=\"text-align: right;\">\n",
       "      <th></th>\n",
       "      <th>preço_compra</th>\n",
       "      <th>preço_manutenção</th>\n",
       "      <th>portas</th>\n",
       "      <th>pessoas</th>\n",
       "      <th>porta-malas</th>\n",
       "      <th>segurança</th>\n",
       "      <th>classe</th>\n",
       "    </tr>\n",
       "  </thead>\n",
       "  <tbody>\n",
       "    <tr>\n",
       "      <th>0</th>\n",
       "      <td>m_alta</td>\n",
       "      <td>med</td>\n",
       "      <td>2</td>\n",
       "      <td>4</td>\n",
       "      <td>pequeno</td>\n",
       "      <td>alta</td>\n",
       "      <td>aceito</td>\n",
       "    </tr>\n",
       "    <tr>\n",
       "      <th>1</th>\n",
       "      <td>m_alta</td>\n",
       "      <td>med</td>\n",
       "      <td>2</td>\n",
       "      <td>4</td>\n",
       "      <td>med</td>\n",
       "      <td>alta</td>\n",
       "      <td>aceito</td>\n",
       "    </tr>\n",
       "    <tr>\n",
       "      <th>2</th>\n",
       "      <td>m_alta</td>\n",
       "      <td>med</td>\n",
       "      <td>2</td>\n",
       "      <td>4</td>\n",
       "      <td>grande</td>\n",
       "      <td>med</td>\n",
       "      <td>aceito</td>\n",
       "    </tr>\n",
       "    <tr>\n",
       "      <th>3</th>\n",
       "      <td>m_alta</td>\n",
       "      <td>med</td>\n",
       "      <td>2</td>\n",
       "      <td>4</td>\n",
       "      <td>grande</td>\n",
       "      <td>alta</td>\n",
       "      <td>aceito</td>\n",
       "    </tr>\n",
       "    <tr>\n",
       "      <th>4</th>\n",
       "      <td>m_alta</td>\n",
       "      <td>med</td>\n",
       "      <td>2</td>\n",
       "      <td>more</td>\n",
       "      <td>med</td>\n",
       "      <td>alta</td>\n",
       "      <td>aceito</td>\n",
       "    </tr>\n",
       "  </tbody>\n",
       "</table>\n",
       "</div>"
      ],
      "text/plain": [
       "  preço_compra preço_manutenção  portas pessoas porta-malas segurança  classe\n",
       "0       m_alta              med       2       4     pequeno      alta  aceito\n",
       "1       m_alta              med       2       4         med      alta  aceito\n",
       "2       m_alta              med       2       4      grande       med  aceito\n",
       "3       m_alta              med       2       4      grande      alta  aceito\n",
       "4       m_alta              med       2    more         med      alta  aceito"
      ]
     },
     "execution_count": 3,
     "metadata": {},
     "output_type": "execute_result"
    }
   ],
   "source": [
    "# Escreva seu código aqui\n",
    "dfc = pd.DataFrame(df_carros)\n",
    "dfc.head()"
   ]
  },
  {
   "cell_type": "markdown",
   "id": "82ba3e48",
   "metadata": {},
   "source": [
    "## 2. Quais tipos de dados nós temos?"
   ]
  },
  {
   "cell_type": "code",
   "execution_count": 4,
   "id": "8bbc7b2d-03df-4ae0-b366-c90ae5a86f8e",
   "metadata": {
    "tags": []
   },
   "outputs": [
    {
     "data": {
      "text/plain": [
       "preço_compra        object\n",
       "preço_manutenção    object\n",
       "portas               int64\n",
       "pessoas             object\n",
       "porta-malas         object\n",
       "segurança           object\n",
       "classe              object\n",
       "dtype: object"
      ]
     },
     "execution_count": 4,
     "metadata": {},
     "output_type": "execute_result"
    }
   ],
   "source": [
    "# Escreva seu código aqui\n",
    "dfc.dtypes"
   ]
  },
  {
   "cell_type": "markdown",
   "id": "3059fe5d",
   "metadata": {},
   "source": [
    "## 3. Do ponto de vista estatístico, como se comporta o atributo 'portas' (maior valor, menor valor etc.)?  "
   ]
  },
  {
   "cell_type": "code",
   "execution_count": 5,
   "id": "0545f58b-993a-49ee-8c53-e067d3382775",
   "metadata": {
    "tags": []
   },
   "outputs": [
    {
     "data": {
      "text/plain": [
       "count    1728.000000\n",
       "mean        3.567130\n",
       "std         1.257799\n",
       "min         2.000000\n",
       "25%         2.750000\n",
       "50%         3.500000\n",
       "75%         4.250000\n",
       "max         7.000000\n",
       "Name: portas, dtype: float64"
      ]
     },
     "execution_count": 5,
     "metadata": {},
     "output_type": "execute_result"
    }
   ],
   "source": [
    "# Escreva seu código aqui\n",
    "dfc['portas'].describe()"
   ]
  },
  {
   "cell_type": "markdown",
   "id": "6d9250db",
   "metadata": {},
   "source": [
    "## 4. Quantos valores diferentes encontramos no atributo ‘porta_malas’?"
   ]
  },
  {
   "cell_type": "code",
   "execution_count": 6,
   "id": "bb824b9e-1320-4967-a82c-7d2a95572e8b",
   "metadata": {
    "tags": []
   },
   "outputs": [
    {
     "data": {
      "text/plain": [
       "porta-malas\n",
       "pequeno    576\n",
       "med        576\n",
       "grande     576\n",
       "Name: count, dtype: int64"
      ]
     },
     "execution_count": 6,
     "metadata": {},
     "output_type": "execute_result"
    }
   ],
   "source": [
    "# Escreva seu código aqui\n",
    "dfc['porta-malas'].value_counts()"
   ]
  },
  {
   "cell_type": "markdown",
   "id": "d34afbd8",
   "metadata": {},
   "source": [
    "Considerando que para treinarmos uma rede neural (criarmos um modelo) para prever se um dado modelo de veículo terá uma boa aceitação no mercado, os dados devem estar rotulados como: 'aceito' e 'n_aceito'. \n",
    "\n",
    "## 5. Os dados atuais atendem esse requisito?"
   ]
  },
  {
   "cell_type": "code",
   "execution_count": 7,
   "id": "16802b86-fc42-4387-925c-a652a654c6f8",
   "metadata": {
    "tags": []
   },
   "outputs": [
    {
     "data": {
      "text/plain": [
       "classe\n",
       "n_aceito    1210\n",
       "aceito       384\n",
       "bom           69\n",
       "m_bom         65\n",
       "Name: count, dtype: int64"
      ]
     },
     "execution_count": 7,
     "metadata": {},
     "output_type": "execute_result"
    }
   ],
   "source": [
    "# Escreva seu código aqui\n",
    "dfc['classe'].value_counts()"
   ]
  },
  {
   "cell_type": "markdown",
   "id": "a79891c6-1791-45be-a60a-5dc69f900ab1",
   "metadata": {},
   "source": [
    "Não é aceito pois existem dados que estão fora das opções aceitas as quais são: 'aceito' e 'n_aceito'"
   ]
  },
  {
   "cell_type": "markdown",
   "id": "99f818b8",
   "metadata": {},
   "source": [
    "## 6. Existe alguma discrepância no atributo portas?\n",
    "\n",
    "Dica: use um gráfico de caixa."
   ]
  },
  {
   "cell_type": "code",
   "execution_count": 8,
   "id": "ba835334",
   "metadata": {
    "tags": []
   },
   "outputs": [],
   "source": [
    "# Escreva seu código aqui\n",
    "import matplotlib.pyplot as plt\n",
    "import numpy as np\n",
    "%matplotlib inline"
   ]
  },
  {
   "cell_type": "code",
   "execution_count": 24,
   "id": "63b93da1",
   "metadata": {},
   "outputs": [],
   "source": [
    "pequeno   = []\n",
    "med       = []\n",
    "grande    = []\n",
    "# portamala = []\n",
    "for tm in dfc['porta-malas']:\n",
    "#     portamala.append(1)\n",
    "    if tm == 'pequeno':\n",
    "        pequeno.append(1)\n",
    "        med.append(0)\n",
    "        grande.append(0)\n",
    "    if tm == 'med':\n",
    "        pequeno.append(0)\n",
    "        med.append(1)\n",
    "        grande.append(0)\n",
    "    if tm == 'grande':\n",
    "        pequeno.append(0)\n",
    "        med.append(0)\n",
    "        grande.append(1)"
   ]
  },
  {
   "cell_type": "code",
   "execution_count": 25,
   "id": "7bc63a1a-9e57-48ac-bdc9-00aadfd4c527",
   "metadata": {
    "tags": []
   },
   "outputs": [
    {
     "data": {
      "text/plain": [
       "{'whiskers': [<matplotlib.lines.Line2D at 0x7f13f592d540>,\n",
       "  <matplotlib.lines.Line2D at 0x7f13f592d7e0>,\n",
       "  <matplotlib.lines.Line2D at 0x7f13f592e7a0>,\n",
       "  <matplotlib.lines.Line2D at 0x7f13f592ea40>,\n",
       "  <matplotlib.lines.Line2D at 0x7f13f592fa00>,\n",
       "  <matplotlib.lines.Line2D at 0x7f13f592fca0>],\n",
       " 'caps': [<matplotlib.lines.Line2D at 0x7f13f592da80>,\n",
       "  <matplotlib.lines.Line2D at 0x7f13f592dd20>,\n",
       "  <matplotlib.lines.Line2D at 0x7f13f592ece0>,\n",
       "  <matplotlib.lines.Line2D at 0x7f13f592ef80>,\n",
       "  <matplotlib.lines.Line2D at 0x7f13f592ff40>,\n",
       "  <matplotlib.lines.Line2D at 0x7f13f5968220>],\n",
       " 'boxes': [<matplotlib.lines.Line2D at 0x7f1400acfdc0>,\n",
       "  <matplotlib.lines.Line2D at 0x7f13f592e500>,\n",
       "  <matplotlib.lines.Line2D at 0x7f13f592f760>],\n",
       " 'medians': [<matplotlib.lines.Line2D at 0x7f13f592dfc0>,\n",
       "  <matplotlib.lines.Line2D at 0x7f13f592f220>,\n",
       "  <matplotlib.lines.Line2D at 0x7f13f59684c0>],\n",
       " 'fliers': [<matplotlib.lines.Line2D at 0x7f13f592e260>,\n",
       "  <matplotlib.lines.Line2D at 0x7f13f592f4c0>,\n",
       "  <matplotlib.lines.Line2D at 0x7f13f5968760>],\n",
       " 'means': []}"
      ]
     },
     "execution_count": 25,
     "metadata": {},
     "output_type": "execute_result"
    },
    {
     "data": {
      "image/png": "[encoded data removed]",
      "text/plain": [
       "<Figure size 640x480 with 1 Axes>"
      ]
     },
     "metadata": {},
     "output_type": "display_data"
    }
   ],
   "source": [
    "plt.boxplot([pequeno,med,grande])"
   ]
  },
  {
   "cell_type": "markdown",
   "id": "323e2c43",
   "metadata": {},
   "source": [
    "## 7. Analisando o alvo (target)\n",
    "\n",
    "Que informações você consegue obter analisando o target?"
   ]
  },
  {
   "cell_type": "code",
   "execution_count": null,
   "id": "1e1ef3dd",
   "metadata": {
    "tags": []
   },
   "outputs": [],
   "source": [
    "# Escreva seu código aqui"
   ]
  },
  {
   "cell_type": "code",
   "execution_count": null,
   "id": "822849af-bcaa-43f4-b40e-b455533eaf52",
   "metadata": {},
   "outputs": [],
   "source": []
  }
 ],
 "metadata": {
  "kernelspec": {
   "display_name": "Python 3 (ipykernel)",
   "language": "python",
   "name": "python3"
  },
  "language_info": {
   "codemirror_mode": {
    "name": "ipython",
    "version": 3
   },
   "file_extension": ".py",
   "mimetype": "text/x-python",
   "name": "python",
   "nbconvert_exporter": "python",
   "pygments_lexer": "ipython3",
   "version": "3.10.11"
  }
 },
 "nbformat": 4,
 "nbformat_minor": 5
}
